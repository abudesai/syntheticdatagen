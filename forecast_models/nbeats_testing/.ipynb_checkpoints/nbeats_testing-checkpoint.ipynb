{
 "cells": [
  {
   "cell_type": "code",
   "execution_count": 20,
   "metadata": {},
   "outputs": [
    {
     "name": "stdout",
     "output_type": "stream",
     "text": [
      "Requirement already satisfied: matplotlib in /usr/local/lib/python3.7/site-packages (3.4.3)\n",
      "Requirement already satisfied: kiwisolver>=1.0.1 in /usr/local/lib/python3.7/site-packages (from matplotlib) (1.3.1)\n",
      "Requirement already satisfied: pyparsing>=2.2.1 in /usr/local/lib/python3.7/site-packages (from matplotlib) (2.4.7)\n",
      "Requirement already satisfied: pillow>=6.2.0 in /usr/local/lib/python3.7/site-packages (from matplotlib) (8.2.0)\n",
      "Requirement already satisfied: cycler>=0.10 in /usr/local/lib/python3.7/site-packages (from matplotlib) (0.10.0)\n",
      "Requirement already satisfied: python-dateutil>=2.7 in /usr/local/lib/python3.7/site-packages (from matplotlib) (2.8.1)\n",
      "Requirement already satisfied: numpy>=1.16 in /usr/local/lib/python3.7/site-packages (from matplotlib) (1.18.5)\n",
      "Requirement already satisfied: six in /usr/local/lib/python3.7/site-packages (from cycler>=0.10->matplotlib) (1.15.0)\n",
      "\u001b[33mWARNING: Running pip as root will break packages and permissions. You should install packages reliably by using venv: https://pip.pypa.io/warnings/venv\u001b[0m\n",
      "\u001b[33mWARNING: You are using pip version 21.1.1; however, version 21.2.3 is available.\n",
      "You should consider upgrading via the '/usr/local/bin/python3.7 -m pip install --upgrade pip' command.\u001b[0m\n"
     ]
    }
   ],
   "source": [
    "!pip install matplotlib\n",
    "#!pip install keras"
   ]
  },
  {
   "cell_type": "code",
   "execution_count": 1,
   "metadata": {},
   "outputs": [],
   "source": [
    "import warnings, os\n",
    "import numpy as np, pandas as pd\n",
    "import time\n",
    "import sys\n",
    "from tensorflow.keras.callbacks import ModelCheckpoint,Callback,LearningRateScheduler, EarlyStopping, CSVLogger, ReduceLROnPlateau\n",
    "\n",
    "from tensorflow.keras.optimizers import Adam\n",
    "from nbeats_model import NBeatsNet as NBeatsNet\n",
    "warnings.filterwarnings(action='ignore', message='Setting attributes')\n",
    "import tensorflow as tf\n",
    "from sklearn.metrics import mean_absolute_error, mean_squared_error, r2_score\n",
    "import matplotlib.pyplot as plt\n",
    "from datetime import timedelta\n",
    "from sklearn.metrics import mean_squared_error, r2_score,  mean_absolute_error\n",
    "\n",
    "from utils import MissingTimeIntervalFiller, TSMinMaxScaler, DailyAggregator, generate_sine_data"
   ]
  },
  {
   "cell_type": "markdown",
   "metadata": {},
   "source": [
    "### Process\n",
    "\n",
    "1) Read synthetic data </br>\n",
    "2) preprocess data: </br>\n",
    "- Filter data to given dim (# of features) </br>\n",
    "- \n"
   ]
  },
  {
   "cell_type": "markdown",
   "metadata": {},
   "source": [
    "# Download synthetic data"
   ]
  },
  {
   "cell_type": "code",
   "execution_count": 2,
   "metadata": {},
   "outputs": [],
   "source": [
    "pretraining_full_dir_path = 's3://verint-sagemaker-data-gen-project/abu_synthetic/prior_synthetic_data/synthetic_history_daily_5.parquet'\n",
    "local_file = './data/synthetic_history_daily_5.parquet'"
   ]
  },
  {
   "cell_type": "code",
   "execution_count": null,
   "metadata": {},
   "outputs": [],
   "source": [
    "\n",
    "# pretraining_full_dir_path = 's3://verint-sagemaker-data-gen-project/abu_synthetic/DS_2_Baseline_unchanged_params_dim28_3years/processed_history_daily.csv'\n",
    "# local_file = './data/synthetic_data.csv'\n",
    "\n",
    "# pretraining_full_dir_path = 's3://verint-sagemaker-data-gen-project/abu_synthetic/DS_3_Baseline_unchanged_params_include_weekend_open/processed_history_daily.csv'\n",
    "# local_file = './data/synthetic_data2.csv'"
   ]
  },
  {
   "cell_type": "code",
   "execution_count": 3,
   "metadata": {},
   "outputs": [
    {
     "name": "stdout",
     "output_type": "stream",
     "text": [
      "download: s3://verint-sagemaker-data-gen-project/abu_synthetic/prior_synthetic_data/synthetic_history_daily_5.parquet to data/synthetic_history_daily_5.parquet\n"
     ]
    }
   ],
   "source": [
    "!aws s3 cp $pretraining_full_dir_path $local_file"
   ]
  },
  {
   "cell_type": "markdown",
   "metadata": {},
   "source": [
    "# Read synthetic data as dataframe"
   ]
  },
  {
   "cell_type": "code",
   "execution_count": 4,
   "metadata": {},
   "outputs": [
    {
     "data": {
      "text/html": [
       "<div>\n",
       "<style scoped>\n",
       "    .dataframe tbody tr th:only-of-type {\n",
       "        vertical-align: middle;\n",
       "    }\n",
       "\n",
       "    .dataframe tbody tr th {\n",
       "        vertical-align: top;\n",
       "    }\n",
       "\n",
       "    .dataframe thead th {\n",
       "        text-align: right;\n",
       "    }\n",
       "</style>\n",
       "<table border=\"1\" class=\"dataframe\">\n",
       "  <thead>\n",
       "    <tr style=\"text-align: right;\">\n",
       "      <th></th>\n",
       "      <th>seriesid</th>\n",
       "      <th>epoch</th>\n",
       "      <th>v_0</th>\n",
       "    </tr>\n",
       "  </thead>\n",
       "  <tbody>\n",
       "    <tr>\n",
       "      <th>0</th>\n",
       "      <td>Org_4_0_28269</td>\n",
       "      <td>2013-01-01</td>\n",
       "      <td>0.00</td>\n",
       "    </tr>\n",
       "    <tr>\n",
       "      <th>1</th>\n",
       "      <td>Org_4_0_28269</td>\n",
       "      <td>2013-01-02</td>\n",
       "      <td>3.27</td>\n",
       "    </tr>\n",
       "    <tr>\n",
       "      <th>2</th>\n",
       "      <td>Org_4_0_28269</td>\n",
       "      <td>2013-01-03</td>\n",
       "      <td>36.96</td>\n",
       "    </tr>\n",
       "    <tr>\n",
       "      <th>3</th>\n",
       "      <td>Org_4_0_28269</td>\n",
       "      <td>2013-01-04</td>\n",
       "      <td>0.46</td>\n",
       "    </tr>\n",
       "    <tr>\n",
       "      <th>4</th>\n",
       "      <td>Org_4_0_28269</td>\n",
       "      <td>2013-01-07</td>\n",
       "      <td>19.46</td>\n",
       "    </tr>\n",
       "  </tbody>\n",
       "</table>\n",
       "</div>"
      ],
      "text/plain": [
       "        seriesid      epoch    v_0\n",
       "0  Org_4_0_28269 2013-01-01   0.00\n",
       "1  Org_4_0_28269 2013-01-02   3.27\n",
       "2  Org_4_0_28269 2013-01-03  36.96\n",
       "3  Org_4_0_28269 2013-01-04   0.46\n",
       "4  Org_4_0_28269 2013-01-07  19.46"
      ]
     },
     "execution_count": 4,
     "metadata": {},
     "output_type": "execute_result"
    }
   ],
   "source": [
    "orig_syn_data = pd.read_parquet(local_file)\n",
    "orig_syn_data['ts'] = pd.to_datetime(orig_syn_data['ts'])\n",
    "orig_syn_data = orig_syn_data[['seriesid', 'ts', 'v']]\n",
    "orig_syn_data.rename(columns={ 'ts': 'epoch', 'v': 'v_0'}, inplace=True)\n",
    "orig_syn_data.head()\n",
    "\n",
    "\n",
    "# orig_syn_data = pd.read_csv(local_file, parse_dates=['epoch'])\n",
    "# print(orig_syn_data.shape)\n",
    "# orig_syn_data.head()"
   ]
  },
  {
   "cell_type": "code",
   "execution_count": 5,
   "metadata": {},
   "outputs": [
    {
     "data": {
      "text/plain": [
       "epoch\n",
       "2013-01-01          0.00\n",
       "2013-01-02    3088745.49\n",
       "2013-01-03    1372519.96\n",
       "2013-01-04    1221999.18\n",
       "2013-01-05     633168.63\n",
       "Name: v_0, dtype: float64"
      ]
     },
     "execution_count": 5,
     "metadata": {},
     "output_type": "execute_result"
    }
   ],
   "source": [
    "daily_vol = orig_syn_data.groupby(['epoch'])['v_0'].sum()\n",
    "daily_vol.head()"
   ]
  },
  {
   "cell_type": "code",
   "execution_count": 6,
   "metadata": {},
   "outputs": [
    {
     "data": {
      "text/plain": [
       "<AxesSubplot:xlabel='epoch'>"
      ]
     },
     "execution_count": 6,
     "metadata": {},
     "output_type": "execute_result"
    },
    {
     "data": {
      "image/png": "[encoded data removed]",
      "text/plain": [
       "<Figure size 432x288 with 1 Axes>"
      ]
     },
     "metadata": {
      "needs_background": "light"
     },
     "output_type": "display_data"
    }
   ],
   "source": [
    "daily_vol[-600:].plot()"
   ]
  },
  {
   "cell_type": "markdown",
   "metadata": {},
   "source": [
    "# Preprocess synthetic data"
   ]
  },
  {
   "cell_type": "code",
   "execution_count": 7,
   "metadata": {},
   "outputs": [],
   "source": [
    "backcast_length=19\n",
    "forecast_length=5\n",
    "seq_len = backcast_length + forecast_length\n",
    "\n",
    "input_dim = output_dim = 1\n",
    "\n",
    "N = 10000   #number of series\n",
    "\n",
    "ser_col = 'seriesid'\n",
    "time_col = 'epoch'\n",
    "val_col_pref = 'v_'\n",
    "exog_col_pref = '__xyz'\n",
    "\n",
    "\n",
    "scaler_upper_bound = 100."
   ]
  },
  {
   "cell_type": "markdown",
   "metadata": {},
   "source": [
    "### Keep Required Input Dims"
   ]
  },
  {
   "cell_type": "code",
   "execution_count": 8,
   "metadata": {},
   "outputs": [
    {
     "name": "stdout",
     "output_type": "stream",
     "text": [
      "(5782824, 3)\n"
     ]
    },
    {
     "data": {
      "text/html": [
       "<div>\n",
       "<style scoped>\n",
       "    .dataframe tbody tr th:only-of-type {\n",
       "        vertical-align: middle;\n",
       "    }\n",
       "\n",
       "    .dataframe tbody tr th {\n",
       "        vertical-align: top;\n",
       "    }\n",
       "\n",
       "    .dataframe thead th {\n",
       "        text-align: right;\n",
       "    }\n",
       "</style>\n",
       "<table border=\"1\" class=\"dataframe\">\n",
       "  <thead>\n",
       "    <tr style=\"text-align: right;\">\n",
       "      <th></th>\n",
       "      <th>seriesid</th>\n",
       "      <th>epoch</th>\n",
       "      <th>v_0</th>\n",
       "    </tr>\n",
       "  </thead>\n",
       "  <tbody>\n",
       "    <tr>\n",
       "      <th>0</th>\n",
       "      <td>Org_4_0_28269</td>\n",
       "      <td>2013-01-01</td>\n",
       "      <td>0.00</td>\n",
       "    </tr>\n",
       "    <tr>\n",
       "      <th>1</th>\n",
       "      <td>Org_4_0_28269</td>\n",
       "      <td>2013-01-02</td>\n",
       "      <td>3.27</td>\n",
       "    </tr>\n",
       "    <tr>\n",
       "      <th>2</th>\n",
       "      <td>Org_4_0_28269</td>\n",
       "      <td>2013-01-03</td>\n",
       "      <td>36.96</td>\n",
       "    </tr>\n",
       "    <tr>\n",
       "      <th>3</th>\n",
       "      <td>Org_4_0_28269</td>\n",
       "      <td>2013-01-04</td>\n",
       "      <td>0.46</td>\n",
       "    </tr>\n",
       "    <tr>\n",
       "      <th>4</th>\n",
       "      <td>Org_4_0_28269</td>\n",
       "      <td>2013-01-07</td>\n",
       "      <td>19.46</td>\n",
       "    </tr>\n",
       "  </tbody>\n",
       "</table>\n",
       "</div>"
      ],
      "text/plain": [
       "        seriesid      epoch    v_0\n",
       "0  Org_4_0_28269 2013-01-01   0.00\n",
       "1  Org_4_0_28269 2013-01-02   3.27\n",
       "2  Org_4_0_28269 2013-01-03  36.96\n",
       "3  Org_4_0_28269 2013-01-04   0.46\n",
       "4  Org_4_0_28269 2013-01-07  19.46"
      ]
     },
     "execution_count": 8,
     "metadata": {},
     "output_type": "execute_result"
    }
   ],
   "source": [
    "target_v_cols = [ f'{val_col_pref}{i}' for i in range(input_dim) ]\n",
    "del_cols = [ c for c in orig_syn_data.columns if c.startswith(val_col_pref) and c not in target_v_cols ]\n",
    "data = orig_syn_data.drop(del_cols, axis=1)\n",
    "print(data.shape)\n",
    "data.head()"
   ]
  },
  {
   "cell_type": "markdown",
   "metadata": {},
   "source": [
    "### Aggregate at Daily Level"
   ]
  },
  {
   "cell_type": "code",
   "execution_count": 9,
   "metadata": {},
   "outputs": [
    {
     "name": "stdout",
     "output_type": "stream",
     "text": [
      "(5771563, 3)\n"
     ]
    },
    {
     "data": {
      "text/html": [
       "<div>\n",
       "<style scoped>\n",
       "    .dataframe tbody tr th:only-of-type {\n",
       "        vertical-align: middle;\n",
       "    }\n",
       "\n",
       "    .dataframe tbody tr th {\n",
       "        vertical-align: top;\n",
       "    }\n",
       "\n",
       "    .dataframe thead th {\n",
       "        text-align: right;\n",
       "    }\n",
       "</style>\n",
       "<table border=\"1\" class=\"dataframe\">\n",
       "  <thead>\n",
       "    <tr style=\"text-align: right;\">\n",
       "      <th></th>\n",
       "      <th>seriesid</th>\n",
       "      <th>epoch</th>\n",
       "      <th>v_0</th>\n",
       "    </tr>\n",
       "  </thead>\n",
       "  <tbody>\n",
       "    <tr>\n",
       "      <th>0</th>\n",
       "      <td>Org_4_0_10760</td>\n",
       "      <td>2013-01-01</td>\n",
       "      <td>0.00</td>\n",
       "    </tr>\n",
       "    <tr>\n",
       "      <th>1</th>\n",
       "      <td>Org_4_0_10760</td>\n",
       "      <td>2013-01-02</td>\n",
       "      <td>1286.57</td>\n",
       "    </tr>\n",
       "    <tr>\n",
       "      <th>2</th>\n",
       "      <td>Org_4_0_10760</td>\n",
       "      <td>2013-01-03</td>\n",
       "      <td>1166.01</td>\n",
       "    </tr>\n",
       "    <tr>\n",
       "      <th>3</th>\n",
       "      <td>Org_4_0_10760</td>\n",
       "      <td>2013-01-04</td>\n",
       "      <td>9.93</td>\n",
       "    </tr>\n",
       "    <tr>\n",
       "      <th>4</th>\n",
       "      <td>Org_4_0_10760</td>\n",
       "      <td>2013-01-05</td>\n",
       "      <td>517.64</td>\n",
       "    </tr>\n",
       "  </tbody>\n",
       "</table>\n",
       "</div>"
      ],
      "text/plain": [
       "        seriesid      epoch      v_0\n",
       "0  Org_4_0_10760 2013-01-01     0.00\n",
       "1  Org_4_0_10760 2013-01-02  1286.57\n",
       "2  Org_4_0_10760 2013-01-03  1166.01\n",
       "3  Org_4_0_10760 2013-01-04     9.93\n",
       "4  Org_4_0_10760 2013-01-05   517.64"
      ]
     },
     "execution_count": 9,
     "metadata": {},
     "output_type": "execute_result"
    }
   ],
   "source": [
    "agg = DailyAggregator(\n",
    "    id_columns = ser_col,\n",
    "    time_column = time_col, \n",
    "    value_col_prefix = val_col_pref,\n",
    "    exog_col_prefix = exog_col_pref,\n",
    ")\n",
    "data = agg.transform(data)\n",
    "print(data.shape)\n",
    "data.head()"
   ]
  },
  {
   "cell_type": "markdown",
   "metadata": {},
   "source": [
    "### Fill All Missing dates"
   ]
  },
  {
   "cell_type": "code",
   "execution_count": 10,
   "metadata": {},
   "outputs": [
    {
     "name": "stdout",
     "output_type": "stream",
     "text": [
      "(7195243, 3)\n"
     ]
    },
    {
     "data": {
      "text/html": [
       "<div>\n",
       "<style scoped>\n",
       "    .dataframe tbody tr th:only-of-type {\n",
       "        vertical-align: middle;\n",
       "    }\n",
       "\n",
       "    .dataframe tbody tr th {\n",
       "        vertical-align: top;\n",
       "    }\n",
       "\n",
       "    .dataframe thead th {\n",
       "        text-align: right;\n",
       "    }\n",
       "</style>\n",
       "<table border=\"1\" class=\"dataframe\">\n",
       "  <thead>\n",
       "    <tr style=\"text-align: right;\">\n",
       "      <th></th>\n",
       "      <th>seriesid</th>\n",
       "      <th>epoch</th>\n",
       "      <th>v_0</th>\n",
       "    </tr>\n",
       "  </thead>\n",
       "  <tbody>\n",
       "    <tr>\n",
       "      <th>0</th>\n",
       "      <td>Org_4_0_10760</td>\n",
       "      <td>2013-01-01</td>\n",
       "      <td>0.00</td>\n",
       "    </tr>\n",
       "    <tr>\n",
       "      <th>1</th>\n",
       "      <td>Org_4_0_10760</td>\n",
       "      <td>2013-01-02</td>\n",
       "      <td>1286.57</td>\n",
       "    </tr>\n",
       "    <tr>\n",
       "      <th>2</th>\n",
       "      <td>Org_4_0_10760</td>\n",
       "      <td>2013-01-03</td>\n",
       "      <td>1166.01</td>\n",
       "    </tr>\n",
       "    <tr>\n",
       "      <th>3</th>\n",
       "      <td>Org_4_0_10760</td>\n",
       "      <td>2013-01-04</td>\n",
       "      <td>9.93</td>\n",
       "    </tr>\n",
       "    <tr>\n",
       "      <th>4</th>\n",
       "      <td>Org_4_0_10760</td>\n",
       "      <td>2013-01-05</td>\n",
       "      <td>517.64</td>\n",
       "    </tr>\n",
       "  </tbody>\n",
       "</table>\n",
       "</div>"
      ],
      "text/plain": [
       "        seriesid      epoch      v_0\n",
       "0  Org_4_0_10760 2013-01-01     0.00\n",
       "1  Org_4_0_10760 2013-01-02  1286.57\n",
       "2  Org_4_0_10760 2013-01-03  1166.01\n",
       "3  Org_4_0_10760 2013-01-04     9.93\n",
       "4  Org_4_0_10760 2013-01-05   517.64"
      ]
     },
     "execution_count": 10,
     "metadata": {},
     "output_type": "execute_result"
    }
   ],
   "source": [
    "date_filler = MissingTimeIntervalFiller(\n",
    "    id_columns = ser_col,\n",
    "    time_column = time_col,\n",
    "    value_col_prefix = val_col_pref,\n",
    "    time_unit = MissingTimeIntervalFiller.DAYS,\n",
    "    step_size = 1,\n",
    "    fill_na_val = 0.\n",
    ")\n",
    "\n",
    "data = date_filler.transform(data)\n",
    "print(data.shape)\n",
    "data.head()"
   ]
  },
  {
   "cell_type": "markdown",
   "metadata": {},
   "source": [
    "### Convert to (N, T, D) tensor"
   ]
  },
  {
   "cell_type": "code",
   "execution_count": 11,
   "metadata": {},
   "outputs": [
    {
     "data": {
      "text/plain": [
       "(3287, 2189, 1)"
      ]
     },
     "execution_count": 11,
     "metadata": {},
     "output_type": "execute_result"
    }
   ],
   "source": [
    "def convert_to_3d_tensor(data):\n",
    "    n_epochs = data[time_col].nunique()\n",
    "    n_ser = data[ser_col].nunique()\n",
    "    v_cols = [ c for c in data.columns if c.startswith(val_col_pref) ]\n",
    "    n_val_cols = len(v_cols)\n",
    "    \n",
    "    data_arr = data[v_cols].values\n",
    "    data_arr = data_arr.reshape((n_ser, n_epochs, n_val_cols))\n",
    "    return data_arr\n",
    "\n",
    "data_3d = convert_to_3d_tensor(data)\n",
    "data_3d.shape"
   ]
  },
  {
   "cell_type": "markdown",
   "metadata": {},
   "source": [
    "### Create subsampled series"
   ]
  },
  {
   "cell_type": "code",
   "execution_count": 12,
   "metadata": {},
   "outputs": [
    {
     "data": {
      "text/plain": [
       "(65740, 24, 1)"
      ]
     },
     "execution_count": 12,
     "metadata": {},
     "output_type": "execute_result"
    }
   ],
   "source": [
    "num_reps = 20\n",
    "\n",
    "N, T, D = data_3d.shape\n",
    "\n",
    "sampled_data = []\n",
    "for _ in range(num_reps):\n",
    "    for i in range(N):\n",
    "        rand_idx = np.random.randint(0, T - seq_len)\n",
    "        sampled_data.append( np.expand_dims( data_3d[i, rand_idx: rand_idx + seq_len, :] , axis=0 ) )        \n",
    "\n",
    "sampled_data = np.concatenate(sampled_data, axis=0)\n",
    "sampled_data.shape"
   ]
  },
  {
   "cell_type": "markdown",
   "metadata": {},
   "source": [
    "### Add reversed series for training"
   ]
  },
  {
   "cell_type": "code",
   "execution_count": 13,
   "metadata": {},
   "outputs": [
    {
     "data": {
      "text/plain": [
       "(131480, 24, 1)"
      ]
     },
     "execution_count": 13,
     "metadata": {},
     "output_type": "execute_result"
    }
   ],
   "source": [
    "sampled_data = np.concatenate([sampled_data, np.flip(sampled_data, axis=1)], axis=0)\n",
    "sampled_data.shape"
   ]
  },
  {
   "cell_type": "markdown",
   "metadata": {},
   "source": [
    "### Min Max Scale Synthetic Data"
   ]
  },
  {
   "cell_type": "code",
   "execution_count": 14,
   "metadata": {},
   "outputs": [
    {
     "name": "stdout",
     "output_type": "stream",
     "text": [
      "(131480, 24, 1)\n"
     ]
    }
   ],
   "source": [
    "min_max_scaler = TSMinMaxScaler(\n",
    "    forecast_len = forecast_length,\n",
    "    input_dim = input_dim,\n",
    "    upper_bound = scaler_upper_bound\n",
    ")\n",
    "\n",
    "scaled_data = min_max_scaler.fit_transform(sampled_data)\n",
    "print(scaled_data.shape)"
   ]
  },
  {
   "cell_type": "markdown",
   "metadata": {},
   "source": [
    "### Shuffle"
   ]
  },
  {
   "cell_type": "code",
   "execution_count": 15,
   "metadata": {},
   "outputs": [
    {
     "data": {
      "text/plain": [
       "(131480, 24, 1)"
      ]
     },
     "execution_count": 15,
     "metadata": {},
     "output_type": "execute_result"
    }
   ],
   "source": [
    "syn_data = scaled_data.copy()\n",
    "np.random.shuffle(syn_data)\n",
    "syn_data.shape"
   ]
  },
  {
   "cell_type": "markdown",
   "metadata": {},
   "source": [
    "# Get Domain Data"
   ]
  },
  {
   "cell_type": "code",
   "execution_count": 17,
   "metadata": {},
   "outputs": [
    {
     "name": "stdout",
     "output_type": "stream",
     "text": [
      "real data shape: (131480, 24, 1)\n"
     ]
    }
   ],
   "source": [
    "# load the generated data -- Sines -- TimeGAN\n",
    "sine_data = generate_sine_data(*syn_data.shape)\n",
    "sine_data = np.asarray(sine_data)\n",
    "print(\"real data shape:\", sine_data.shape) # (no, seq_len, dim)"
   ]
  },
  {
   "cell_type": "code",
   "execution_count": null,
   "metadata": {},
   "outputs": [],
   "source": [
    "scaler_upper_bound"
   ]
  }
 ],
 "metadata": {
  "instance_type": "ml.g4dn.xlarge",
  "kernelspec": {
   "display_name": "Python 3",
   "language": "python",
   "name": "python3"
  },
  "language_info": {
   "codemirror_mode": {
    "name": "ipython",
    "version": 3
   },
   "file_extension": ".py",
   "mimetype": "text/x-python",
   "name": "python",
   "nbconvert_exporter": "python",
   "pygments_lexer": "ipython3",
   "version": "3.8.3"
  }
 },
 "nbformat": 4,
 "nbformat_minor": 4
}
