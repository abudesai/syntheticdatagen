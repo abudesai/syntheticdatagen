{
 "cells": [
  {
   "cell_type": "code",
   "execution_count": 533,
   "metadata": {},
   "outputs": [],
   "source": [
    "import warnings, os\n",
    "os.environ['TF_CPP_MIN_LOG_LEVEL'] = '3'  # or any {'0', '1', '2'}\n",
    "warnings.filterwarnings('ignore') \n",
    "\n",
    "import numpy as np, pandas as pd\n",
    "from datetime import datetime\n",
    "import time\n",
    "import sys\n",
    "from tensorflow.keras.callbacks import ModelCheckpoint,Callback,LearningRateScheduler, EarlyStopping, CSVLogger, ReduceLROnPlateau\n",
    "\n",
    "from tensorflow.keras.optimizers import Adam\n",
    "from nbeats_model import NBeatsNet as NBeatsNet\n",
    "warnings.filterwarnings(action='ignore', message='Setting attributes')\n",
    "import tensorflow as tf\n",
    "from sklearn.metrics import mean_absolute_error, mean_squared_error, r2_score\n",
    "import matplotlib.pyplot as plt\n",
    "from datetime import timedelta\n",
    "from sklearn.metrics import mean_squared_error, r2_score,  mean_absolute_error\n",
    "\n",
    "from utils import TSMinMaxScaler, DailyAggregator, generate_sine_data, MinMaxScaler_Feat_Dim"
   ]
  },
  {
   "cell_type": "markdown",
   "metadata": {},
   "source": [
    "# Load Data"
   ]
  },
  {
   "cell_type": "code",
   "execution_count": 534,
   "metadata": {},
   "outputs": [
    {
     "name": "stdout",
     "output_type": "stream",
     "text": [
      "data shape: 3477 24 6\n"
     ]
    }
   ],
   "source": [
    "data_dir = './data/'\n",
    "dataset = 'energy'            # sine, stocks, energy\n",
    "perc = 5                    # 5, 10, 20, 100\n",
    "train_on = 'generated_data'         # 'real_data', 'generated_data'\n",
    "vae_type = 'conv'\n",
    "\n",
    "input_file = f'{dataset}_subsampled_train_perc_{perc}.npy'\n",
    "\n",
    "data = np.load(data_dir + input_file)\n",
    "\n",
    "N, T, D = data.shape   \n",
    "print('data shape:', N, T, D) "
   ]
  },
  {
   "cell_type": "markdown",
   "metadata": {},
   "source": [
    "# Some variables"
   ]
  },
  {
   "cell_type": "code",
   "execution_count": 535,
   "metadata": {},
   "outputs": [],
   "source": [
    "backcast_length=20\n",
    "forecast_length=4\n",
    "seq_len = backcast_length + forecast_length\n",
    "\n",
    "input_dim = output_dim = D\n",
    "scaler_upper_bound = 5.\n",
    "scaler_lower_bound = -5."
   ]
  },
  {
   "cell_type": "markdown",
   "metadata": {},
   "source": [
    "# Train Validation Split In Samples On True Data"
   ]
  },
  {
   "cell_type": "code",
   "execution_count": 536,
   "metadata": {},
   "outputs": [
    {
     "name": "stdout",
     "output_type": "stream",
     "text": [
      "(3129, 24, 6) (348, 24, 6)\n"
     ]
    }
   ],
   "source": [
    "valid_perc = 0.1\n",
    "\n",
    "N_train = int(N * (1 - valid_perc))\n",
    "N_valid = N - N_train\n",
    "\n",
    "# Shuffle data\n",
    "np.random.shuffle(data)\n",
    "\n",
    "true_train_data = data[:N_train]\n",
    "true_valid_data = data[N_train:]\n",
    "\n",
    "print(true_train_data.shape, true_valid_data.shape )"
   ]
  },
  {
   "cell_type": "markdown",
   "metadata": {},
   "source": [
    "# Read synthetic data as dataframe"
   ]
  },
  {
   "cell_type": "code",
   "execution_count": 537,
   "metadata": {},
   "outputs": [],
   "source": [
    "#syn_train_data = true_train_data"
   ]
  },
  {
   "cell_type": "code",
   "execution_count": 538,
   "metadata": {},
   "outputs": [
    {
     "name": "stdout",
     "output_type": "stream",
     "text": [
      "(3129, 24, 6)\n"
     ]
    }
   ],
   "source": [
    "if train_on == 'real_data':\n",
    "    syn_train_data = true_train_data\n",
    "else: \n",
    "    fname = f'vae_{vae_type}_generated_{dataset}_subsampled_train_perc_{perc}.npy'\n",
    "    syn_train_data = np.load(data_dir + fname)\n",
    "print(syn_train_data.shape)"
   ]
  },
  {
   "cell_type": "markdown",
   "metadata": {},
   "source": [
    "# Define model train and validation sets"
   ]
  },
  {
   "cell_type": "code",
   "execution_count": 539,
   "metadata": {},
   "outputs": [
    {
     "name": "stdout",
     "output_type": "stream",
     "text": [
      "(3129, 24, 6) (348, 24, 6)\n"
     ]
    }
   ],
   "source": [
    "train_data = syn_train_data\n",
    "valid_data = true_valid_data\n",
    "\n",
    "print(train_data.shape,  valid_data.shape)"
   ]
  },
  {
   "cell_type": "markdown",
   "metadata": {},
   "source": [
    "# Preprocess synthetic data"
   ]
  },
  {
   "cell_type": "markdown",
   "metadata": {},
   "source": [
    "### Add reversed series for training"
   ]
  },
  {
   "cell_type": "code",
   "execution_count": 540,
   "metadata": {},
   "outputs": [
    {
     "data": {
      "text/plain": [
       "(6258, 24, 6)"
      ]
     },
     "execution_count": 540,
     "metadata": {},
     "output_type": "execute_result"
    }
   ],
   "source": [
    "train_data = np.concatenate([train_data, np.flip(train_data, axis=1)], axis=0)\n",
    "train_data.shape"
   ]
  },
  {
   "cell_type": "markdown",
   "metadata": {},
   "source": [
    "# Min Max Scale Training and Validation Data"
   ]
  },
  {
   "cell_type": "code",
   "execution_count": 541,
   "metadata": {},
   "outputs": [
    {
     "name": "stdout",
     "output_type": "stream",
     "text": [
      "(6258, 24, 6) (348, 24, 6)\n"
     ]
    }
   ],
   "source": [
    "train_data_scaler = TSMinMaxScaler(\n",
    "    scaling_len = backcast_length,\n",
    "    input_dim = input_dim,\n",
    "    upper_bound = scaler_upper_bound,\n",
    "    lower_bound = scaler_lower_bound\n",
    ")\n",
    "scaled_train_data = train_data_scaler.fit_transform(train_data)\n",
    "\n",
    "\n",
    "valid_data_scaler = TSMinMaxScaler(\n",
    "    scaling_len = backcast_length,\n",
    "    input_dim = input_dim,\n",
    "    upper_bound = scaler_upper_bound,\n",
    "    lower_bound = scaler_lower_bound\n",
    ")\n",
    "scaled_valid_data = valid_data_scaler.fit_transform(valid_data)\n",
    "\n",
    "print(scaled_train_data.shape, scaled_valid_data.shape)"
   ]
  },
  {
   "cell_type": "code",
   "execution_count": 542,
   "metadata": {},
   "outputs": [
    {
     "data": {
      "text/plain": [
       "(0.49859751000750696, 0.4927540182471254)"
      ]
     },
     "execution_count": 542,
     "metadata": {},
     "output_type": "execute_result"
    }
   ],
   "source": [
    "scaled_train_data.mean(), scaled_valid_data.mean()"
   ]
  },
  {
   "cell_type": "markdown",
   "metadata": {},
   "source": [
    "# X / Y Split"
   ]
  },
  {
   "cell_type": "code",
   "execution_count": 543,
   "metadata": {},
   "outputs": [
    {
     "name": "stdout",
     "output_type": "stream",
     "text": [
      "(6258, 20, 6) (6258, 4, 6) (348, 20, 6) (348, 4, 6)\n"
     ]
    }
   ],
   "source": [
    "x_train, y_train = scaled_train_data[:, :backcast_length], scaled_train_data[:, backcast_length:]\n",
    "x_valid, y_valid = scaled_valid_data[:, :backcast_length], scaled_valid_data[:, backcast_length:]\n",
    "\n",
    "print(x_train.shape, y_train.shape, x_valid.shape, y_valid.shape)"
   ]
  },
  {
   "cell_type": "code",
   "execution_count": 544,
   "metadata": {},
   "outputs": [
    {
     "name": "stdout",
     "output_type": "stream",
     "text": [
      "0.4832299477146427 0.5754353214718291 0.4802031092259 0.5555085633532528\n"
     ]
    }
   ],
   "source": [
    "print(x_train.mean(), y_train.mean(), x_valid.mean(), y_valid.mean())"
   ]
  },
  {
   "cell_type": "markdown",
   "metadata": {},
   "source": [
    "# Nbeats"
   ]
  },
  {
   "cell_type": "code",
   "execution_count": 545,
   "metadata": {},
   "outputs": [
    {
     "name": "stdout",
     "output_type": "stream",
     "text": [
      "-----------dim: 0----------------\n",
      "Training...\n",
      "\n",
      "Epoch 00001: val_loss improved from inf to 0.02819, saving model to ./model\\nBeats_stocks_dim_0.h5\n",
      "\n",
      "Epoch 00002: val_loss improved from 0.02819 to 0.01361, saving model to ./model\\nBeats_stocks_dim_0.h5\n",
      "\n",
      "Epoch 00003: val_loss improved from 0.01361 to 0.00832, saving model to ./model\\nBeats_stocks_dim_0.h5\n",
      "\n",
      "Epoch 00004: val_loss improved from 0.00832 to 0.00657, saving model to ./model\\nBeats_stocks_dim_0.h5\n",
      "\n",
      "Epoch 00005: val_loss improved from 0.00657 to 0.00579, saving model to ./model\\nBeats_stocks_dim_0.h5\n",
      "\n",
      "Epoch 00006: val_loss improved from 0.00579 to 0.00468, saving model to ./model\\nBeats_stocks_dim_0.h5\n",
      "\n",
      "Epoch 00007: val_loss improved from 0.00468 to 0.00371, saving model to ./model\\nBeats_stocks_dim_0.h5\n",
      "\n",
      "Epoch 00008: val_loss improved from 0.00371 to 0.00361, saving model to ./model\\nBeats_stocks_dim_0.h5\n",
      "\n",
      "Epoch 00009: val_loss improved from 0.00361 to 0.00323, saving model to ./model\\nBeats_stocks_dim_0.h5\n",
      "\n",
      "Epoch 00010: val_loss improved from 0.00323 to 0.00315, saving model to ./model\\nBeats_stocks_dim_0.h5\n",
      "\n",
      "Epoch 00011: val_loss improved from 0.00315 to 0.00278, saving model to ./model\\nBeats_stocks_dim_0.h5\n",
      "\n",
      "Epoch 00012: val_loss improved from 0.00278 to 0.00261, saving model to ./model\\nBeats_stocks_dim_0.h5\n",
      "\n",
      "Epoch 00013: val_loss improved from 0.00261 to 0.00239, saving model to ./model\\nBeats_stocks_dim_0.h5\n",
      "\n",
      "Epoch 00014: val_loss did not improve from 0.00239\n",
      "\n",
      "Epoch 00015: val_loss improved from 0.00239 to 0.00237, saving model to ./model\\nBeats_stocks_dim_0.h5\n",
      "\n",
      "Epoch 00016: val_loss improved from 0.00237 to 0.00227, saving model to ./model\\nBeats_stocks_dim_0.h5\n",
      "\n",
      "Epoch 00017: val_loss did not improve from 0.00227\n",
      "\n",
      "Epoch 00018: val_loss improved from 0.00227 to 0.00214, saving model to ./model\\nBeats_stocks_dim_0.h5\n",
      "\n",
      "Epoch 00019: val_loss improved from 0.00214 to 0.00211, saving model to ./model\\nBeats_stocks_dim_0.h5\n",
      "\n",
      "Epoch 00020: val_loss improved from 0.00211 to 0.00194, saving model to ./model\\nBeats_stocks_dim_0.h5\n",
      "-----------dim: 1----------------\n",
      "Training...\n",
      "\n",
      "Epoch 00001: val_loss improved from inf to 0.01372, saving model to ./model\\nBeats_stocks_dim_1.h5\n",
      "\n",
      "Epoch 00002: val_loss improved from 0.01372 to 0.00711, saving model to ./model\\nBeats_stocks_dim_1.h5\n",
      "\n",
      "Epoch 00003: val_loss improved from 0.00711 to 0.00486, saving model to ./model\\nBeats_stocks_dim_1.h5\n",
      "\n",
      "Epoch 00004: val_loss improved from 0.00486 to 0.00312, saving model to ./model\\nBeats_stocks_dim_1.h5\n",
      "\n",
      "Epoch 00005: val_loss did not improve from 0.00312\n",
      "\n",
      "Epoch 00006: val_loss improved from 0.00312 to 0.00225, saving model to ./model\\nBeats_stocks_dim_1.h5\n",
      "\n",
      "Epoch 00007: val_loss improved from 0.00225 to 0.00219, saving model to ./model\\nBeats_stocks_dim_1.h5\n",
      "\n",
      "Epoch 00008: val_loss improved from 0.00219 to 0.00159, saving model to ./model\\nBeats_stocks_dim_1.h5\n",
      "\n",
      "Epoch 00009: val_loss improved from 0.00159 to 0.00142, saving model to ./model\\nBeats_stocks_dim_1.h5\n",
      "\n",
      "Epoch 00010: val_loss improved from 0.00142 to 0.00128, saving model to ./model\\nBeats_stocks_dim_1.h5\n",
      "\n",
      "Epoch 00011: val_loss improved from 0.00128 to 0.00124, saving model to ./model\\nBeats_stocks_dim_1.h5\n",
      "\n",
      "Epoch 00012: val_loss improved from 0.00124 to 0.00108, saving model to ./model\\nBeats_stocks_dim_1.h5\n",
      "\n",
      "Epoch 00013: val_loss did not improve from 0.00108\n",
      "\n",
      "Epoch 00014: val_loss improved from 0.00108 to 0.00107, saving model to ./model\\nBeats_stocks_dim_1.h5\n",
      "\n",
      "Epoch 00015: val_loss improved from 0.00107 to 0.00096, saving model to ./model\\nBeats_stocks_dim_1.h5\n",
      "\n",
      "Epoch 00016: val_loss did not improve from 0.00096\n",
      "\n",
      "Epoch 00017: val_loss improved from 0.00096 to 0.00085, saving model to ./model\\nBeats_stocks_dim_1.h5\n",
      "\n",
      "Epoch 00018: val_loss improved from 0.00085 to 0.00084, saving model to ./model\\nBeats_stocks_dim_1.h5\n",
      "\n",
      "Epoch 00019: val_loss did not improve from 0.00084\n",
      "\n",
      "Epoch 00020: val_loss improved from 0.00084 to 0.00071, saving model to ./model\\nBeats_stocks_dim_1.h5\n",
      "-----------dim: 2----------------\n",
      "Training...\n",
      "\n",
      "Epoch 00001: val_loss improved from inf to 0.01179, saving model to ./model\\nBeats_stocks_dim_2.h5\n",
      "\n",
      "Epoch 00002: val_loss improved from 0.01179 to 0.00655, saving model to ./model\\nBeats_stocks_dim_2.h5\n",
      "\n",
      "Epoch 00003: val_loss improved from 0.00655 to 0.00464, saving model to ./model\\nBeats_stocks_dim_2.h5\n",
      "\n",
      "Epoch 00004: val_loss improved from 0.00464 to 0.00310, saving model to ./model\\nBeats_stocks_dim_2.h5\n",
      "\n",
      "Epoch 00005: val_loss did not improve from 0.00310\n",
      "\n",
      "Epoch 00006: val_loss improved from 0.00310 to 0.00224, saving model to ./model\\nBeats_stocks_dim_2.h5\n",
      "\n",
      "Epoch 00007: val_loss improved from 0.00224 to 0.00194, saving model to ./model\\nBeats_stocks_dim_2.h5\n",
      "\n",
      "Epoch 00008: val_loss improved from 0.00194 to 0.00177, saving model to ./model\\nBeats_stocks_dim_2.h5\n",
      "\n",
      "Epoch 00009: val_loss improved from 0.00177 to 0.00158, saving model to ./model\\nBeats_stocks_dim_2.h5\n",
      "\n",
      "Epoch 00010: val_loss improved from 0.00158 to 0.00145, saving model to ./model\\nBeats_stocks_dim_2.h5\n",
      "\n",
      "Epoch 00011: val_loss improved from 0.00145 to 0.00142, saving model to ./model\\nBeats_stocks_dim_2.h5\n",
      "\n",
      "Epoch 00012: val_loss improved from 0.00142 to 0.00120, saving model to ./model\\nBeats_stocks_dim_2.h5\n",
      "\n",
      "Epoch 00013: val_loss improved from 0.00120 to 0.00109, saving model to ./model\\nBeats_stocks_dim_2.h5\n",
      "\n",
      "Epoch 00014: val_loss improved from 0.00109 to 0.00104, saving model to ./model\\nBeats_stocks_dim_2.h5\n",
      "\n",
      "Epoch 00015: val_loss improved from 0.00104 to 0.00098, saving model to ./model\\nBeats_stocks_dim_2.h5\n",
      "\n",
      "Epoch 00016: val_loss improved from 0.00098 to 0.00097, saving model to ./model\\nBeats_stocks_dim_2.h5\n",
      "\n",
      "Epoch 00017: val_loss did not improve from 0.00097\n",
      "\n",
      "Epoch 00018: val_loss did not improve from 0.00097\n",
      "\n",
      "Epoch 00019: val_loss improved from 0.00097 to 0.00084, saving model to ./model\\nBeats_stocks_dim_2.h5\n",
      "\n",
      "Epoch 00020: val_loss did not improve from 0.00084\n",
      "-----------dim: 3----------------\n",
      "Training...\n",
      "\n",
      "Epoch 00001: val_loss improved from inf to 0.01119, saving model to ./model\\nBeats_stocks_dim_3.h5\n",
      "\n",
      "Epoch 00002: val_loss improved from 0.01119 to 0.00579, saving model to ./model\\nBeats_stocks_dim_3.h5\n",
      "\n",
      "Epoch 00003: val_loss improved from 0.00579 to 0.00355, saving model to ./model\\nBeats_stocks_dim_3.h5\n",
      "\n",
      "Epoch 00004: val_loss improved from 0.00355 to 0.00263, saving model to ./model\\nBeats_stocks_dim_3.h5\n",
      "\n",
      "Epoch 00005: val_loss improved from 0.00263 to 0.00204, saving model to ./model\\nBeats_stocks_dim_3.h5\n",
      "\n",
      "Epoch 00006: val_loss improved from 0.00204 to 0.00161, saving model to ./model\\nBeats_stocks_dim_3.h5\n",
      "\n",
      "Epoch 00007: val_loss improved from 0.00161 to 0.00139, saving model to ./model\\nBeats_stocks_dim_3.h5\n",
      "\n",
      "Epoch 00008: val_loss did not improve from 0.00139\n",
      "\n",
      "Epoch 00009: val_loss improved from 0.00139 to 0.00129, saving model to ./model\\nBeats_stocks_dim_3.h5\n",
      "\n",
      "Epoch 00010: val_loss did not improve from 0.00129\n",
      "\n",
      "Epoch 00011: val_loss improved from 0.00129 to 0.00115, saving model to ./model\\nBeats_stocks_dim_3.h5\n",
      "\n",
      "Epoch 00012: val_loss did not improve from 0.00115\n",
      "\n",
      "Epoch 00013: val_loss improved from 0.00115 to 0.00095, saving model to ./model\\nBeats_stocks_dim_3.h5\n",
      "\n",
      "Epoch 00014: val_loss improved from 0.00095 to 0.00084, saving model to ./model\\nBeats_stocks_dim_3.h5\n",
      "\n",
      "Epoch 00015: val_loss did not improve from 0.00084\n",
      "\n",
      "Epoch 00016: val_loss improved from 0.00084 to 0.00076, saving model to ./model\\nBeats_stocks_dim_3.h5\n",
      "\n",
      "Epoch 00017: val_loss did not improve from 0.00076\n",
      "\n",
      "Epoch 00018: val_loss did not improve from 0.00076\n",
      "\n",
      "Epoch 00019: val_loss did not improve from 0.00076\n",
      "\n",
      "Epoch 00020: val_loss did not improve from 0.00076\n",
      "-----------dim: 4----------------\n",
      "Training...\n",
      "\n",
      "Epoch 00001: val_loss improved from inf to 0.01169, saving model to ./model\\nBeats_stocks_dim_4.h5\n",
      "\n",
      "Epoch 00002: val_loss improved from 0.01169 to 0.00575, saving model to ./model\\nBeats_stocks_dim_4.h5\n",
      "\n",
      "Epoch 00003: val_loss improved from 0.00575 to 0.00371, saving model to ./model\\nBeats_stocks_dim_4.h5\n",
      "\n",
      "Epoch 00004: val_loss improved from 0.00371 to 0.00260, saving model to ./model\\nBeats_stocks_dim_4.h5\n",
      "\n",
      "Epoch 00005: val_loss improved from 0.00260 to 0.00232, saving model to ./model\\nBeats_stocks_dim_4.h5\n",
      "\n",
      "Epoch 00006: val_loss improved from 0.00232 to 0.00207, saving model to ./model\\nBeats_stocks_dim_4.h5\n"
     ]
    },
    {
     "name": "stdout",
     "output_type": "stream",
     "text": [
      "\n",
      "Epoch 00007: val_loss improved from 0.00207 to 0.00181, saving model to ./model\\nBeats_stocks_dim_4.h5\n",
      "\n",
      "Epoch 00008: val_loss improved from 0.00181 to 0.00150, saving model to ./model\\nBeats_stocks_dim_4.h5\n",
      "\n",
      "Epoch 00009: val_loss did not improve from 0.00150\n",
      "\n",
      "Epoch 00010: val_loss improved from 0.00150 to 0.00122, saving model to ./model\\nBeats_stocks_dim_4.h5\n",
      "\n",
      "Epoch 00011: val_loss did not improve from 0.00122\n",
      "\n",
      "Epoch 00012: val_loss improved from 0.00122 to 0.00114, saving model to ./model\\nBeats_stocks_dim_4.h5\n",
      "\n",
      "Epoch 00013: val_loss did not improve from 0.00114\n",
      "\n",
      "Epoch 00014: val_loss did not improve from 0.00114\n",
      "\n",
      "Epoch 00015: val_loss improved from 0.00114 to 0.00105, saving model to ./model\\nBeats_stocks_dim_4.h5\n",
      "\n",
      "Epoch 00016: val_loss improved from 0.00105 to 0.00095, saving model to ./model\\nBeats_stocks_dim_4.h5\n",
      "\n",
      "Epoch 00017: val_loss did not improve from 0.00095\n",
      "\n",
      "Epoch 00018: val_loss improved from 0.00095 to 0.00093, saving model to ./model\\nBeats_stocks_dim_4.h5\n",
      "\n",
      "Epoch 00019: val_loss improved from 0.00093 to 0.00083, saving model to ./model\\nBeats_stocks_dim_4.h5\n",
      "\n",
      "Epoch 00020: val_loss did not improve from 0.00083\n",
      "-----------dim: 5----------------\n",
      "Training...\n",
      "\n",
      "Epoch 00001: val_loss improved from inf to 0.01104, saving model to ./model\\nBeats_stocks_dim_5.h5\n",
      "\n",
      "Epoch 00002: val_loss improved from 0.01104 to 0.00493, saving model to ./model\\nBeats_stocks_dim_5.h5\n",
      "\n",
      "Epoch 00003: val_loss improved from 0.00493 to 0.00299, saving model to ./model\\nBeats_stocks_dim_5.h5\n",
      "\n",
      "Epoch 00004: val_loss improved from 0.00299 to 0.00226, saving model to ./model\\nBeats_stocks_dim_5.h5\n",
      "\n",
      "Epoch 00005: val_loss improved from 0.00226 to 0.00164, saving model to ./model\\nBeats_stocks_dim_5.h5\n",
      "\n",
      "Epoch 00006: val_loss improved from 0.00164 to 0.00135, saving model to ./model\\nBeats_stocks_dim_5.h5\n",
      "\n",
      "Epoch 00007: val_loss improved from 0.00135 to 0.00117, saving model to ./model\\nBeats_stocks_dim_5.h5\n",
      "\n",
      "Epoch 00008: val_loss improved from 0.00117 to 0.00110, saving model to ./model\\nBeats_stocks_dim_5.h5\n",
      "\n",
      "Epoch 00009: val_loss improved from 0.00110 to 0.00086, saving model to ./model\\nBeats_stocks_dim_5.h5\n",
      "\n",
      "Epoch 00010: val_loss improved from 0.00086 to 0.00076, saving model to ./model\\nBeats_stocks_dim_5.h5\n",
      "\n",
      "Epoch 00011: val_loss did not improve from 0.00076\n",
      "\n",
      "Epoch 00012: val_loss did not improve from 0.00076\n",
      "\n",
      "Epoch 00013: val_loss did not improve from 0.00076\n",
      "\n",
      "Epoch 00014: val_loss improved from 0.00076 to 0.00075, saving model to ./model\\nBeats_stocks_dim_5.h5\n",
      "\n",
      "Epoch 00015: val_loss improved from 0.00075 to 0.00066, saving model to ./model\\nBeats_stocks_dim_5.h5\n",
      "\n",
      "Epoch 00016: val_loss did not improve from 0.00066\n",
      "\n",
      "Epoch 00017: val_loss did not improve from 0.00066\n",
      "\n",
      "Epoch 00018: val_loss did not improve from 0.00066\n",
      "\n",
      "Epoch 00019: val_loss improved from 0.00066 to 0.00060, saving model to ./model\\nBeats_stocks_dim_5.h5\n",
      "\n",
      "Epoch 00020: val_loss improved from 0.00060 to 0.00052, saving model to ./model\\nBeats_stocks_dim_5.h5\n",
      "Total training time: 0.94 minutes\n"
     ]
    }
   ],
   "source": [
    "start = time.time() \n",
    "\n",
    "models = []\n",
    "for d in range(D):\n",
    "    \n",
    "    print(f'-----------dim: {d}----------------')\n",
    "    \n",
    "    X, Y = x_train[:, :, d: d +1].copy(), y_train[:, :, d: d +1].copy()\n",
    "    # X, Y = x_valid[:, :, d: d +1].copy(), y_valid[:, :, d: d +1].copy()\n",
    "\n",
    "    model = NBeatsNet(\n",
    "            input_dim=1,\n",
    "            backcast_length=backcast_length, \n",
    "            forecast_length=forecast_length,\n",
    "            stack_types=(NBeatsNet.GENERIC_BLOCK, NBeatsNet.GENERIC_BLOCK),\n",
    "            nb_blocks_per_stack=3, \n",
    "            thetas_dim=(36, 36), \n",
    "            share_weights_in_stack=False,\n",
    "            hidden_layer_units=50\n",
    "        )\n",
    "\n",
    "    model.compile(loss='mse', optimizer='adam')\n",
    "    \n",
    "    \n",
    "    logpath = \"./log/\"\n",
    "    logname = f'Log_nBeats_{dataset}_dim_{d}.txt'\n",
    "    logfile = os.path.join(logpath, logname)\n",
    "    csv_logger = CSVLogger(logfile, append=True)\n",
    "    reduceLR = ReduceLROnPlateau(monitor='val_loss', factor=0.1, patience=10)\n",
    "    early = EarlyStopping(monitor='val_loss', mode='min', patience=10) # prevent overfitting\n",
    "\n",
    "    mdpath = \"./model/\"\n",
    "    mdname = f'nBeats_{dataset}_dim_{d}.h5'\n",
    "    mdfile = os.path.join(mdpath, mdname)\n",
    "\n",
    "    ckpt = ModelCheckpoint(mdfile, monitor='val_loss', verbose=1, save_best_only=True, mode='min') #save whole model\n",
    "    callbacks_list = [ckpt, early, csv_logger, reduceLR]\n",
    "    callbacks_list = [ckpt, early, csv_logger, reduceLR]\n",
    "    \n",
    "\n",
    "    # Train the model.\n",
    "    print('Training...')\n",
    "\n",
    "    model.fit(X, \n",
    "              Y, \n",
    "              validation_split=0.2, \n",
    "              batch_size=64, \n",
    "              shuffle=True, \n",
    "              epochs=20, \n",
    "              callbacks=callbacks_list,\n",
    "              verbose = 0\n",
    "             )\n",
    "    \n",
    "    models.append(model )\n",
    "\n",
    "end = time.time()\n",
    "train_time = np.round((end - start)/60.0, 2)\n",
    "print(f\"Total training time: {train_time} minutes\") "
   ]
  },
  {
   "cell_type": "markdown",
   "metadata": {},
   "source": [
    "# Predictions"
   ]
  },
  {
   "cell_type": "code",
   "execution_count": 546,
   "metadata": {},
   "outputs": [
    {
     "name": "stdout",
     "output_type": "stream",
     "text": [
      "WARNING:tensorflow:5 out of the last 13 calls to <function Model.make_predict_function.<locals>.predict_function at 0x0000021F0040FB80> triggered tf.function retracing. Tracing is expensive and the excessive number of tracings could be due to (1) creating @tf.function repeatedly in a loop, (2) passing tensors with different shapes, (3) passing Python objects instead of tensors. For (1), please define your @tf.function outside of the loop. For (2), @tf.function has experimental_relax_shapes=True option that relaxes argument shapes that can avoid unnecessary retracing. For (3), please refer to https://www.tensorflow.org/guide/function#controlling_retracing and https://www.tensorflow.org/api_docs/python/tf/function for  more details.\n",
      "the prediction_forecast shape is: (348, 4, 6)\n"
     ]
    }
   ],
   "source": [
    "preds = []\n",
    "\n",
    "for d in range(D):\n",
    "    X, Y = x_valid[:, :, d: d +1].copy(), y_valid[:, :, d: d +1].copy()\n",
    "\n",
    "    # Predict on the testing set (forecast).\n",
    "    Yhat = models[d].predict(X)\n",
    "    preds.append(Yhat)\n",
    "\n",
    "\n",
    "Yhat = np.concatenate(preds, axis=-1)\n",
    "print(\"the prediction_forecast shape is:\", Yhat.shape) #shape: (30, 5, 1)\n",
    "\n",
    "X = x_valid\n",
    "Y = y_valid"
   ]
  },
  {
   "cell_type": "code",
   "execution_count": 547,
   "metadata": {},
   "outputs": [
    {
     "data": {
      "text/plain": [
       "(0.5555085633532528, 0.5615213)"
      ]
     },
     "execution_count": 547,
     "metadata": {},
     "output_type": "execute_result"
    }
   ],
   "source": [
    "Y.mean(), Yhat.mean()"
   ]
  },
  {
   "cell_type": "code",
   "execution_count": 548,
   "metadata": {},
   "outputs": [
    {
     "name": "stdout",
     "output_type": "stream",
     "text": [
      "mse 0.21384469048265892\n",
      "mae 0.352392360468118\n",
      "r_sq 0.1466341508267721\n"
     ]
    }
   ],
   "source": [
    "mse = mean_squared_error(Y.flatten(), Yhat.flatten())\n",
    "mae = mean_absolute_error(Y.flatten(), Yhat.flatten())\n",
    "r_sq = r2_score(Y.flatten(), Yhat.flatten())\n",
    "\n",
    "print('mse', mse)\n",
    "print('mae', mae)\n",
    "print('r_sq', r_sq)"
   ]
  },
  {
   "cell_type": "code",
   "execution_count": 549,
   "metadata": {},
   "outputs": [
    {
     "data": {
      "text/html": [
       "<div>\n",
       "<style scoped>\n",
       "    .dataframe tbody tr th:only-of-type {\n",
       "        vertical-align: middle;\n",
       "    }\n",
       "\n",
       "    .dataframe tbody tr th {\n",
       "        vertical-align: top;\n",
       "    }\n",
       "\n",
       "    .dataframe thead th {\n",
       "        text-align: right;\n",
       "    }\n",
       "</style>\n",
       "<table border=\"1\" class=\"dataframe\">\n",
       "  <thead>\n",
       "    <tr style=\"text-align: right;\">\n",
       "      <th></th>\n",
       "      <th>Dataset_Name</th>\n",
       "      <th>Generator_Type</th>\n",
       "      <th>Perc_of_train_hist_len</th>\n",
       "      <th>Forecast_algo</th>\n",
       "      <th>Trained_on</th>\n",
       "      <th>MSE</th>\n",
       "      <th>RMSE</th>\n",
       "      <th>MAE</th>\n",
       "      <th>R-squared</th>\n",
       "      <th>Time_Ran</th>\n",
       "      <th>Train_time_minutes</th>\n",
       "    </tr>\n",
       "  </thead>\n",
       "  <tbody>\n",
       "    <tr>\n",
       "      <th>0</th>\n",
       "      <td>stocks</td>\n",
       "      <td>vae_conv</td>\n",
       "      <td>100</td>\n",
       "      <td>nbeats</td>\n",
       "      <td>generated_data</td>\n",
       "      <td>0.214</td>\n",
       "      <td>0.462</td>\n",
       "      <td>0.352</td>\n",
       "      <td>0.147</td>\n",
       "      <td>08/19/2021, 10:51:43</td>\n",
       "      <td>0.94</td>\n",
       "    </tr>\n",
       "  </tbody>\n",
       "</table>\n",
       "</div>"
      ],
      "text/plain": [
       "  Dataset_Name Generator_Type  Perc_of_train_hist_len Forecast_algo  \\\n",
       "0       stocks       vae_conv                     100        nbeats   \n",
       "\n",
       "       Trained_on    MSE   RMSE    MAE  R-squared              Time_Ran  \\\n",
       "0  generated_data  0.214  0.462  0.352      0.147  08/19/2021, 10:51:43   \n",
       "\n",
       "   Train_time_minutes  \n",
       "0                0.94  "
      ]
     },
     "execution_count": 549,
     "metadata": {},
     "output_type": "execute_result"
    }
   ],
   "source": [
    "perf_metrics = [ [\n",
    "            dataset,\n",
    "            f'vae_{vae_type}' if train_on == 'generated_data' else 'None',\n",
    "            perc,\n",
    "            'nbeats', \n",
    "            train_on,\n",
    "            np.round(mse, 3), \n",
    "            np.round(np.sqrt(mse), 3),\n",
    "            np.round(mae, 3),\n",
    "            np.round(r_sq, 3),   \n",
    "            datetime.now().strftime(\"%m/%d/%Y, %H:%M:%S\"),\n",
    "            np.round(train_time, 3),\n",
    "             ]\n",
    "]\n",
    "\n",
    "columns=[\n",
    "    'Dataset_Name',\n",
    "    'Generator_Type',\n",
    "    'Perc_of_train_hist_len',\n",
    "    'Forecast_algo',\n",
    "    'Trained_on',\n",
    "    'MSE',\n",
    "    'RMSE',\n",
    "    'MAE',\n",
    "    'R-squared',\n",
    "    'Time_Ran',\n",
    "    'Train_time_minutes',\n",
    "]\n",
    "# convert to dataframe\n",
    "perf_metrics = pd.DataFrame(perf_metrics, columns=columns)  \n",
    "\n",
    "f_name = f'Results_{dataset}_traindata_perc{perc}_nbeats_trained_on_{train_on}.csv'\n",
    "perf_metrics.to_csv(f\"./outputs/{f_name}\", index=False)\n",
    "\n",
    "\n",
    "perf_metrics"
   ]
  },
  {
   "cell_type": "markdown",
   "metadata": {},
   "source": [
    "# Plot"
   ]
  },
  {
   "cell_type": "code",
   "execution_count": 550,
   "metadata": {},
   "outputs": [],
   "source": [
    "# plot utils.\n",
    "def plot_scatter(*args, **kwargs):\n",
    "    plt.plot(*args, **kwargs)\n",
    "    plt.scatter(*args, **kwargs)\n"
   ]
  },
  {
   "cell_type": "code",
   "execution_count": 551,
   "metadata": {},
   "outputs": [
    {
     "data": {
      "image/png": "[encoded data removed]",
      "text/plain": [
       "<Figure size 1152x576 with 4 Axes>"
      ]
     },
     "metadata": {
      "needs_background": "light"
     },
     "output_type": "display_data"
    }
   ],
   "source": [
    "subplots = [221, 222, 223, 224]\n",
    "plt.figure(1, figsize=(16,8))\n",
    "norm_constant = 1\n",
    "dim = 0\n",
    "\n",
    "temp_y = Y.copy()\n",
    "temp_yhat = Yhat.copy()\n",
    "temp_x = X.copy()\n",
    "\n",
    "for plot_id, i in enumerate(np.random.choice(range(len(X)), size=4, replace=False)):\n",
    "    p1 = np.expand_dims(Yhat[i][:,dim], axis=-1)\n",
    "    x1 = np.expand_dims(X[i][:,dim], axis=-1)\n",
    "    y1 = np.expand_dims(Y[i][:,dim], axis=-1)\n",
    "    ff, xx, yy = p1 * norm_constant, x1 * norm_constant, y1 * norm_constant\n",
    "    plt.subplot(subplots[plot_id])\n",
    "    plt.grid()\n",
    "    plot_scatter(range(0, backcast_length), xx, color='b')\n",
    "    plot_scatter(range(backcast_length, backcast_length + forecast_length), yy, color='g')\n",
    "    plot_scatter(range(backcast_length, backcast_length + forecast_length), ff, color='r')\n",
    "plt.savefig(\"nbeats-predictions-sines.png\", dpi=300)\n",
    "plt.show()"
   ]
  },
  {
   "cell_type": "code",
   "execution_count": null,
   "metadata": {},
   "outputs": [],
   "source": []
  },
  {
   "cell_type": "code",
   "execution_count": null,
   "metadata": {},
   "outputs": [],
   "source": []
  }
 ],
 "metadata": {
  "instance_type": "ml.g4dn.xlarge",
  "kernelspec": {
   "display_name": "Python 3",
   "language": "python",
   "name": "python3"
  },
  "language_info": {
   "codemirror_mode": {
    "name": "ipython",
    "version": 3
   },
   "file_extension": ".py",
   "mimetype": "text/x-python",
   "name": "python",
   "nbconvert_exporter": "python",
   "pygments_lexer": "ipython3",
   "version": "3.8.3"
  }
 },
 "nbformat": 4,
 "nbformat_minor": 4
}
