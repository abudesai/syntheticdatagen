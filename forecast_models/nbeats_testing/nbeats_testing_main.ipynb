{
 "cells": [
  {
   "cell_type": "code",
   "execution_count": 590,
   "metadata": {},
   "outputs": [],
   "source": [
    "import warnings, os\n",
    "os.environ['TF_CPP_MIN_LOG_LEVEL'] = '3'  # or any {'0', '1', '2'}\n",
    "warnings.filterwarnings('ignore') \n",
    "\n",
    "import numpy as np, pandas as pd\n",
    "from datetime import datetime\n",
    "import time\n",
    "import sys\n",
    "from tensorflow.keras.callbacks import ModelCheckpoint,Callback,LearningRateScheduler, EarlyStopping, CSVLogger, ReduceLROnPlateau\n",
    "\n",
    "from tensorflow.keras.optimizers import Adam\n",
    "from nbeats_model import NBeatsNet as NBeatsNet\n",
    "warnings.filterwarnings(action='ignore', message='Setting attributes')\n",
    "import tensorflow as tf\n",
    "from sklearn.metrics import mean_absolute_error, mean_squared_error, r2_score\n",
    "import matplotlib.pyplot as plt\n",
    "from datetime import timedelta\n",
    "from sklearn.metrics import mean_squared_error, r2_score,  mean_absolute_error\n",
    "\n",
    "from utils import TSMinMaxScaler, DailyAggregator, generate_sine_data, MinMaxScaler_Feat_Dim"
   ]
  },
  {
   "cell_type": "markdown",
   "metadata": {},
   "source": [
    "# Load Data"
   ]
  },
  {
   "cell_type": "code",
   "execution_count": 591,
   "metadata": {},
   "outputs": [
    {
     "name": "stdout",
     "output_type": "stream",
     "text": [
      "data shape: 500 24 5\n"
     ]
    }
   ],
   "source": [
    "data_dir = './data/'\n",
    "dataset = 'sine'            # sine, stocks, energy\n",
    "perc = 5                    # 5, 10, 20, 100\n",
    "train_on = 'generated_data'         # 'real_data', 'generated_data'\n",
    "vae_type = 'conv'\n",
    "\n",
    "input_file = f'{dataset}_subsampled_train_perc_{perc}.npy'\n",
    "\n",
    "data = np.load(data_dir + input_file)\n",
    "\n",
    "N, T, D = data.shape   \n",
    "print('data shape:', N, T, D) "
   ]
  },
  {
   "cell_type": "markdown",
   "metadata": {},
   "source": [
    "# Some variables"
   ]
  },
  {
   "cell_type": "code",
   "execution_count": 592,
   "metadata": {},
   "outputs": [],
   "source": [
    "backcast_length=20\n",
    "forecast_length=4\n",
    "seq_len = backcast_length + forecast_length\n",
    "\n",
    "input_dim = output_dim = D\n",
    "scaler_upper_bound = 5.\n",
    "scaler_lower_bound = -5."
   ]
  },
  {
   "cell_type": "markdown",
   "metadata": {},
   "source": [
    "# Train Validation Split In Samples On True Data"
   ]
  },
  {
   "cell_type": "code",
   "execution_count": 593,
   "metadata": {},
   "outputs": [
    {
     "name": "stdout",
     "output_type": "stream",
     "text": [
      "(450, 24, 5) (50, 24, 5)\n"
     ]
    }
   ],
   "source": [
    "valid_perc = 0.1\n",
    "\n",
    "N_train = int(N * (1 - valid_perc))\n",
    "N_valid = N - N_train\n",
    "\n",
    "# Shuffle data\n",
    "np.random.shuffle(data)\n",
    "\n",
    "true_train_data = data[:N_train]\n",
    "true_valid_data = data[N_train:]\n",
    "\n",
    "print(true_train_data.shape, true_valid_data.shape )"
   ]
  },
  {
   "cell_type": "markdown",
   "metadata": {},
   "source": [
    "# Read synthetic data as dataframe"
   ]
  },
  {
   "cell_type": "code",
   "execution_count": 594,
   "metadata": {},
   "outputs": [],
   "source": [
    "#syn_train_data = true_train_data"
   ]
  },
  {
   "cell_type": "code",
   "execution_count": 595,
   "metadata": {},
   "outputs": [
    {
     "name": "stdout",
     "output_type": "stream",
     "text": [
      "(450, 24, 5)\n"
     ]
    }
   ],
   "source": [
    "if train_on == 'real_data':\n",
    "    syn_train_data = true_train_data\n",
    "else: \n",
    "    fname = f'vae_{vae_type}_generated_{dataset}_subsampled_train_perc_{perc}.npy'\n",
    "    syn_train_data = np.load(data_dir + fname)\n",
    "print(syn_train_data.shape)"
   ]
  },
  {
   "cell_type": "markdown",
   "metadata": {},
   "source": [
    "# Define model train and validation sets"
   ]
  },
  {
   "cell_type": "code",
   "execution_count": 596,
   "metadata": {},
   "outputs": [
    {
     "name": "stdout",
     "output_type": "stream",
     "text": [
      "(450, 24, 5) (50, 24, 5)\n"
     ]
    }
   ],
   "source": [
    "train_data = syn_train_data\n",
    "valid_data = true_valid_data\n",
    "\n",
    "print(train_data.shape,  valid_data.shape)"
   ]
  },
  {
   "cell_type": "markdown",
   "metadata": {},
   "source": [
    "# Preprocess synthetic data"
   ]
  },
  {
   "cell_type": "markdown",
   "metadata": {},
   "source": [
    "### Add reversed series for training"
   ]
  },
  {
   "cell_type": "code",
   "execution_count": 597,
   "metadata": {},
   "outputs": [
    {
     "data": {
      "text/plain": [
       "(900, 24, 5)"
      ]
     },
     "execution_count": 597,
     "metadata": {},
     "output_type": "execute_result"
    }
   ],
   "source": [
    "train_data = np.concatenate([train_data, np.flip(train_data, axis=1)], axis=0)\n",
    "train_data.shape"
   ]
  },
  {
   "cell_type": "markdown",
   "metadata": {},
   "source": [
    "# Min Max Scale Training and Validation Data"
   ]
  },
  {
   "cell_type": "code",
   "execution_count": 598,
   "metadata": {},
   "outputs": [
    {
     "name": "stdout",
     "output_type": "stream",
     "text": [
      "(900, 24, 5) (50, 24, 5)\n"
     ]
    }
   ],
   "source": [
    "train_data_scaler = TSMinMaxScaler(\n",
    "    scaling_len = backcast_length,\n",
    "    input_dim = input_dim,\n",
    "    upper_bound = scaler_upper_bound,\n",
    "    lower_bound = scaler_lower_bound\n",
    ")\n",
    "scaled_train_data = train_data_scaler.fit_transform(train_data)\n",
    "\n",
    "\n",
    "valid_data_scaler = TSMinMaxScaler(\n",
    "    scaling_len = backcast_length,\n",
    "    input_dim = input_dim,\n",
    "    upper_bound = scaler_upper_bound,\n",
    "    lower_bound = scaler_lower_bound\n",
    ")\n",
    "scaled_valid_data = valid_data_scaler.fit_transform(valid_data)\n",
    "\n",
    "print(scaled_train_data.shape, scaled_valid_data.shape)"
   ]
  },
  {
   "cell_type": "code",
   "execution_count": 599,
   "metadata": {},
   "outputs": [
    {
     "data": {
      "text/plain": [
       "(0.5102320608529958, 0.5408149192155023)"
      ]
     },
     "execution_count": 599,
     "metadata": {},
     "output_type": "execute_result"
    }
   ],
   "source": [
    "scaled_train_data.mean(), scaled_valid_data.mean()"
   ]
  },
  {
   "cell_type": "markdown",
   "metadata": {},
   "source": [
    "# X / Y Split"
   ]
  },
  {
   "cell_type": "code",
   "execution_count": 600,
   "metadata": {},
   "outputs": [
    {
     "name": "stdout",
     "output_type": "stream",
     "text": [
      "(900, 20, 5) (900, 4, 5) (50, 20, 5) (50, 4, 5)\n"
     ]
    }
   ],
   "source": [
    "x_train, y_train = scaled_train_data[:, :backcast_length], scaled_train_data[:, backcast_length:]\n",
    "x_valid, y_valid = scaled_valid_data[:, :backcast_length], scaled_valid_data[:, backcast_length:]\n",
    "\n",
    "print(x_train.shape, y_train.shape, x_valid.shape, y_valid.shape)"
   ]
  },
  {
   "cell_type": "code",
   "execution_count": 601,
   "metadata": {},
   "outputs": [
    {
     "name": "stdout",
     "output_type": "stream",
     "text": [
      "0.49117069584593376 0.6055388858883063 0.5515993783431317 0.4868926235773559\n"
     ]
    }
   ],
   "source": [
    "print(x_train.mean(), y_train.mean(), x_valid.mean(), y_valid.mean())"
   ]
  },
  {
   "cell_type": "markdown",
   "metadata": {},
   "source": [
    "# Nbeats"
   ]
  },
  {
   "cell_type": "code",
   "execution_count": 602,
   "metadata": {},
   "outputs": [
    {
     "name": "stdout",
     "output_type": "stream",
     "text": [
      "-----------dim: 0----------------\n",
      "Training...\n",
      "\n",
      "Epoch 00001: val_loss improved from inf to 0.09387, saving model to ./model\\nBeats_sine_dim_0.h5\n",
      "\n",
      "Epoch 00002: val_loss improved from 0.09387 to 0.03740, saving model to ./model\\nBeats_sine_dim_0.h5\n",
      "\n",
      "Epoch 00003: val_loss improved from 0.03740 to 0.02407, saving model to ./model\\nBeats_sine_dim_0.h5\n",
      "\n",
      "Epoch 00004: val_loss improved from 0.02407 to 0.01934, saving model to ./model\\nBeats_sine_dim_0.h5\n",
      "\n",
      "Epoch 00005: val_loss improved from 0.01934 to 0.01122, saving model to ./model\\nBeats_sine_dim_0.h5\n",
      "\n",
      "Epoch 00006: val_loss improved from 0.01122 to 0.00886, saving model to ./model\\nBeats_sine_dim_0.h5\n",
      "\n",
      "Epoch 00007: val_loss improved from 0.00886 to 0.00742, saving model to ./model\\nBeats_sine_dim_0.h5\n",
      "\n",
      "Epoch 00008: val_loss improved from 0.00742 to 0.00650, saving model to ./model\\nBeats_sine_dim_0.h5\n",
      "\n",
      "Epoch 00009: val_loss improved from 0.00650 to 0.00622, saving model to ./model\\nBeats_sine_dim_0.h5\n",
      "\n",
      "Epoch 00010: val_loss improved from 0.00622 to 0.00606, saving model to ./model\\nBeats_sine_dim_0.h5\n",
      "\n",
      "Epoch 00011: val_loss improved from 0.00606 to 0.00585, saving model to ./model\\nBeats_sine_dim_0.h5\n",
      "\n",
      "Epoch 00012: val_loss improved from 0.00585 to 0.00455, saving model to ./model\\nBeats_sine_dim_0.h5\n",
      "\n",
      "Epoch 00013: val_loss improved from 0.00455 to 0.00442, saving model to ./model\\nBeats_sine_dim_0.h5\n",
      "\n",
      "Epoch 00014: val_loss improved from 0.00442 to 0.00428, saving model to ./model\\nBeats_sine_dim_0.h5\n",
      "\n",
      "Epoch 00015: val_loss did not improve from 0.00428\n",
      "\n",
      "Epoch 00016: val_loss improved from 0.00428 to 0.00382, saving model to ./model\\nBeats_sine_dim_0.h5\n",
      "\n",
      "Epoch 00017: val_loss did not improve from 0.00382\n",
      "\n",
      "Epoch 00018: val_loss did not improve from 0.00382\n",
      "\n",
      "Epoch 00019: val_loss improved from 0.00382 to 0.00347, saving model to ./model\\nBeats_sine_dim_0.h5\n",
      "\n",
      "Epoch 00020: val_loss improved from 0.00347 to 0.00343, saving model to ./model\\nBeats_sine_dim_0.h5\n",
      "-----------dim: 1----------------\n",
      "Training...\n",
      "\n",
      "Epoch 00001: val_loss improved from inf to 0.17343, saving model to ./model\\nBeats_sine_dim_1.h5\n",
      "\n",
      "Epoch 00002: val_loss improved from 0.17343 to 0.06174, saving model to ./model\\nBeats_sine_dim_1.h5\n",
      "\n",
      "Epoch 00003: val_loss improved from 0.06174 to 0.02964, saving model to ./model\\nBeats_sine_dim_1.h5\n",
      "\n",
      "Epoch 00004: val_loss improved from 0.02964 to 0.01728, saving model to ./model\\nBeats_sine_dim_1.h5\n",
      "\n",
      "Epoch 00005: val_loss improved from 0.01728 to 0.01185, saving model to ./model\\nBeats_sine_dim_1.h5\n",
      "\n",
      "Epoch 00006: val_loss did not improve from 0.01185\n",
      "\n",
      "Epoch 00007: val_loss improved from 0.01185 to 0.00927, saving model to ./model\\nBeats_sine_dim_1.h5\n",
      "\n",
      "Epoch 00008: val_loss improved from 0.00927 to 0.00711, saving model to ./model\\nBeats_sine_dim_1.h5\n",
      "\n",
      "Epoch 00009: val_loss improved from 0.00711 to 0.00619, saving model to ./model\\nBeats_sine_dim_1.h5\n",
      "\n",
      "Epoch 00010: val_loss improved from 0.00619 to 0.00591, saving model to ./model\\nBeats_sine_dim_1.h5\n",
      "\n",
      "Epoch 00011: val_loss did not improve from 0.00591\n",
      "\n",
      "Epoch 00012: val_loss improved from 0.00591 to 0.00531, saving model to ./model\\nBeats_sine_dim_1.h5\n",
      "\n",
      "Epoch 00013: val_loss improved from 0.00531 to 0.00490, saving model to ./model\\nBeats_sine_dim_1.h5\n",
      "\n",
      "Epoch 00014: val_loss improved from 0.00490 to 0.00425, saving model to ./model\\nBeats_sine_dim_1.h5\n",
      "\n",
      "Epoch 00015: val_loss did not improve from 0.00425\n",
      "\n",
      "Epoch 00016: val_loss did not improve from 0.00425\n",
      "\n",
      "Epoch 00017: val_loss improved from 0.00425 to 0.00319, saving model to ./model\\nBeats_sine_dim_1.h5\n",
      "\n",
      "Epoch 00018: val_loss did not improve from 0.00319\n",
      "\n",
      "Epoch 00019: val_loss did not improve from 0.00319\n",
      "\n",
      "Epoch 00020: val_loss improved from 0.00319 to 0.00311, saving model to ./model\\nBeats_sine_dim_1.h5\n",
      "-----------dim: 2----------------\n",
      "Training...\n",
      "\n",
      "Epoch 00001: val_loss improved from inf to 0.09256, saving model to ./model\\nBeats_sine_dim_2.h5\n",
      "\n",
      "Epoch 00002: val_loss improved from 0.09256 to 0.05413, saving model to ./model\\nBeats_sine_dim_2.h5\n",
      "\n",
      "Epoch 00003: val_loss improved from 0.05413 to 0.04415, saving model to ./model\\nBeats_sine_dim_2.h5\n",
      "\n",
      "Epoch 00004: val_loss improved from 0.04415 to 0.03242, saving model to ./model\\nBeats_sine_dim_2.h5\n",
      "\n",
      "Epoch 00005: val_loss improved from 0.03242 to 0.02198, saving model to ./model\\nBeats_sine_dim_2.h5\n",
      "\n",
      "Epoch 00006: val_loss improved from 0.02198 to 0.01725, saving model to ./model\\nBeats_sine_dim_2.h5\n",
      "\n",
      "Epoch 00007: val_loss improved from 0.01725 to 0.01162, saving model to ./model\\nBeats_sine_dim_2.h5\n",
      "\n",
      "Epoch 00008: val_loss improved from 0.01162 to 0.00992, saving model to ./model\\nBeats_sine_dim_2.h5\n",
      "\n",
      "Epoch 00009: val_loss improved from 0.00992 to 0.00821, saving model to ./model\\nBeats_sine_dim_2.h5\n",
      "\n",
      "Epoch 00010: val_loss improved from 0.00821 to 0.00772, saving model to ./model\\nBeats_sine_dim_2.h5\n",
      "\n",
      "Epoch 00011: val_loss did not improve from 0.00772\n",
      "\n",
      "Epoch 00012: val_loss improved from 0.00772 to 0.00678, saving model to ./model\\nBeats_sine_dim_2.h5\n",
      "\n",
      "Epoch 00013: val_loss did not improve from 0.00678\n",
      "\n",
      "Epoch 00014: val_loss did not improve from 0.00678\n",
      "\n",
      "Epoch 00015: val_loss improved from 0.00678 to 0.00586, saving model to ./model\\nBeats_sine_dim_2.h5\n",
      "\n",
      "Epoch 00016: val_loss did not improve from 0.00586\n",
      "\n",
      "Epoch 00017: val_loss improved from 0.00586 to 0.00541, saving model to ./model\\nBeats_sine_dim_2.h5\n",
      "\n",
      "Epoch 00018: val_loss improved from 0.00541 to 0.00527, saving model to ./model\\nBeats_sine_dim_2.h5\n",
      "\n",
      "Epoch 00019: val_loss improved from 0.00527 to 0.00507, saving model to ./model\\nBeats_sine_dim_2.h5\n",
      "\n",
      "Epoch 00020: val_loss improved from 0.00507 to 0.00485, saving model to ./model\\nBeats_sine_dim_2.h5\n",
      "-----------dim: 3----------------\n",
      "Training...\n",
      "\n",
      "Epoch 00001: val_loss improved from inf to 0.19813, saving model to ./model\\nBeats_sine_dim_3.h5\n",
      "\n",
      "Epoch 00002: val_loss improved from 0.19813 to 0.08990, saving model to ./model\\nBeats_sine_dim_3.h5\n",
      "\n",
      "Epoch 00003: val_loss improved from 0.08990 to 0.05555, saving model to ./model\\nBeats_sine_dim_3.h5\n",
      "\n",
      "Epoch 00004: val_loss improved from 0.05555 to 0.03238, saving model to ./model\\nBeats_sine_dim_3.h5\n",
      "\n",
      "Epoch 00005: val_loss improved from 0.03238 to 0.02209, saving model to ./model\\nBeats_sine_dim_3.h5\n",
      "\n",
      "Epoch 00006: val_loss improved from 0.02209 to 0.01657, saving model to ./model\\nBeats_sine_dim_3.h5\n",
      "\n",
      "Epoch 00007: val_loss improved from 0.01657 to 0.01094, saving model to ./model\\nBeats_sine_dim_3.h5\n",
      "\n",
      "Epoch 00008: val_loss improved from 0.01094 to 0.00939, saving model to ./model\\nBeats_sine_dim_3.h5\n",
      "\n",
      "Epoch 00009: val_loss improved from 0.00939 to 0.00758, saving model to ./model\\nBeats_sine_dim_3.h5\n",
      "\n",
      "Epoch 00010: val_loss improved from 0.00758 to 0.00641, saving model to ./model\\nBeats_sine_dim_3.h5\n",
      "\n",
      "Epoch 00011: val_loss improved from 0.00641 to 0.00639, saving model to ./model\\nBeats_sine_dim_3.h5\n",
      "\n",
      "Epoch 00012: val_loss improved from 0.00639 to 0.00534, saving model to ./model\\nBeats_sine_dim_3.h5\n",
      "\n",
      "Epoch 00013: val_loss improved from 0.00534 to 0.00519, saving model to ./model\\nBeats_sine_dim_3.h5\n",
      "\n",
      "Epoch 00014: val_loss improved from 0.00519 to 0.00462, saving model to ./model\\nBeats_sine_dim_3.h5\n",
      "\n",
      "Epoch 00015: val_loss improved from 0.00462 to 0.00436, saving model to ./model\\nBeats_sine_dim_3.h5\n",
      "\n",
      "Epoch 00016: val_loss improved from 0.00436 to 0.00430, saving model to ./model\\nBeats_sine_dim_3.h5\n",
      "\n",
      "Epoch 00017: val_loss improved from 0.00430 to 0.00393, saving model to ./model\\nBeats_sine_dim_3.h5\n",
      "\n",
      "Epoch 00018: val_loss improved from 0.00393 to 0.00371, saving model to ./model\\nBeats_sine_dim_3.h5\n",
      "\n",
      "Epoch 00019: val_loss did not improve from 0.00371\n",
      "\n",
      "Epoch 00020: val_loss improved from 0.00371 to 0.00360, saving model to ./model\\nBeats_sine_dim_3.h5\n",
      "-----------dim: 4----------------\n",
      "Training...\n",
      "\n",
      "Epoch 00001: val_loss improved from inf to 0.07617, saving model to ./model\\nBeats_sine_dim_4.h5\n",
      "\n",
      "Epoch 00002: val_loss improved from 0.07617 to 0.04561, saving model to ./model\\nBeats_sine_dim_4.h5\n",
      "\n",
      "Epoch 00003: val_loss improved from 0.04561 to 0.02804, saving model to ./model\\nBeats_sine_dim_4.h5\n",
      "\n",
      "Epoch 00004: val_loss improved from 0.02804 to 0.02544, saving model to ./model\\nBeats_sine_dim_4.h5\n",
      "\n",
      "Epoch 00005: val_loss improved from 0.02544 to 0.01331, saving model to ./model\\nBeats_sine_dim_4.h5\n",
      "\n",
      "Epoch 00006: val_loss did not improve from 0.01331\n",
      "\n",
      "Epoch 00007: val_loss improved from 0.01331 to 0.00894, saving model to ./model\\nBeats_sine_dim_4.h5\n"
     ]
    },
    {
     "name": "stdout",
     "output_type": "stream",
     "text": [
      "\n",
      "Epoch 00008: val_loss improved from 0.00894 to 0.00668, saving model to ./model\\nBeats_sine_dim_4.h5\n",
      "\n",
      "Epoch 00009: val_loss did not improve from 0.00668\n",
      "\n",
      "Epoch 00010: val_loss improved from 0.00668 to 0.00518, saving model to ./model\\nBeats_sine_dim_4.h5\n",
      "\n",
      "Epoch 00011: val_loss improved from 0.00518 to 0.00448, saving model to ./model\\nBeats_sine_dim_4.h5\n",
      "\n",
      "Epoch 00012: val_loss did not improve from 0.00448\n",
      "\n",
      "Epoch 00013: val_loss improved from 0.00448 to 0.00414, saving model to ./model\\nBeats_sine_dim_4.h5\n",
      "\n",
      "Epoch 00014: val_loss improved from 0.00414 to 0.00391, saving model to ./model\\nBeats_sine_dim_4.h5\n",
      "\n",
      "Epoch 00015: val_loss improved from 0.00391 to 0.00370, saving model to ./model\\nBeats_sine_dim_4.h5\n",
      "\n",
      "Epoch 00016: val_loss did not improve from 0.00370\n",
      "\n",
      "Epoch 00017: val_loss improved from 0.00370 to 0.00356, saving model to ./model\\nBeats_sine_dim_4.h5\n",
      "\n",
      "Epoch 00018: val_loss improved from 0.00356 to 0.00314, saving model to ./model\\nBeats_sine_dim_4.h5\n",
      "\n",
      "Epoch 00019: val_loss did not improve from 0.00314\n",
      "\n",
      "Epoch 00020: val_loss did not improve from 0.00314\n",
      "Total training time: 0.64 minutes\n"
     ]
    }
   ],
   "source": [
    "start = time.time() \n",
    "\n",
    "models = []\n",
    "for d in range(D):\n",
    "    \n",
    "    print(f'-----------dim: {d}----------------')\n",
    "    \n",
    "    X, Y = x_train[:, :, d: d +1].copy(), y_train[:, :, d: d +1].copy()\n",
    "    # X, Y = x_valid[:, :, d: d +1].copy(), y_valid[:, :, d: d +1].copy()\n",
    "\n",
    "    model = NBeatsNet(\n",
    "            input_dim=1,\n",
    "            backcast_length=backcast_length, \n",
    "            forecast_length=forecast_length,\n",
    "            stack_types=(NBeatsNet.GENERIC_BLOCK, NBeatsNet.GENERIC_BLOCK),\n",
    "            nb_blocks_per_stack=3, \n",
    "            thetas_dim=(36, 36), \n",
    "            share_weights_in_stack=False,\n",
    "            hidden_layer_units=50\n",
    "        )\n",
    "\n",
    "    model.compile(loss='mse', optimizer='adam')\n",
    "    \n",
    "    \n",
    "    logpath = \"./log/\"\n",
    "    logname = f'Log_nBeats_{dataset}_dim_{d}.txt'\n",
    "    logfile = os.path.join(logpath, logname)\n",
    "    csv_logger = CSVLogger(logfile, append=True)\n",
    "    reduceLR = ReduceLROnPlateau(monitor='val_loss', factor=0.1, patience=10)\n",
    "    early = EarlyStopping(monitor='val_loss', mode='min', patience=10) # prevent overfitting\n",
    "\n",
    "    mdpath = \"./model/\"\n",
    "    mdname = f'nBeats_{dataset}_dim_{d}.h5'\n",
    "    mdfile = os.path.join(mdpath, mdname)\n",
    "\n",
    "    ckpt = ModelCheckpoint(mdfile, monitor='val_loss', verbose=1, save_best_only=True, mode='min') #save whole model\n",
    "    callbacks_list = [ckpt, early, csv_logger, reduceLR]\n",
    "    callbacks_list = [ckpt, early, csv_logger, reduceLR]\n",
    "    \n",
    "\n",
    "    # Train the model.\n",
    "    print('Training...')\n",
    "\n",
    "    model.fit(X, \n",
    "              Y, \n",
    "              validation_split=0.2, \n",
    "              batch_size=64, \n",
    "              shuffle=True, \n",
    "              epochs=20, \n",
    "              callbacks=callbacks_list,\n",
    "              verbose = 0\n",
    "             )\n",
    "    \n",
    "    models.append(model )\n",
    "\n",
    "end = time.time()\n",
    "train_time = np.round((end - start)/60.0, 2)\n",
    "print(f\"Total training time: {train_time} minutes\") "
   ]
  },
  {
   "cell_type": "markdown",
   "metadata": {},
   "source": [
    "# Predictions"
   ]
  },
  {
   "cell_type": "code",
   "execution_count": 603,
   "metadata": {},
   "outputs": [
    {
     "name": "stdout",
     "output_type": "stream",
     "text": [
      "WARNING:tensorflow:5 out of the last 13 calls to <function Model.make_predict_function.<locals>.predict_function at 0x0000021F991E58B0> triggered tf.function retracing. Tracing is expensive and the excessive number of tracings could be due to (1) creating @tf.function repeatedly in a loop, (2) passing tensors with different shapes, (3) passing Python objects instead of tensors. For (1), please define your @tf.function outside of the loop. For (2), @tf.function has experimental_relax_shapes=True option that relaxes argument shapes that can avoid unnecessary retracing. For (3), please refer to https://www.tensorflow.org/guide/function#controlling_retracing and https://www.tensorflow.org/api_docs/python/tf/function for  more details.\n",
      "WARNING:tensorflow:6 out of the last 15 calls to <function Model.make_predict_function.<locals>.predict_function at 0x0000021F9BD9D700> triggered tf.function retracing. Tracing is expensive and the excessive number of tracings could be due to (1) creating @tf.function repeatedly in a loop, (2) passing tensors with different shapes, (3) passing Python objects instead of tensors. For (1), please define your @tf.function outside of the loop. For (2), @tf.function has experimental_relax_shapes=True option that relaxes argument shapes that can avoid unnecessary retracing. For (3), please refer to https://www.tensorflow.org/guide/function#controlling_retracing and https://www.tensorflow.org/api_docs/python/tf/function for  more details.\n",
      "the prediction_forecast shape is: (50, 4, 5)\n"
     ]
    }
   ],
   "source": [
    "preds = []\n",
    "\n",
    "for d in range(D):\n",
    "    X, Y = x_valid[:, :, d: d +1].copy(), y_valid[:, :, d: d +1].copy()\n",
    "\n",
    "    # Predict on the testing set (forecast).\n",
    "    Yhat = models[d].predict(X)\n",
    "    preds.append(Yhat)\n",
    "\n",
    "\n",
    "Yhat = np.concatenate(preds, axis=-1)\n",
    "print(\"the prediction_forecast shape is:\", Yhat.shape) #shape: (30, 5, 1)\n",
    "\n",
    "X = x_valid\n",
    "Y = y_valid"
   ]
  },
  {
   "cell_type": "code",
   "execution_count": 604,
   "metadata": {},
   "outputs": [
    {
     "data": {
      "text/plain": [
       "(0.4868926235773559, 0.56360644)"
      ]
     },
     "execution_count": 604,
     "metadata": {},
     "output_type": "execute_result"
    }
   ],
   "source": [
    "Y.mean(), Yhat.mean()"
   ]
  },
  {
   "cell_type": "code",
   "execution_count": 605,
   "metadata": {},
   "outputs": [
    {
     "name": "stdout",
     "output_type": "stream",
     "text": [
      "mse 0.12571308127686956\n",
      "mae 0.2584097335455258\n",
      "r_sq 0.2845465655950722\n"
     ]
    }
   ],
   "source": [
    "mse = mean_squared_error(Y.flatten(), Yhat.flatten())\n",
    "mae = mean_absolute_error(Y.flatten(), Yhat.flatten())\n",
    "r_sq = r2_score(Y.flatten(), Yhat.flatten())\n",
    "\n",
    "print('mse', mse)\n",
    "print('mae', mae)\n",
    "print('r_sq', r_sq)"
   ]
  },
  {
   "cell_type": "code",
   "execution_count": 606,
   "metadata": {},
   "outputs": [
    {
     "data": {
      "text/html": [
       "<div>\n",
       "<style scoped>\n",
       "    .dataframe tbody tr th:only-of-type {\n",
       "        vertical-align: middle;\n",
       "    }\n",
       "\n",
       "    .dataframe tbody tr th {\n",
       "        vertical-align: top;\n",
       "    }\n",
       "\n",
       "    .dataframe thead th {\n",
       "        text-align: right;\n",
       "    }\n",
       "</style>\n",
       "<table border=\"1\" class=\"dataframe\">\n",
       "  <thead>\n",
       "    <tr style=\"text-align: right;\">\n",
       "      <th></th>\n",
       "      <th>Dataset_Name</th>\n",
       "      <th>Generator_Type</th>\n",
       "      <th>Perc_of_train_hist_len</th>\n",
       "      <th>Forecast_algo</th>\n",
       "      <th>Trained_on</th>\n",
       "      <th>MSE</th>\n",
       "      <th>RMSE</th>\n",
       "      <th>MAE</th>\n",
       "      <th>R-squared</th>\n",
       "      <th>Time_Ran</th>\n",
       "      <th>Train_time_minutes</th>\n",
       "    </tr>\n",
       "  </thead>\n",
       "  <tbody>\n",
       "    <tr>\n",
       "      <th>0</th>\n",
       "      <td>sine</td>\n",
       "      <td>vae_conv</td>\n",
       "      <td>5</td>\n",
       "      <td>nbeats</td>\n",
       "      <td>generated_data</td>\n",
       "      <td>0.126</td>\n",
       "      <td>0.355</td>\n",
       "      <td>0.258</td>\n",
       "      <td>0.285</td>\n",
       "      <td>08/19/2021, 15:36:00</td>\n",
       "      <td>0.64</td>\n",
       "    </tr>\n",
       "  </tbody>\n",
       "</table>\n",
       "</div>"
      ],
      "text/plain": [
       "  Dataset_Name Generator_Type  Perc_of_train_hist_len Forecast_algo  \\\n",
       "0         sine       vae_conv                       5        nbeats   \n",
       "\n",
       "       Trained_on    MSE   RMSE    MAE  R-squared              Time_Ran  \\\n",
       "0  generated_data  0.126  0.355  0.258      0.285  08/19/2021, 15:36:00   \n",
       "\n",
       "   Train_time_minutes  \n",
       "0                0.64  "
      ]
     },
     "execution_count": 606,
     "metadata": {},
     "output_type": "execute_result"
    }
   ],
   "source": [
    "perf_metrics = [ [\n",
    "            dataset,\n",
    "            f'vae_{vae_type}' if train_on == 'generated_data' else 'None',\n",
    "            perc,\n",
    "            'nbeats', \n",
    "            train_on,\n",
    "            np.round(mse, 3), \n",
    "            np.round(np.sqrt(mse), 3),\n",
    "            np.round(mae, 3),\n",
    "            np.round(r_sq, 3),   \n",
    "            datetime.now().strftime(\"%m/%d/%Y, %H:%M:%S\"),\n",
    "            np.round(train_time, 3),\n",
    "             ]\n",
    "]\n",
    "\n",
    "columns=[\n",
    "    'Dataset_Name',\n",
    "    'Generator_Type',\n",
    "    'Perc_of_train_hist_len',\n",
    "    'Forecast_algo',\n",
    "    'Trained_on',\n",
    "    'MSE',\n",
    "    'RMSE',\n",
    "    'MAE',\n",
    "    'R-squared',\n",
    "    'Time_Ran',\n",
    "    'Train_time_minutes',\n",
    "]\n",
    "# convert to dataframe\n",
    "perf_metrics = pd.DataFrame(perf_metrics, columns=columns)  \n",
    "\n",
    "f_name = f'Results_{dataset}_traindata_perc{perc}_nbeats_trained_on_{train_on}.csv'\n",
    "perf_metrics.to_csv(f\"./outputs/{f_name}\", index=False)\n",
    "\n",
    "\n",
    "perf_metrics"
   ]
  },
  {
   "cell_type": "markdown",
   "metadata": {},
   "source": [
    "# Plot"
   ]
  },
  {
   "cell_type": "code",
   "execution_count": 607,
   "metadata": {},
   "outputs": [],
   "source": [
    "# plot utils.\n",
    "def plot_scatter(*args, **kwargs):\n",
    "    plt.plot(*args, **kwargs)\n",
    "    plt.scatter(*args, **kwargs)\n"
   ]
  },
  {
   "cell_type": "code",
   "execution_count": 608,
   "metadata": {},
   "outputs": [
    {
     "data": {
      "image/png": "[encoded data removed]",
      "text/plain": [
       "<Figure size 1152x576 with 4 Axes>"
      ]
     },
     "metadata": {
      "needs_background": "light"
     },
     "output_type": "display_data"
    }
   ],
   "source": [
    "subplots = [221, 222, 223, 224]\n",
    "plt.figure(1, figsize=(16,8))\n",
    "norm_constant = 1\n",
    "dim = 0\n",
    "\n",
    "temp_y = Y.copy()\n",
    "temp_yhat = Yhat.copy()\n",
    "temp_x = X.copy()\n",
    "\n",
    "for plot_id, i in enumerate(np.random.choice(range(len(X)), size=4, replace=False)):\n",
    "    p1 = np.expand_dims(Yhat[i][:,dim], axis=-1)\n",
    "    x1 = np.expand_dims(X[i][:,dim], axis=-1)\n",
    "    y1 = np.expand_dims(Y[i][:,dim], axis=-1)\n",
    "    ff, xx, yy = p1 * norm_constant, x1 * norm_constant, y1 * norm_constant\n",
    "    plt.subplot(subplots[plot_id])\n",
    "    plt.grid()\n",
    "    plot_scatter(range(0, backcast_length), xx, color='b')\n",
    "    plot_scatter(range(backcast_length, backcast_length + forecast_length), yy, color='g')\n",
    "    plot_scatter(range(backcast_length, backcast_length + forecast_length), ff, color='r')\n",
    "plt.savefig(\"nbeats-predictions-sines.png\", dpi=300)\n",
    "plt.show()"
   ]
  },
  {
   "cell_type": "code",
   "execution_count": null,
   "metadata": {},
   "outputs": [],
   "source": []
  },
  {
   "cell_type": "code",
   "execution_count": null,
   "metadata": {},
   "outputs": [],
   "source": []
  }
 ],
 "metadata": {
  "instance_type": "ml.g4dn.xlarge",
  "kernelspec": {
   "display_name": "Python 3",
   "language": "python",
   "name": "python3"
  },
  "language_info": {
   "codemirror_mode": {
    "name": "ipython",
    "version": 3
   },
   "file_extension": ".py",
   "mimetype": "text/x-python",
   "name": "python",
   "nbconvert_exporter": "python",
   "pygments_lexer": "ipython3",
   "version": "3.8.3"
  }
 },
 "nbformat": 4,
 "nbformat_minor": 4
}
