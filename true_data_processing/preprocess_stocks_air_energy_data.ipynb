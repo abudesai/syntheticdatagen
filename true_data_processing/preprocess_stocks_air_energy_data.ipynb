{
 "cells": [
  {
   "cell_type": "code",
   "execution_count": 1,
   "metadata": {},
   "outputs": [],
   "source": [
    "import numpy as np, pandas as pd\n",
    "import os, sys\n",
    "import matplotlib.pyplot as plt\n",
    "from sklearn.preprocessing import MinMaxScaler\n",
    "import joblib\n",
    "from datetime import datetime, date, time, timedelta\n",
    "import utils\n"
   ]
  },
  {
   "cell_type": "code",
   "execution_count": 2,
   "metadata": {},
   "outputs": [],
   "source": [
    "input_dir = \"../data/\"\n",
    "output_dir = \"../data/processed_orig_data/\"\n"
   ]
  },
  {
   "cell_type": "markdown",
   "metadata": {},
   "source": [
    "# Preprocess Air Quality Data\n",
    "\n",
    "Need to convert the data to have a single time column. Original data has Date and Time in separate columns."
   ]
  },
  {
   "cell_type": "code",
   "execution_count": 10,
   "metadata": {},
   "outputs": [
    {
     "data": {
      "text/html": [
       "<div>\n",
       "<style scoped>\n",
       "    .dataframe tbody tr th:only-of-type {\n",
       "        vertical-align: middle;\n",
       "    }\n",
       "\n",
       "    .dataframe tbody tr th {\n",
       "        vertical-align: top;\n",
       "    }\n",
       "\n",
       "    .dataframe thead th {\n",
       "        text-align: right;\n",
       "    }\n",
       "</style>\n",
       "<table border=\"1\" class=\"dataframe\">\n",
       "  <thead>\n",
       "    <tr style=\"text-align: right;\">\n",
       "      <th></th>\n",
       "      <th>Date</th>\n",
       "      <th>Time</th>\n",
       "      <th>CO(GT)</th>\n",
       "      <th>PT08.S1(CO)</th>\n",
       "      <th>NMHC(GT)</th>\n",
       "      <th>C6H6(GT)</th>\n",
       "      <th>PT08.S2(NMHC)</th>\n",
       "      <th>NOx(GT)</th>\n",
       "      <th>PT08.S3(NOx)</th>\n",
       "      <th>NO2(GT)</th>\n",
       "      <th>PT08.S4(NO2)</th>\n",
       "      <th>PT08.S5(O3)</th>\n",
       "      <th>T</th>\n",
       "      <th>RH</th>\n",
       "      <th>AH</th>\n",
       "    </tr>\n",
       "  </thead>\n",
       "  <tbody>\n",
       "    <tr>\n",
       "      <th>0</th>\n",
       "      <td>3/10/2004</td>\n",
       "      <td>18:00:00</td>\n",
       "      <td>2.6</td>\n",
       "      <td>1360</td>\n",
       "      <td>150</td>\n",
       "      <td>11.9</td>\n",
       "      <td>1046</td>\n",
       "      <td>166</td>\n",
       "      <td>1056</td>\n",
       "      <td>113</td>\n",
       "      <td>1692</td>\n",
       "      <td>1268</td>\n",
       "      <td>13.6</td>\n",
       "      <td>48.9</td>\n",
       "      <td>0.7578</td>\n",
       "    </tr>\n",
       "    <tr>\n",
       "      <th>1</th>\n",
       "      <td>3/10/2004</td>\n",
       "      <td>19:00:00</td>\n",
       "      <td>2.0</td>\n",
       "      <td>1292</td>\n",
       "      <td>112</td>\n",
       "      <td>9.4</td>\n",
       "      <td>955</td>\n",
       "      <td>103</td>\n",
       "      <td>1174</td>\n",
       "      <td>92</td>\n",
       "      <td>1559</td>\n",
       "      <td>972</td>\n",
       "      <td>13.3</td>\n",
       "      <td>47.7</td>\n",
       "      <td>0.7255</td>\n",
       "    </tr>\n",
       "    <tr>\n",
       "      <th>2</th>\n",
       "      <td>3/10/2004</td>\n",
       "      <td>20:00:00</td>\n",
       "      <td>2.2</td>\n",
       "      <td>1402</td>\n",
       "      <td>88</td>\n",
       "      <td>9.0</td>\n",
       "      <td>939</td>\n",
       "      <td>131</td>\n",
       "      <td>1140</td>\n",
       "      <td>114</td>\n",
       "      <td>1555</td>\n",
       "      <td>1074</td>\n",
       "      <td>11.9</td>\n",
       "      <td>54.0</td>\n",
       "      <td>0.7502</td>\n",
       "    </tr>\n",
       "    <tr>\n",
       "      <th>3</th>\n",
       "      <td>3/10/2004</td>\n",
       "      <td>21:00:00</td>\n",
       "      <td>2.2</td>\n",
       "      <td>1376</td>\n",
       "      <td>80</td>\n",
       "      <td>9.2</td>\n",
       "      <td>948</td>\n",
       "      <td>172</td>\n",
       "      <td>1092</td>\n",
       "      <td>122</td>\n",
       "      <td>1584</td>\n",
       "      <td>1203</td>\n",
       "      <td>11.0</td>\n",
       "      <td>60.0</td>\n",
       "      <td>0.7867</td>\n",
       "    </tr>\n",
       "    <tr>\n",
       "      <th>4</th>\n",
       "      <td>3/10/2004</td>\n",
       "      <td>22:00:00</td>\n",
       "      <td>1.6</td>\n",
       "      <td>1272</td>\n",
       "      <td>51</td>\n",
       "      <td>6.5</td>\n",
       "      <td>836</td>\n",
       "      <td>131</td>\n",
       "      <td>1205</td>\n",
       "      <td>116</td>\n",
       "      <td>1490</td>\n",
       "      <td>1110</td>\n",
       "      <td>11.2</td>\n",
       "      <td>59.6</td>\n",
       "      <td>0.7888</td>\n",
       "    </tr>\n",
       "  </tbody>\n",
       "</table>\n",
       "</div>"
      ],
      "text/plain": [
       "        Date      Time  CO(GT)  PT08.S1(CO)  NMHC(GT)  C6H6(GT)  \\\n",
       "0  3/10/2004  18:00:00     2.6         1360       150      11.9   \n",
       "1  3/10/2004  19:00:00     2.0         1292       112       9.4   \n",
       "2  3/10/2004  20:00:00     2.2         1402        88       9.0   \n",
       "3  3/10/2004  21:00:00     2.2         1376        80       9.2   \n",
       "4  3/10/2004  22:00:00     1.6         1272        51       6.5   \n",
       "\n",
       "   PT08.S2(NMHC)  NOx(GT)  PT08.S3(NOx)  NO2(GT)  PT08.S4(NO2)  PT08.S5(O3)  \\\n",
       "0           1046      166          1056      113          1692         1268   \n",
       "1            955      103          1174       92          1559          972   \n",
       "2            939      131          1140      114          1555         1074   \n",
       "3            948      172          1092      122          1584         1203   \n",
       "4            836      131          1205      116          1490         1110   \n",
       "\n",
       "      T    RH      AH  \n",
       "0  13.6  48.9  0.7578  \n",
       "1  13.3  47.7  0.7255  \n",
       "2  11.9  54.0  0.7502  \n",
       "3  11.0  60.0  0.7867  \n",
       "4  11.2  59.6  0.7888  "
      ]
     },
     "execution_count": 10,
     "metadata": {},
     "output_type": "execute_result"
    }
   ],
   "source": [
    "air = pd.read_csv(f\"{input_dir}AirQualityUCI.csv\")\n",
    "air.head()"
   ]
  },
  {
   "cell_type": "code",
   "execution_count": 11,
   "metadata": {},
   "outputs": [],
   "source": [
    "def parse_time_from_string(time_string,  format = '%H:%M:%S'):\n",
    "    return datetime.strptime(time_string, format).time()\n",
    "\n",
    "def parse_date_from_string(date_string, format='%m/%d/%Y'):\n",
    "    return datetime.strptime(date_string, format)     # '%Y-%m-%d'"
   ]
  },
  {
   "cell_type": "code",
   "execution_count": 12,
   "metadata": {},
   "outputs": [],
   "source": [
    "air['Date'] = air['Date'].apply(parse_date_from_string)\n",
    "air['Time'] = air['Time'].apply(parse_time_from_string)\n",
    "\n",
    "air['DateTime'] = air.apply(lambda row: datetime.combine(row['Date'], row['Time']), axis=1 )\n",
    "\n",
    "air.drop(columns = ['Date', 'Time'], inplace=True)\n",
    "air.head()\n",
    "\n",
    "air.to_csv(f\"{input_dir}/AirQualityUCI_processed.csv\", index=False)"
   ]
  },
  {
   "cell_type": "markdown",
   "metadata": {},
   "source": [
    "# Stocks, Air and Energy Data"
   ]
  },
  {
   "cell_type": "code",
   "execution_count": 3,
   "metadata": {},
   "outputs": [],
   "source": [
    "data_dict = {\n",
    "    'energy': {\n",
    "        'file': 'Energy-energydata_complete.csv',\n",
    "        'time_col': 'date',\n",
    "    },\n",
    "    'stocks': {\n",
    "        'file': 'stock_data.csv',\n",
    "        'time_col': None, \n",
    "    },\n",
    "    'stocks2': {\n",
    "        'file': 'stocks_verint.csv',\n",
    "        'time_col': None, \n",
    "    },\n",
    "    'air': {\n",
    "        'file': 'AirQualityUCI_processed.csv',\n",
    "        'time_col': 'DateTime',\n",
    "    },\n",
    "}"
   ]
  },
  {
   "cell_type": "markdown",
   "metadata": {},
   "source": [
    "### Choose Data"
   ]
  },
  {
   "cell_type": "code",
   "execution_count": 4,
   "metadata": {},
   "outputs": [],
   "source": [
    "# selected = 'energy'\n",
    "# selected = 'stocks'\n",
    "selected = 'stocks2'\n",
    "# selected = 'air'"
   ]
  },
  {
   "cell_type": "code",
   "execution_count": 5,
   "metadata": {},
   "outputs": [
    {
     "name": "stdout",
     "output_type": "stream",
     "text": [
      "        Open       High        Low      Close  Adj Close   Volume\n",
      "0  17.427406  17.539480  16.826286  16.958736  16.958736  1315210\n",
      "1  17.024961  17.784004  16.989302  17.437595  17.437595   935762\n",
      "2  17.340805  17.473255  17.198166  17.289862  17.289862  1167396\n",
      "3  17.233826  17.371370  16.897606  17.269485  17.269485   671150\n",
      "4  17.137035  17.289862  16.729496  16.917982  16.917982   915347\n"
     ]
    }
   ],
   "source": [
    "file_path = os.path.join(input_dir, data_dict[selected]['file'])\n",
    "\n",
    "if data_dict[selected]['time_col'] is not None: \n",
    "    data = pd.read_csv(file_path, parse_dates=[data_dict[selected]['time_col']])\n",
    "else:\n",
    "    data = pd.read_csv(file_path)\n",
    "print(data.head())"
   ]
  },
  {
   "cell_type": "code",
   "execution_count": 6,
   "metadata": {},
   "outputs": [
    {
     "name": "stdout",
     "output_type": "stream",
     "text": [
      "data shape:  (3943, 6)\n"
     ]
    }
   ],
   "source": [
    "print(\"data shape: \", data.shape)"
   ]
  },
  {
   "cell_type": "markdown",
   "metadata": {},
   "source": [
    "### Sort data by time"
   ]
  },
  {
   "cell_type": "code",
   "execution_count": 7,
   "metadata": {},
   "outputs": [
    {
     "name": "stdout",
     "output_type": "stream",
     "text": [
      "None\n"
     ]
    }
   ],
   "source": [
    "time_col = data_dict[selected]['time_col']\n",
    "print(time_col)"
   ]
  },
  {
   "cell_type": "code",
   "execution_count": 8,
   "metadata": {},
   "outputs": [],
   "source": [
    "if time_col in data: \n",
    "    data.sort_values(by=time_col, inplace=True)\n",
    "    data.reset_index(drop=True, inplace=True)"
   ]
  },
  {
   "cell_type": "markdown",
   "metadata": {},
   "source": [
    "### Delete the time col"
   ]
  },
  {
   "cell_type": "code",
   "execution_count": 9,
   "metadata": {},
   "outputs": [
    {
     "name": "stdout",
     "output_type": "stream",
     "text": [
      "data shape:  (3943, 6)\n"
     ]
    }
   ],
   "source": [
    "if time_col in data: del data[time_col]\n",
    "print(\"data shape: \", data.shape)"
   ]
  },
  {
   "cell_type": "markdown",
   "metadata": {},
   "source": [
    "### Train Test Split"
   ]
  },
  {
   "cell_type": "code",
   "execution_count": 12,
   "metadata": {},
   "outputs": [
    {
     "name": "stdout",
     "output_type": "stream",
     "text": [
      "frac:2%, train_data_frac shape: (78, 6)\n",
      "frac:5%, train_data_frac shape: (197, 6)\n",
      "frac:10%, train_data_frac shape: (394, 6)\n",
      "frac:20%, train_data_frac shape: (788, 6)\n",
      "frac:100%, train_data_frac shape: (3943, 6)\n"
     ]
    }
   ],
   "source": [
    "N = data.shape[0]\n",
    "TEST_PERC = 0.00\n",
    "TRAIN_PERC = 1- TEST_PERC\n",
    "\n",
    "perc_of_train_data = [2, 5, 10, 20, 100]\n",
    "\n",
    "frac_datasets = []\n",
    "for p in perc_of_train_data: \n",
    "    \n",
    "    num_test = int(N * TEST_PERC)   # to be held-out\n",
    "    orig_num_train = N - num_test\n",
    "    \n",
    "    test_data = data.tail(num_test)  # to be used for evaluation later\n",
    "    \n",
    "    orig_train_data = data.loc[np.arange(orig_num_train)]\n",
    "    #print(orig_train_data.shape)\n",
    "    \n",
    "    num_train_frac = int(orig_num_train * p / 100.)\n",
    "    #print(f'Num train steps for p = {p} is {num_train_frac}')\n",
    "    \n",
    "    train_data_frac = data.tail(num_train_frac) \n",
    "    frac_datasets.append(train_data_frac)\n",
    "    print(f'frac:{p}%, train_data_frac shape: {train_data_frac.shape}' )\n",
    "    \n",
    "    #np.save(os.path.join(data_dir, f'{selected}_train_perc_{p}.npy'), train_data_frac)"
   ]
  },
  {
   "cell_type": "markdown",
   "metadata": {},
   "source": [
    "### Convert to 3D tensors\n",
    "shape = N, T, D "
   ]
  },
  {
   "cell_type": "code",
   "execution_count": 13,
   "metadata": {},
   "outputs": [
    {
     "name": "stdout",
     "output_type": "stream",
     "text": [
      "reshaped:  (1, 78, 6)\n",
      "reshaped:  (1, 197, 6)\n",
      "reshaped:  (1, 394, 6)\n",
      "reshaped:  (1, 788, 6)\n",
      "reshaped:  (1, 3943, 6)\n"
     ]
    }
   ],
   "source": [
    "for i, d in enumerate(frac_datasets):\n",
    "    frac_datasets[i] = d.values.reshape(1, *d.shape)\n",
    "    print(\"reshaped: \", frac_datasets[i].shape)"
   ]
  },
  {
   "cell_type": "markdown",
   "metadata": {},
   "source": [
    "### Create Subsampled series of required seq_len"
   ]
  },
  {
   "cell_type": "code",
   "execution_count": 15,
   "metadata": {},
   "outputs": [
    {
     "name": "stdout",
     "output_type": "stream",
     "text": [
      "p: 2 3d tensor shape: (54, 24, 6)\n",
      "p: 5 3d tensor shape: (173, 24, 6)\n",
      "p: 10 3d tensor shape: (370, 24, 6)\n",
      "p: 20 3d tensor shape: (764, 24, 6)\n",
      "p: 100 3d tensor shape: (3919, 24, 6)\n"
     ]
    }
   ],
   "source": [
    "\n",
    "T = 24\n",
    "for p, d in zip(perc_of_train_data, frac_datasets):\n",
    "    subsampled_dataset = []\n",
    "    for idx in range(d.shape[1] - T):\n",
    "        ser = d[:, idx: idx+T, :]\n",
    "        subsampled_dataset.append(ser)\n",
    "    subsampled_dataset = np.concatenate(subsampled_dataset, axis=0)\n",
    "    print('p:', p, '3d tensor shape:', subsampled_dataset.shape)\n",
    "    \n",
    "    np.savez_compressed(os.path.join(f'{output_dir}/{selected}_subsampled_train_perc_{p}.npz'), data=subsampled_dataset)"
   ]
  },
  {
   "cell_type": "code",
   "execution_count": 16,
   "metadata": {},
   "outputs": [
    {
     "data": {
      "text/plain": [
       "array([1.92649024e+01, 1.95093003e+01, 1.90050420e+01, 1.92690671e+01,\n",
       "       1.92690671e+01, 5.97301546e+05])"
      ]
     },
     "execution_count": 16,
     "metadata": {},
     "output_type": "execute_result"
    }
   ],
   "source": [
    "subsampled_dataset.mean(axis=0).mean(axis=0)"
   ]
  },
  {
   "cell_type": "markdown",
   "metadata": {},
   "source": [
    "# Loading data"
   ]
  },
  {
   "cell_type": "code",
   "execution_count": 18,
   "metadata": {
    "scrolled": true
   },
   "outputs": [
    {
     "data": {
      "image/png": "[encoded data removed]",
      "text/plain": [
       "<Figure size 432x576 with 5 Axes>"
      ]
     },
     "metadata": {
      "needs_background": "light"
     },
     "output_type": "display_data"
    }
   ],
   "source": [
    "np.random.seed(0)\n",
    "selected = 'stocks2'\n",
    "perc = 10\n",
    "\n",
    "loaded = np.load(f'{output_dir}{selected}_subsampled_train_perc_{perc}.npz')\n",
    "data = loaded['data']\n",
    "# print(data.shape)\n",
    "\n",
    "# print(\"data mean : \", data.mean(axis=0).mean(axis=0)) \n",
    "\n",
    "utils.plot_samples(data, n=5, title='Orig data')"
   ]
  },
  {
   "cell_type": "code",
   "execution_count": null,
   "metadata": {},
   "outputs": [],
   "source": []
  },
  {
   "cell_type": "code",
   "execution_count": null,
   "metadata": {},
   "outputs": [],
   "source": []
  },
  {
   "cell_type": "code",
   "execution_count": null,
   "metadata": {},
   "outputs": [],
   "source": []
  }
 ],
 "metadata": {
  "kernelspec": {
   "display_name": "Python 3",
   "language": "python",
   "name": "python3"
  },
  "language_info": {
   "codemirror_mode": {
    "name": "ipython",
    "version": 3
   },
   "file_extension": ".py",
   "mimetype": "text/x-python",
   "name": "python",
   "nbconvert_exporter": "python",
   "pygments_lexer": "ipython3",
   "version": "3.7.6"
  }
 },
 "nbformat": 4,
 "nbformat_minor": 4
}
