{
 "cells": [
  {
   "cell_type": "code",
   "execution_count": 5,
   "metadata": {},
   "outputs": [],
   "source": [
    "import yfinance as yf\n",
    "import os, sys"
   ]
  },
  {
   "cell_type": "code",
   "execution_count": 2,
   "metadata": {},
   "outputs": [
    {
     "name": "stdout",
     "output_type": "stream",
     "text": [
      "[*********************100%***********************]  1 of 1 completed\n"
     ]
    }
   ],
   "source": [
    "data = yf.download('VRNT','2006-01-01','2021-09-01')"
   ]
  },
  {
   "cell_type": "code",
   "execution_count": 3,
   "metadata": {},
   "outputs": [
    {
     "data": {
      "text/html": [
       "<div>\n",
       "<style scoped>\n",
       "    .dataframe tbody tr th:only-of-type {\n",
       "        vertical-align: middle;\n",
       "    }\n",
       "\n",
       "    .dataframe tbody tr th {\n",
       "        vertical-align: top;\n",
       "    }\n",
       "\n",
       "    .dataframe thead th {\n",
       "        text-align: right;\n",
       "    }\n",
       "</style>\n",
       "<table border=\"1\" class=\"dataframe\">\n",
       "  <thead>\n",
       "    <tr style=\"text-align: right;\">\n",
       "      <th></th>\n",
       "      <th>Open</th>\n",
       "      <th>High</th>\n",
       "      <th>Low</th>\n",
       "      <th>Close</th>\n",
       "      <th>Adj Close</th>\n",
       "      <th>Volume</th>\n",
       "    </tr>\n",
       "    <tr>\n",
       "      <th>Date</th>\n",
       "      <th></th>\n",
       "      <th></th>\n",
       "      <th></th>\n",
       "      <th></th>\n",
       "      <th></th>\n",
       "      <th></th>\n",
       "    </tr>\n",
       "  </thead>\n",
       "  <tbody>\n",
       "    <tr>\n",
       "      <th>2006-01-03</th>\n",
       "      <td>17.427406</td>\n",
       "      <td>17.539480</td>\n",
       "      <td>16.826286</td>\n",
       "      <td>16.958736</td>\n",
       "      <td>16.958736</td>\n",
       "      <td>1315210</td>\n",
       "    </tr>\n",
       "    <tr>\n",
       "      <th>2006-01-04</th>\n",
       "      <td>17.024961</td>\n",
       "      <td>17.784004</td>\n",
       "      <td>16.989302</td>\n",
       "      <td>17.437595</td>\n",
       "      <td>17.437595</td>\n",
       "      <td>935762</td>\n",
       "    </tr>\n",
       "    <tr>\n",
       "      <th>2006-01-05</th>\n",
       "      <td>17.340805</td>\n",
       "      <td>17.473255</td>\n",
       "      <td>17.198166</td>\n",
       "      <td>17.289862</td>\n",
       "      <td>17.289862</td>\n",
       "      <td>1167396</td>\n",
       "    </tr>\n",
       "    <tr>\n",
       "      <th>2006-01-06</th>\n",
       "      <td>17.233826</td>\n",
       "      <td>17.371370</td>\n",
       "      <td>16.897606</td>\n",
       "      <td>17.269485</td>\n",
       "      <td>17.269485</td>\n",
       "      <td>671150</td>\n",
       "    </tr>\n",
       "    <tr>\n",
       "      <th>2006-01-09</th>\n",
       "      <td>17.137035</td>\n",
       "      <td>17.289862</td>\n",
       "      <td>16.729496</td>\n",
       "      <td>16.917982</td>\n",
       "      <td>16.917982</td>\n",
       "      <td>915347</td>\n",
       "    </tr>\n",
       "    <tr>\n",
       "      <th>...</th>\n",
       "      <td>...</td>\n",
       "      <td>...</td>\n",
       "      <td>...</td>\n",
       "      <td>...</td>\n",
       "      <td>...</td>\n",
       "      <td>...</td>\n",
       "    </tr>\n",
       "    <tr>\n",
       "      <th>2021-08-25</th>\n",
       "      <td>43.700001</td>\n",
       "      <td>44.430000</td>\n",
       "      <td>43.700001</td>\n",
       "      <td>44.410000</td>\n",
       "      <td>44.410000</td>\n",
       "      <td>511900</td>\n",
       "    </tr>\n",
       "    <tr>\n",
       "      <th>2021-08-26</th>\n",
       "      <td>44.700001</td>\n",
       "      <td>44.700001</td>\n",
       "      <td>44.139999</td>\n",
       "      <td>44.160000</td>\n",
       "      <td>44.160000</td>\n",
       "      <td>474200</td>\n",
       "    </tr>\n",
       "    <tr>\n",
       "      <th>2021-08-27</th>\n",
       "      <td>44.299999</td>\n",
       "      <td>44.880001</td>\n",
       "      <td>44.220001</td>\n",
       "      <td>44.669998</td>\n",
       "      <td>44.669998</td>\n",
       "      <td>497300</td>\n",
       "    </tr>\n",
       "    <tr>\n",
       "      <th>2021-08-30</th>\n",
       "      <td>44.680000</td>\n",
       "      <td>44.770000</td>\n",
       "      <td>44.520000</td>\n",
       "      <td>44.590000</td>\n",
       "      <td>44.590000</td>\n",
       "      <td>335500</td>\n",
       "    </tr>\n",
       "    <tr>\n",
       "      <th>2021-08-31</th>\n",
       "      <td>44.570000</td>\n",
       "      <td>45.139999</td>\n",
       "      <td>44.299999</td>\n",
       "      <td>44.639999</td>\n",
       "      <td>44.639999</td>\n",
       "      <td>356200</td>\n",
       "    </tr>\n",
       "  </tbody>\n",
       "</table>\n",
       "<p>3943 rows × 6 columns</p>\n",
       "</div>"
      ],
      "text/plain": [
       "                 Open       High        Low      Close  Adj Close   Volume\n",
       "Date                                                                      \n",
       "2006-01-03  17.427406  17.539480  16.826286  16.958736  16.958736  1315210\n",
       "2006-01-04  17.024961  17.784004  16.989302  17.437595  17.437595   935762\n",
       "2006-01-05  17.340805  17.473255  17.198166  17.289862  17.289862  1167396\n",
       "2006-01-06  17.233826  17.371370  16.897606  17.269485  17.269485   671150\n",
       "2006-01-09  17.137035  17.289862  16.729496  16.917982  16.917982   915347\n",
       "...               ...        ...        ...        ...        ...      ...\n",
       "2021-08-25  43.700001  44.430000  43.700001  44.410000  44.410000   511900\n",
       "2021-08-26  44.700001  44.700001  44.139999  44.160000  44.160000   474200\n",
       "2021-08-27  44.299999  44.880001  44.220001  44.669998  44.669998   497300\n",
       "2021-08-30  44.680000  44.770000  44.520000  44.590000  44.590000   335500\n",
       "2021-08-31  44.570000  45.139999  44.299999  44.639999  44.639999   356200\n",
       "\n",
       "[3943 rows x 6 columns]"
      ]
     },
     "execution_count": 3,
     "metadata": {},
     "output_type": "execute_result"
    }
   ],
   "source": [
    "data"
   ]
  },
  {
   "cell_type": "code",
   "execution_count": 8,
   "metadata": {},
   "outputs": [
    {
     "data": {
      "text/plain": [
       "'../data/stocks_verint.csv'"
      ]
     },
     "execution_count": 8,
     "metadata": {},
     "output_type": "execute_result"
    }
   ],
   "source": [
    "input_dir = \"../data/\"\n",
    "f_path = os.path.join(input_dir, 'stocks_verint.csv')\n",
    "f_path"
   ]
  },
  {
   "cell_type": "code",
   "execution_count": 9,
   "metadata": {},
   "outputs": [],
   "source": [
    "data.to_csv(f_path, index=False)"
   ]
  },
  {
   "cell_type": "code",
   "execution_count": null,
   "metadata": {},
   "outputs": [],
   "source": []
  }
 ],
 "metadata": {
  "kernelspec": {
   "display_name": "Python 3",
   "language": "python",
   "name": "python3"
  },
  "language_info": {
   "codemirror_mode": {
    "name": "ipython",
    "version": 3
   },
   "file_extension": ".py",
   "mimetype": "text/x-python",
   "name": "python",
   "nbconvert_exporter": "python",
   "pygments_lexer": "ipython3",
   "version": "3.7.6"
  }
 },
 "nbformat": 4,
 "nbformat_minor": 4
}
