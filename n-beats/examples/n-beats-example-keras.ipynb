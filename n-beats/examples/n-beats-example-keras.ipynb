{
 "cells": [
  {
   "cell_type": "code",
   "execution_count": 1,
   "id": "488e46a8",
   "metadata": {
    "scrolled": true
   },
   "outputs": [],
   "source": [
    "import warnings, os\n",
    "import numpy as np\n",
    "import pandas as pd\n",
    "from nbeats_keras.model import NBeatsNet as NBeatsKeras\n",
    "warnings.filterwarnings(action='ignore', message='Setting attributes')\n",
    "import tensorflow as tf\n",
    "from sklearn.metrics import mean_absolute_error, mean_squared_error\n",
    "import matplotlib.pyplot as plt"
   ]
  },
  {
   "cell_type": "code",
   "execution_count": 2,
   "id": "df5b64ef",
   "metadata": {},
   "outputs": [],
   "source": [
    "os.environ[\"CUDA_DEVICE_ORDER\"]=\"PCI_BUS_ID\"\n",
    "os.environ['CUDA_VISIBLE_DEVICES'] = \"1\"\n",
    "config = tf.compat.v1.ConfigProto() # Another Version: config = tf.ConfigProto()\n",
    "config.gpu_options.allow_growth = True"
   ]
  },
  {
   "cell_type": "code",
   "execution_count": 3,
   "id": "b1442b2b",
   "metadata": {},
   "outputs": [],
   "source": [
    "# plot utils.\n",
    "def plot_scatter(*args, **kwargs):\n",
    "    plt.plot(*args, **kwargs)\n",
    "    plt.scatter(*args, **kwargs)\n",
    "\n",
    "\n",
    "# simple batcher.\n",
    "def data_generator(x, y, size):\n",
    "    assert len(x) == len(y)\n",
    "    batches = []\n",
    "    for ii in range(0, len(x), size):\n",
    "        batches.append((x[ii:ii + size], y[ii:ii + size]))\n",
    "    for batch in batches:\n",
    "        yield batch"
   ]
  },
  {
   "cell_type": "code",
   "execution_count": 17,
   "id": "9fad2728",
   "metadata": {
    "scrolled": false
   },
   "outputs": [
    {
     "name": "stdout",
     "output_type": "stream",
     "text": [
      "            milk_production_pounds\n",
      "month                             \n",
      "1962-01-01                     589\n",
      "1962-02-01                     561\n",
      "1962-03-01                     640\n",
      "1962-04-01                     656\n",
      "1962-05-01                     727\n"
     ]
    }
   ],
   "source": [
    "num_samples, time_steps, input_dim, output_dim = 50_000, 15, 1, 1\n",
    "backend = NBeatsKeras(\n",
    "        input_dim=input_dim,\n",
    "        backcast_length=time_steps, forecast_length=output_dim*5,\n",
    "        stack_types=(NBeatsKeras.GENERIC_BLOCK, NBeatsKeras.GENERIC_BLOCK),\n",
    "        nb_blocks_per_stack=2, thetas_dim=(4, 4), share_weights_in_stack=True,\n",
    "        hidden_layer_units=64\n",
    "    )\n",
    "\n",
    "# Definition of the objective function and the optimizer.\n",
    "backend.compile(loss='mae', optimizer='adam')\n",
    "\n",
    "forecast_length = 5\n",
    "backcast_length = 3 * forecast_length\n",
    "\n",
    "milk = pd.read_csv('data/milk.csv', index_col=0, parse_dates=True)\n",
    "print(milk.head())\n",
    "milk = milk.values.flatten()  # just keep np array here for simplicity. milk.shape = 168\n",
    "\n",
    "# x: data backcast/y: forecast generation.\n",
    "x, y = [], []\n",
    "for epoch in range(backcast_length, len(milk) - forecast_length): # range(15, len-5):\n",
    "    x.append(milk[epoch - backcast_length:epoch]) # x = backcast (0,15), (1,16)\n",
    "    y.append(milk[epoch:epoch + forecast_length]) # y = forecast (15,20), (16,21)\n",
    "x = np.array(x)\n",
    "y = np.array(y)\n",
    "\n",
    "# split train/test.\n",
    "c = int(len(x) * 0.8)\n",
    "# print(\"the c size is: \", c) # c = 118\n",
    "x_train, y_train = x[:c], y[:c] # cut the first part to be training samples (80%)\n",
    "x_test, y_test = x[c:], y[c:] # use the rest part to be testing samples (20%)\n",
    "\n",
    "# normalization.\n",
    "norm_constant = np.max(x_train)\n",
    "x_train, y_train = x_train / norm_constant, y_train / norm_constant\n",
    "x_test, y_test = x_test / norm_constant, y_test / norm_constant\n",
    "test_size = len(x_test)\n",
    "# print(\"test_size is:\", test_size) # test_size = 30"
   ]
  },
  {
   "cell_type": "code",
   "execution_count": 18,
   "id": "8b0f09f4",
   "metadata": {},
   "outputs": [
    {
     "data": {
      "text/plain": [
       "((118, 15), (118, 5), (30, 15), (30, 5))"
      ]
     },
     "execution_count": 18,
     "metadata": {},
     "output_type": "execute_result"
    }
   ],
   "source": [
    "# check the model data shape\n",
    "x_train.shape, y_train.shape, x_test.shape, y_test.shape"
   ]
  },
  {
   "cell_type": "code",
   "execution_count": 19,
   "id": "4df1b22b",
   "metadata": {
    "scrolled": false
   },
   "outputs": [
    {
     "name": "stdout",
     "output_type": "stream",
     "text": [
      "Training...\n",
      "Epoch 1/100\n",
      "1/1 [==============================] - 2s 2s/step - loss: 0.6317 - val_loss: 0.5076\n",
      "Epoch 2/100\n",
      "1/1 [==============================] - 0s 19ms/step - loss: 0.4445 - val_loss: 0.3947\n",
      "Epoch 3/100\n",
      "1/1 [==============================] - 0s 20ms/step - loss: 0.3442 - val_loss: 0.3318\n",
      "Epoch 4/100\n",
      "1/1 [==============================] - 0s 19ms/step - loss: 0.2886 - val_loss: 0.2914\n",
      "Epoch 5/100\n",
      "1/1 [==============================] - 0s 17ms/step - loss: 0.2511 - val_loss: 0.1990\n",
      "Epoch 6/100\n",
      "1/1 [==============================] - 0s 19ms/step - loss: 0.1735 - val_loss: 0.1163\n",
      "Epoch 7/100\n",
      "1/1 [==============================] - 0s 18ms/step - loss: 0.1071 - val_loss: 0.1005\n",
      "Epoch 8/100\n",
      "1/1 [==============================] - 0s 19ms/step - loss: 0.0960 - val_loss: 0.1177\n",
      "Epoch 9/100\n",
      "1/1 [==============================] - 0s 19ms/step - loss: 0.1053 - val_loss: 0.1265\n",
      "Epoch 10/100\n",
      "1/1 [==============================] - 0s 20ms/step - loss: 0.1102 - val_loss: 0.1188\n",
      "Epoch 11/100\n",
      "1/1 [==============================] - 0s 22ms/step - loss: 0.1025 - val_loss: 0.0905\n",
      "Epoch 12/100\n",
      "1/1 [==============================] - 0s 40ms/step - loss: 0.0778 - val_loss: 0.0771\n",
      "Epoch 13/100\n",
      "1/1 [==============================] - 0s 27ms/step - loss: 0.0683 - val_loss: 0.0811\n",
      "Epoch 14/100\n",
      "1/1 [==============================] - 0s 19ms/step - loss: 0.0720 - val_loss: 0.0823\n",
      "Epoch 15/100\n",
      "1/1 [==============================] - 0s 18ms/step - loss: 0.0737 - val_loss: 0.0809\n",
      "Epoch 16/100\n",
      "1/1 [==============================] - 0s 23ms/step - loss: 0.0738 - val_loss: 0.0786\n",
      "Epoch 17/100\n",
      "1/1 [==============================] - 0s 18ms/step - loss: 0.0726 - val_loss: 0.0675\n",
      "Epoch 18/100\n",
      "1/1 [==============================] - 0s 18ms/step - loss: 0.0641 - val_loss: 0.0594\n",
      "Epoch 19/100\n",
      "1/1 [==============================] - 0s 17ms/step - loss: 0.0567 - val_loss: 0.0507\n",
      "Epoch 20/100\n",
      "1/1 [==============================] - 0s 17ms/step - loss: 0.0486 - val_loss: 0.0542\n",
      "Epoch 21/100\n",
      "1/1 [==============================] - 0s 18ms/step - loss: 0.0514 - val_loss: 0.0608\n",
      "Epoch 22/100\n",
      "1/1 [==============================] - 0s 16ms/step - loss: 0.0564 - val_loss: 0.0651\n",
      "Epoch 23/100\n",
      "1/1 [==============================] - 0s 31ms/step - loss: 0.0595 - val_loss: 0.0630\n",
      "Epoch 24/100\n",
      "1/1 [==============================] - 0s 31ms/step - loss: 0.0573 - val_loss: 0.0547\n",
      "Epoch 25/100\n",
      "1/1 [==============================] - 0s 21ms/step - loss: 0.0507 - val_loss: 0.0481\n",
      "Epoch 26/100\n",
      "1/1 [==============================] - 0s 20ms/step - loss: 0.0453 - val_loss: 0.0429\n",
      "Epoch 27/100\n",
      "1/1 [==============================] - 0s 21ms/step - loss: 0.0418 - val_loss: 0.0456\n",
      "Epoch 28/100\n",
      "1/1 [==============================] - 0s 25ms/step - loss: 0.0436 - val_loss: 0.0486\n",
      "Epoch 29/100\n",
      "1/1 [==============================] - 0s 25ms/step - loss: 0.0452 - val_loss: 0.0523\n",
      "Epoch 30/100\n",
      "1/1 [==============================] - 0s 24ms/step - loss: 0.0473 - val_loss: 0.0494\n",
      "Epoch 31/100\n",
      "1/1 [==============================] - 0s 22ms/step - loss: 0.0449 - val_loss: 0.0454\n",
      "Epoch 32/100\n",
      "1/1 [==============================] - 0s 19ms/step - loss: 0.0418 - val_loss: 0.0409\n",
      "Epoch 33/100\n",
      "1/1 [==============================] - 0s 23ms/step - loss: 0.0385 - val_loss: 0.0409\n",
      "Epoch 34/100\n",
      "1/1 [==============================] - 0s 21ms/step - loss: 0.0378 - val_loss: 0.0410\n",
      "Epoch 35/100\n",
      "1/1 [==============================] - 0s 19ms/step - loss: 0.0384 - val_loss: 0.0422\n",
      "Epoch 36/100\n",
      "1/1 [==============================] - 0s 18ms/step - loss: 0.0394 - val_loss: 0.0408\n",
      "Epoch 37/100\n",
      "1/1 [==============================] - 0s 19ms/step - loss: 0.0379 - val_loss: 0.0398\n",
      "Epoch 38/100\n",
      "1/1 [==============================] - 0s 19ms/step - loss: 0.0358 - val_loss: 0.0375\n",
      "Epoch 39/100\n",
      "1/1 [==============================] - 0s 21ms/step - loss: 0.0339 - val_loss: 0.0379\n",
      "Epoch 40/100\n",
      "1/1 [==============================] - 0s 21ms/step - loss: 0.0346 - val_loss: 0.0372\n",
      "Epoch 41/100\n",
      "1/1 [==============================] - 0s 17ms/step - loss: 0.0346 - val_loss: 0.0368\n",
      "Epoch 42/100\n",
      "1/1 [==============================] - 0s 18ms/step - loss: 0.0339 - val_loss: 0.0376\n",
      "Epoch 43/100\n",
      "1/1 [==============================] - 0s 18ms/step - loss: 0.0329 - val_loss: 0.0378\n",
      "Epoch 44/100\n",
      "1/1 [==============================] - 0s 22ms/step - loss: 0.0319 - val_loss: 0.0366\n",
      "Epoch 45/100\n",
      "1/1 [==============================] - 0s 31ms/step - loss: 0.0315 - val_loss: 0.0354\n",
      "Epoch 46/100\n",
      "1/1 [==============================] - 0s 29ms/step - loss: 0.0317 - val_loss: 0.0350\n",
      "Epoch 47/100\n",
      "1/1 [==============================] - 0s 21ms/step - loss: 0.0313 - val_loss: 0.0349\n",
      "Epoch 48/100\n",
      "1/1 [==============================] - 0s 20ms/step - loss: 0.0300 - val_loss: 0.0345\n",
      "Epoch 49/100\n",
      "1/1 [==============================] - 0s 19ms/step - loss: 0.0296 - val_loss: 0.0335\n",
      "Epoch 50/100\n",
      "1/1 [==============================] - 0s 18ms/step - loss: 0.0298 - val_loss: 0.0334\n",
      "Epoch 51/100\n",
      "1/1 [==============================] - 0s 16ms/step - loss: 0.0293 - val_loss: 0.0338\n",
      "Epoch 52/100\n",
      "1/1 [==============================] - 0s 20ms/step - loss: 0.0289 - val_loss: 0.0330\n",
      "Epoch 53/100\n",
      "1/1 [==============================] - 0s 17ms/step - loss: 0.0283 - val_loss: 0.0317\n",
      "Epoch 54/100\n",
      "1/1 [==============================] - 0s 17ms/step - loss: 0.0281 - val_loss: 0.0343\n",
      "Epoch 55/100\n",
      "1/1 [==============================] - 0s 30ms/step - loss: 0.0281 - val_loss: 0.0337\n",
      "Epoch 56/100\n",
      "1/1 [==============================] - 0s 19ms/step - loss: 0.0275 - val_loss: 0.0302\n",
      "Epoch 57/100\n",
      "1/1 [==============================] - 0s 23ms/step - loss: 0.0270 - val_loss: 0.0311\n",
      "Epoch 58/100\n",
      "1/1 [==============================] - 0s 17ms/step - loss: 0.0269 - val_loss: 0.0329\n",
      "Epoch 59/100\n",
      "1/1 [==============================] - 0s 20ms/step - loss: 0.0270 - val_loss: 0.0311\n",
      "Epoch 60/100\n",
      "1/1 [==============================] - 0s 23ms/step - loss: 0.0262 - val_loss: 0.0300\n",
      "Epoch 61/100\n",
      "1/1 [==============================] - 0s 18ms/step - loss: 0.0258 - val_loss: 0.0311\n",
      "Epoch 62/100\n",
      "1/1 [==============================] - 0s 31ms/step - loss: 0.0261 - val_loss: 0.0312\n",
      "Epoch 63/100\n",
      "1/1 [==============================] - 0s 20ms/step - loss: 0.0263 - val_loss: 0.0290\n",
      "Epoch 64/100\n",
      "1/1 [==============================] - 0s 19ms/step - loss: 0.0250 - val_loss: 0.0304\n",
      "Epoch 65/100\n",
      "1/1 [==============================] - 0s 20ms/step - loss: 0.0250 - val_loss: 0.0316\n",
      "Epoch 66/100\n",
      "1/1 [==============================] - 0s 19ms/step - loss: 0.0257 - val_loss: 0.0293\n",
      "Epoch 67/100\n",
      "1/1 [==============================] - 0s 19ms/step - loss: 0.0264 - val_loss: 0.0319\n",
      "Epoch 68/100\n",
      "1/1 [==============================] - 0s 18ms/step - loss: 0.0253 - val_loss: 0.0280\n",
      "Epoch 69/100\n",
      "1/1 [==============================] - 0s 19ms/step - loss: 0.0240 - val_loss: 0.0282\n",
      "Epoch 70/100\n",
      "1/1 [==============================] - 0s 21ms/step - loss: 0.0241 - val_loss: 0.0311\n",
      "Epoch 71/100\n",
      "1/1 [==============================] - 0s 18ms/step - loss: 0.0252 - val_loss: 0.0286\n",
      "Epoch 72/100\n",
      "1/1 [==============================] - 0s 19ms/step - loss: 0.0252 - val_loss: 0.0289\n",
      "Epoch 73/100\n",
      "1/1 [==============================] - 0s 18ms/step - loss: 0.0233 - val_loss: 0.0275\n",
      "Epoch 74/100\n",
      "1/1 [==============================] - 0s 19ms/step - loss: 0.0231 - val_loss: 0.0296\n",
      "Epoch 75/100\n",
      "1/1 [==============================] - 0s 19ms/step - loss: 0.0242 - val_loss: 0.0302\n",
      "Epoch 76/100\n",
      "1/1 [==============================] - 0s 19ms/step - loss: 0.0246 - val_loss: 0.0262\n",
      "Epoch 77/100\n",
      "1/1 [==============================] - 0s 19ms/step - loss: 0.0249 - val_loss: 0.0300\n",
      "Epoch 78/100\n",
      "1/1 [==============================] - 0s 19ms/step - loss: 0.0232 - val_loss: 0.0265\n",
      "Epoch 79/100\n",
      "1/1 [==============================] - 0s 20ms/step - loss: 0.0229 - val_loss: 0.0283\n",
      "Epoch 80/100\n",
      "1/1 [==============================] - 0s 29ms/step - loss: 0.0237 - val_loss: 0.0297\n",
      "Epoch 81/100\n",
      "1/1 [==============================] - 0s 33ms/step - loss: 0.0235 - val_loss: 0.0250\n",
      "Epoch 82/100\n",
      "1/1 [==============================] - 0s 21ms/step - loss: 0.0229 - val_loss: 0.0285\n",
      "Epoch 83/100\n"
     ]
    },
    {
     "name": "stdout",
     "output_type": "stream",
     "text": [
      "1/1 [==============================] - 0s 37ms/step - loss: 0.0226 - val_loss: 0.0268\n",
      "Epoch 84/100\n",
      "1/1 [==============================] - 0s 29ms/step - loss: 0.0220 - val_loss: 0.0292\n",
      "Epoch 85/100\n",
      "1/1 [==============================] - 0s 24ms/step - loss: 0.0233 - val_loss: 0.0278\n",
      "Epoch 86/100\n",
      "1/1 [==============================] - 0s 19ms/step - loss: 0.0231 - val_loss: 0.0268\n",
      "Epoch 87/100\n",
      "1/1 [==============================] - 0s 31ms/step - loss: 0.0221 - val_loss: 0.0278\n",
      "Epoch 88/100\n",
      "1/1 [==============================] - 0s 21ms/step - loss: 0.0219 - val_loss: 0.0264\n",
      "Epoch 89/100\n",
      "1/1 [==============================] - 0s 19ms/step - loss: 0.0223 - val_loss: 0.0329\n",
      "Epoch 90/100\n",
      "1/1 [==============================] - 0s 19ms/step - loss: 0.0236 - val_loss: 0.0256\n",
      "Epoch 91/100\n",
      "1/1 [==============================] - 0s 20ms/step - loss: 0.0218 - val_loss: 0.0263\n",
      "Epoch 92/100\n",
      "1/1 [==============================] - 0s 36ms/step - loss: 0.0213 - val_loss: 0.0269\n",
      "Epoch 93/100\n",
      "1/1 [==============================] - 0s 27ms/step - loss: 0.0214 - val_loss: 0.0271\n",
      "Epoch 94/100\n",
      "1/1 [==============================] - 0s 20ms/step - loss: 0.0216 - val_loss: 0.0281\n",
      "Epoch 95/100\n",
      "1/1 [==============================] - 0s 28ms/step - loss: 0.0216 - val_loss: 0.0252\n",
      "Epoch 96/100\n",
      "1/1 [==============================] - 0s 22ms/step - loss: 0.0209 - val_loss: 0.0269\n",
      "Epoch 97/100\n",
      "1/1 [==============================] - 0s 18ms/step - loss: 0.0215 - val_loss: 0.0314\n",
      "Epoch 98/100\n",
      "1/1 [==============================] - 0s 17ms/step - loss: 0.0243 - val_loss: 0.0280\n",
      "Epoch 99/100\n",
      "1/1 [==============================] - 0s 26ms/step - loss: 0.0216 - val_loss: 0.0242\n",
      "Epoch 100/100\n",
      "1/1 [==============================] - 0s 19ms/step - loss: 0.0209 - val_loss: 0.0285\n"
     ]
    },
    {
     "name": "stderr",
     "output_type": "stream",
     "text": [
      "/home/stufs1/zuwang/anaconda3/envs/nbeats/lib/python3.9/site-packages/keras/utils/generic_utils.py:494: CustomMaskWarning: Custom mask layers require a config and must override get_config. When loading, the custom mask layer must be passed to the custom_objects argument.\n",
      "  warnings.warn('Custom mask layers require a config and must override '\n"
     ]
    },
    {
     "name": "stdout",
     "output_type": "stream",
     "text": [
      "WARNING:tensorflow:5 out of the last 5 calls to <function Model.make_predict_function.<locals>.predict_function at 0x7f1f10635160> triggered tf.function retracing. Tracing is expensive and the excessive number of tracings could be due to (1) creating @tf.function repeatedly in a loop, (2) passing tensors with different shapes, (3) passing Python objects instead of tensors. For (1), please define your @tf.function outside of the loop. For (2), @tf.function has experimental_relax_shapes=True option that relaxes argument shapes that can avoid unnecessary retracing. For (3), please refer to https://www.tensorflow.org/guide/function#controlling_retracing and https://www.tensorflow.org/api_docs/python/tf/function for  more details.\n",
      "the prediction_forecast shape is: (30, 5, 1)\n",
      "WARNING:tensorflow:6 out of the last 6 calls to <function Model.make_predict_function.<locals>.predict_function at 0x7f1f10635280> triggered tf.function retracing. Tracing is expensive and the excessive number of tracings could be due to (1) creating @tf.function repeatedly in a loop, (2) passing tensors with different shapes, (3) passing Python objects instead of tensors. For (1), please define your @tf.function outside of the loop. For (2), @tf.function has experimental_relax_shapes=True option that relaxes argument shapes that can avoid unnecessary retracing. For (3), please refer to https://www.tensorflow.org/guide/function#controlling_retracing and https://www.tensorflow.org/api_docs/python/tf/function for  more details.\n",
      "the prediction_backcast shape is: (30, 15, 1)\n",
      "the reloaded prediction_shape is: (30, 5, 1)\n"
     ]
    }
   ],
   "source": [
    "# Train the model.\n",
    "print('Training...')\n",
    "backend.fit(x_train, y_train, validation_data=(x_test, y_test), epochs=100, batch_size=128)\n",
    "\n",
    "# Save the model for later.\n",
    "backend.save('n_beats_model.h5')\n",
    "\n",
    "# Predict on the testing set (forecast).\n",
    "predictions_forecast = backend.predict(x_test)\n",
    "print(\"the prediction_forecast shape is:\", predictions_forecast.shape) #shape: (30, 5, 1)\n",
    "#np.testing.assert_equal(predictions_forecast.shape, (test_size, backend.forecast_length, output_dim))\n",
    "\n",
    "# Predict on the testing set (backcast).\n",
    "predictions_backcast = backend.predict(x_test, return_backcast=True)\n",
    "print(\"the prediction_backcast shape is:\", predictions_backcast.shape) #shape: (30, 15, 1)\n",
    "#np.testing.assert_equal(predictions_backcast.shape, (test_size, backend.backcast_length, output_dim))\n",
    "\n",
    "# Load the model.\n",
    "model_2 = NBeatsKeras.load('n_beats_model.h5')\n",
    "predicts = model_2.predict(x_test)\n",
    "print(\"the reloaded prediction_shape is:\", predicts.shape) #shape: (30, 5, 1)\n",
    "#np.testing.assert_almost_equal(predictions_forecast, model_2.predict(x_test))"
   ]
  },
  {
   "cell_type": "code",
   "execution_count": 8,
   "id": "cb62e5ef",
   "metadata": {},
   "outputs": [
    {
     "name": "stdout",
     "output_type": "stream",
     "text": [
      "predictive_score_mae: 0.02887015582536848\n",
      "predictive_score_mse: 0.00147312116647789\n"
     ]
    }
   ],
   "source": [
    "num_sample = len(x_test)\n",
    "\n",
    "MAE_temp = 0.0\n",
    "MSE_temp = 0.0\n",
    "\n",
    "for i in range(num_sample):\n",
    "    MAE_temp = MAE_temp + mean_absolute_error(y_test[i], predicts[i].flatten())\n",
    "    MSE_temp = MSE_temp + mean_squared_error(y_test[i], predicts[i].flatten())\n",
    "\n",
    "predictive_score_mae = MAE_temp/num_sample\n",
    "predictive_score_mse = MSE_temp/num_sample\n",
    "print(\"predictive_score_mae:\", predictive_score_mae)\n",
    "print(\"predictive_score_mse:\", predictive_score_mse)"
   ]
  },
  {
   "cell_type": "code",
   "execution_count": 23,
   "id": "32fe2ec5",
   "metadata": {},
   "outputs": [
    {
     "data": {
      "text/plain": [
       "(5, 1)"
      ]
     },
     "execution_count": 23,
     "metadata": {},
     "output_type": "execute_result"
    }
   ],
   "source": [
    "predicts[0].shape"
   ]
  },
  {
   "cell_type": "code",
   "execution_count": 9,
   "id": "08926534",
   "metadata": {},
   "outputs": [
    {
     "data": {
      "image/png": "[encoded data removed]",
      "text/plain": [
       "<Figure size 432x288 with 4 Axes>"
      ]
     },
     "metadata": {
      "needs_background": "light"
     },
     "output_type": "display_data"
    }
   ],
   "source": [
    "subplots = [221, 222, 223, 224]\n",
    "plt.figure(1)\n",
    "for plot_id, i in enumerate(np.random.choice(range(len(x_test)), size=4, replace=False)):\n",
    "    ff, xx, yy = predicts[i] * norm_constant, x_test[i] * norm_constant, y_test[i] * norm_constant\n",
    "    plt.subplot(subplots[plot_id])\n",
    "    plt.grid()\n",
    "    plot_scatter(range(0, backcast_length), xx, color='b')\n",
    "    plot_scatter(range(backcast_length, backcast_length + forecast_length), yy, color='g')\n",
    "    plot_scatter(range(backcast_length, backcast_length + forecast_length), ff, color='r')\n",
    "plt.show()"
   ]
  },
  {
   "cell_type": "code",
   "execution_count": null,
   "id": "275d8703",
   "metadata": {},
   "outputs": [],
   "source": []
  }
 ],
 "metadata": {
  "kernelspec": {
   "display_name": "Python 3",
   "language": "python",
   "name": "python3"
  },
  "language_info": {
   "codemirror_mode": {
    "name": "ipython",
    "version": 3
   },
   "file_extension": ".py",
   "mimetype": "text/x-python",
   "name": "python",
   "nbconvert_exporter": "python",
   "pygments_lexer": "ipython3",
   "version": "3.9.5"
  }
 },
 "nbformat": 4,
 "nbformat_minor": 5
}
