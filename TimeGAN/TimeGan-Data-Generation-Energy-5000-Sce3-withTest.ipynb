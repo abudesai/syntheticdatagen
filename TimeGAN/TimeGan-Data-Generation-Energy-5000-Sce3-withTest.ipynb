{
 "cells": [
  {
   "cell_type": "code",
   "execution_count": null,
   "metadata": {},
   "outputs": [],
   "source": [
    "## Necessary packages\n",
    "from __future__ import absolute_import\n",
    "from __future__ import division\n",
    "from __future__ import print_function\n",
    "\n",
    "import numpy as np\n",
    "import warnings\n",
    "warnings.filterwarnings(\"ignore\")\n",
    "\n",
    "# 1. TimeGAN model\n",
    "from timegan import timegan\n",
    "# 2. Data loading\n",
    "from data_loading import real_data_loading, sine_data_generation, real_data_loading_sce2\n",
    "# 3. Metrics\n",
    "from metrics.discriminative_metrics import discriminative_score_metrics\n",
    "from metrics.predictive_metrics import predictive_score_metrics\n",
    "from metrics.visualization_metrics import visualization\n",
    "\n",
    "import tensorflow as tf\n",
    "\n",
    "import os, time"
   ]
  },
  {
   "cell_type": "code",
   "execution_count": null,
   "metadata": {},
   "outputs": [],
   "source": [
    "os.environ[\"CUDA_DEVICE_ORDER\"]=\"PCI_BUS_ID\"\n",
    "os.environ['CUDA_VISIBLE_DEVICES'] = \"3\"\n",
    "config = tf.compat.v1.ConfigProto() # Another Version: config = tf.ConfigProto()\n",
    "config.gpu_options.allow_growth = True"
   ]
  },
  {
   "cell_type": "code",
   "execution_count": null,
   "metadata": {},
   "outputs": [],
   "source": [
    "## Data loading\n",
    "data_name = 'energy'\n",
    "seq_len = 24\n",
    "test_per = 0.05 # 5% observed data\n",
    "observe_per = 0.05 # 5% of most recent \n",
    "\n",
    "if data_name in ['stock', 'energy']:\n",
    "    train_data, test_data = real_data_loading_sce2(data_name, seq_len, test_per, observe_per)\n",
    "else:\n",
    "    print(\"Data Loading Wrong!!!!\")\n",
    "print(data_name + ' dataset is ready.')"
   ]
  },
  {
   "cell_type": "code",
   "execution_count": null,
   "metadata": {},
   "outputs": [],
   "source": [
    "np.array(train_data).shape, np.array(test_data).shape"
   ]
  },
  {
   "cell_type": "code",
   "execution_count": null,
   "metadata": {},
   "outputs": [],
   "source": [
    "## Newtork parameters\n",
    "parameters = dict()\n",
    "\n",
    "parameters['module'] = 'gru' \n",
    "parameters['hidden_dim'] = 112 # 4 times of the data dimension = 112\n",
    "parameters['num_layer'] = 3\n",
    "parameters['iterations'] = 5000\n",
    "parameters['batch_size'] = 128"
   ]
  },
  {
   "cell_type": "code",
   "execution_count": null,
   "metadata": {
    "scrolled": true
   },
   "outputs": [],
   "source": [
    "# Run TimeGAN\n",
    "start = time.time()\n",
    "generated_data = timegan(train_data, parameters)   \n",
    "end = time.time()\n",
    "print('Finish Synthetic Data Generation')\n",
    "print(f\"Runtime of the Generator is {end - start}\")"
   ]
  },
  {
   "cell_type": "code",
   "execution_count": null,
   "metadata": {},
   "outputs": [],
   "source": [
    "filename = data_name + \"_data_TimeGAN_5000_sce3-wTest-0-005.npy\"\n",
    "np.save(filename, generated_data)"
   ]
  },
  {
   "cell_type": "code",
   "execution_count": null,
   "metadata": {},
   "outputs": [],
   "source": [
    "generated_data.shape"
   ]
  },
  {
   "cell_type": "code",
   "execution_count": null,
   "metadata": {},
   "outputs": [],
   "source": [
    "generated_data[0][0]"
   ]
  },
  {
   "cell_type": "code",
   "execution_count": null,
   "metadata": {
    "scrolled": true
   },
   "outputs": [],
   "source": [
    "metric_iteration = 5\n",
    "\n",
    "predictive_score = list()\n",
    "time_usage = list()\n",
    "for tt in range(metric_iteration):\n",
    "    start = time.time()\n",
    "    temp_pred = predictive_score_metrics(test_data, generated_data)\n",
    "    end = time.time()    \n",
    "    predictive_score.append(temp_pred)   \n",
    "    time_usage.append(end-start)\n",
    "\n",
    "print('Predictive score: ' + str(np.round(np.mean(predictive_score), 4)))"
   ]
  },
  {
   "cell_type": "code",
   "execution_count": null,
   "metadata": {},
   "outputs": [],
   "source": [
    "print(\"all the predictive scores: \", predictive_score)\n",
    "print('Predictive score avg. value: ' + str(np.round(np.mean(predictive_score), 4)))\n",
    "print('Predictive score std. value: ' + str(np.round(np.std(predictive_score), 4)))\n",
    "\n",
    "#================Time calculation==========================#\n",
    "print('Time usage avg. value: ' + str(np.round(np.mean(time_usage), 4)))\n",
    "print('Time usage std. value: ' + str(np.round(np.std(time_usage), 4)))"
   ]
  },
  {
   "cell_type": "code",
   "execution_count": null,
   "metadata": {
    "scrolled": true
   },
   "outputs": [],
   "source": [
    "visualization(train_data, generated_data, 'pca')\n",
    "visualization(train_data, generated_data, 'tsne')"
   ]
  },
  {
   "cell_type": "code",
   "execution_count": null,
   "metadata": {},
   "outputs": [],
   "source": [
    "!mv ./pca-results-energy-sce2-wTest-0-005-2.png ./figures_timegan_sce2_wTest\n",
    "!mv ./tsne-results-energy-sce2-wTest-0-005-2.png ./figures_timegan_sce2_wTest"
   ]
  },
  {
   "cell_type": "code",
   "execution_count": null,
   "metadata": {},
   "outputs": [],
   "source": []
  }
 ],
 "metadata": {
  "kernelspec": {
   "display_name": "Python 3 (ipykernel)",
   "language": "python",
   "name": "python3"
  },
  "language_info": {
   "codemirror_mode": {
    "name": "ipython",
    "version": 3
   },
   "file_extension": ".py",
   "mimetype": "text/x-python",
   "name": "python",
   "nbconvert_exporter": "python",
   "pygments_lexer": "ipython3",
   "version": "3.7.10"
  }
 },
 "nbformat": 4,
 "nbformat_minor": 2
}
