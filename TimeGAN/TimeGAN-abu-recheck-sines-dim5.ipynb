{
 "cells": [
  {
   "cell_type": "code",
   "execution_count": null,
   "id": "824fcf1e",
   "metadata": {},
   "outputs": [],
   "source": [
    "## Necessary packages\n",
    "from __future__ import absolute_import\n",
    "from __future__ import division\n",
    "from __future__ import print_function\n",
    "\n",
    "import numpy as np\n",
    "import warnings\n",
    "warnings.filterwarnings(\"ignore\")\n",
    "\n",
    "# 1. TimeGAN model\n",
    "from timegan import timegan\n",
    "# 2. Data loading\n",
    "from data_loading import real_data_loading, sine_data_generation\n",
    "# 3. Metrics\n",
    "from metrics.discriminative_metrics import discriminative_score_metrics\n",
    "from metrics.predictive_metrics import predictive_score_metrics\n",
    "from metrics.visualization_metrics import visualization\n",
    "\n",
    "from data_loading import MinMaxScaler\n",
    "import tensorflow as tf\n",
    "import os"
   ]
  },
  {
   "cell_type": "code",
   "execution_count": null,
   "id": "5ceb00f4",
   "metadata": {},
   "outputs": [],
   "source": [
    "os.environ[\"CUDA_DEVICE_ORDER\"]=\"PCI_BUS_ID\"\n",
    "os.environ['CUDA_VISIBLE_DEVICES'] = \"1\"\n",
    "config = tf.compat.v1.ConfigProto() # Another Version: config = tf.ConfigProto()\n",
    "config.gpu_options.allow_growth = True"
   ]
  },
  {
   "cell_type": "code",
   "execution_count": null,
   "id": "70ad5de3",
   "metadata": {
    "scrolled": true
   },
   "outputs": [],
   "source": [
    "## Data real loading\n",
    "data_name = 'sine'\n",
    "seq_len = 24\n",
    "\n",
    "if data_name in ['stock', 'energy']:\n",
    "  ori_data = real_data_loading(data_name, seq_len)\n",
    "elif data_name == 'sine':\n",
    "  # Set number of samples and its dimensions\n",
    "  no, dim = 10000, 5\n",
    "  ori_data = sine_data_generation(no, seq_len, dim)\n",
    "\n",
    "print(data_name + ' dataset is ready.')"
   ]
  },
  {
   "cell_type": "code",
   "execution_count": null,
   "id": "24ddba1d",
   "metadata": {},
   "outputs": [],
   "source": [
    "src_path = \"/data/home/stufs1/zuwang/dg21/TimeGAN/\"\n",
    "filename = \"abhu_data_dim28_3years.csv\"\n",
    "\n",
    "seq_len = 24\n",
    "syn_data = np.loadtxt(os.path.join(src_path, filename), delimiter = \",\",skiprows = 1)\n",
    "syn_data = MinMaxScaler(syn_data)\n",
    "\n",
    "print(\"original synthetic data shape:\", syn_data.shape)"
   ]
  },
  {
   "cell_type": "code",
   "execution_count": null,
   "id": "c2867975",
   "metadata": {},
   "outputs": [],
   "source": [
    "temp_data = []    \n",
    "for i in range(0, len(syn_data) - seq_len):\n",
    "    _x = syn_data[i:i + seq_len]\n",
    "    temp_data.append(_x)\n",
    "print(\"reshape synthetic data shape:\", np.asarray(temp_data).shape)"
   ]
  },
  {
   "cell_type": "code",
   "execution_count": null,
   "id": "a0e7c697",
   "metadata": {},
   "outputs": [],
   "source": [
    "# load the generated data -- Abu's data\n",
    "src_path = \"/data/home/stufs1/zuwang/dg21/TimeGAN/\"\n",
    "filename = \"abhu_data_dim28_3years.csv\"\n",
    "\n",
    "seq_len = 24\n",
    "syn_data = np.loadtxt(os.path.join(src_path, filename), delimiter = \",\",skiprows = 1)\n",
    "syn_data = MinMaxScaler(syn_data)\n",
    "\n",
    "temp_data = []    \n",
    "for i in range(0, len(syn_data) - seq_len):\n",
    "    _x = syn_data[i:i + seq_len]\n",
    "    temp_data.append(_x)\n",
    "\n",
    "# Mix the datasets (to make it similar to i.i.d)\n",
    "idx = np.random.permutation(len(temp_data))    \n",
    "syn_data = []\n",
    "for i in range(len(temp_data)):\n",
    "    syn_data.append(temp_data[idx[i]])\n",
    "\n",
    "syn_data = np.asarray(syn_data)\n",
    "print(\"syn_data shape\", syn_data.shape)\n",
    "syn_data = syn_data[:,:,:5] #choose the first 5 columns"
   ]
  },
  {
   "cell_type": "code",
   "execution_count": null,
   "id": "6d3e6dd3",
   "metadata": {
    "scrolled": true
   },
   "outputs": [],
   "source": [
    "np.asarray(ori_data).shape, np.asarray(syn_data).shape"
   ]
  },
  {
   "cell_type": "code",
   "execution_count": null,
   "id": "3c2718c3",
   "metadata": {},
   "outputs": [],
   "source": [
    "# normalization-again for training.\n",
    "norm_constant = np.max(syn_data)\n",
    "ori_data = ori_data / norm_constant\n",
    "syn_data = syn_data / norm_constant"
   ]
  },
  {
   "cell_type": "code",
   "execution_count": null,
   "id": "657020fc",
   "metadata": {},
   "outputs": [],
   "source": [
    "metric_iteration = 5\n",
    "# predictive score\n",
    "predictive_score = list()\n",
    "for tt in range(metric_iteration):\n",
    "  temp_pred = predictive_score_metrics(ori_data, syn_data)\n",
    "  predictive_score.append(temp_pred)   \n",
    "    \n",
    "print('All the predictive scores:', predictive_score)\n",
    "print('Predictive avg. score: ' + str(np.round(np.mean(predictive_score), 4)))\n",
    "print('Predictive std. score: ' + str(np.round(np.std(predictive_score), 4)))"
   ]
  },
  {
   "cell_type": "code",
   "execution_count": null,
   "id": "922d1b37",
   "metadata": {
    "scrolled": false
   },
   "outputs": [],
   "source": [
    "# visualization\n",
    "visualization(ori_data, syn_data, 'pca')\n",
    "visualization(ori_data, syn_data, 'tsne')"
   ]
  },
  {
   "cell_type": "code",
   "execution_count": null,
   "id": "34b50a30",
   "metadata": {},
   "outputs": [],
   "source": []
  }
 ],
 "metadata": {
  "kernelspec": {
   "display_name": "Python 3",
   "language": "python",
   "name": "python3"
  },
  "language_info": {
   "codemirror_mode": {
    "name": "ipython",
    "version": 3
   },
   "file_extension": ".py",
   "mimetype": "text/x-python",
   "name": "python",
   "nbconvert_exporter": "python",
   "pygments_lexer": "ipython3",
   "version": "3.6.13"
  }
 },
 "nbformat": 4,
 "nbformat_minor": 5
}
