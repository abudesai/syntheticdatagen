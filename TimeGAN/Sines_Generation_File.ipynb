{
 "cells": [
  {
   "cell_type": "code",
   "execution_count": 1,
   "id": "25442cb8",
   "metadata": {},
   "outputs": [],
   "source": [
    "import numpy as np\n",
    "import os\n",
    "import csv"
   ]
  },
  {
   "cell_type": "code",
   "execution_count": 2,
   "id": "76e4a85e",
   "metadata": {},
   "outputs": [],
   "source": [
    "# For the new generation methods:\n",
    "\n",
    "def sine_data_generation (no, seq_len, dim):\n",
    "  \"\"\"Sine data generation.\n",
    "  \n",
    "  Args:\n",
    "    - no: the number of samples\n",
    "    - seq_len: sequence length of the time-series\n",
    "    - dim: feature dimensions\n",
    "    \n",
    "  Returns:\n",
    "    - data: generated data\n",
    "  \"\"\"  \n",
    "  # Initialize the output\n",
    "  data = list()\n",
    "\n",
    "  # Generate sine data\n",
    "  for i in range(no):      \n",
    "    # Initialize each time-series\n",
    "    temp = list()\n",
    "    # For each feature\n",
    "    for k in range(dim):\n",
    "      # Randomly drawn frequency and phase\n",
    "      freq = np.random.uniform(0, 0.1)            \n",
    "      phase = np.random.uniform(0, 0.1)\n",
    "          \n",
    "      # Generate sine signal based on the drawn frequency and phase\n",
    "      temp_data = [np.sin(freq * j + phase) for j in range(seq_len)] \n",
    "      temp.append(temp_data)\n",
    "        \n",
    "    # Align row/column\n",
    "    temp = np.transpose(np.asarray(temp))        \n",
    "    # Normalize to [0,1]\n",
    "    temp = (temp + 1)*0.5\n",
    "    # Stack the generated data\n",
    "    data.append(temp)\n",
    "                \n",
    "  return data"
   ]
  },
  {
   "cell_type": "code",
   "execution_count": 3,
   "id": "e2f40efb",
   "metadata": {},
   "outputs": [
    {
     "data": {
      "text/plain": [
       "(10240, 5)"
      ]
     },
     "execution_count": 3,
     "metadata": {},
     "output_type": "execute_result"
    }
   ],
   "source": [
    "data1 = sine_data_generation(1, 10240, 5) # generate only 1 but a long enough sequence\n",
    "data1 = np.array(np.squeeze(data1))\n",
    "data1.shape"
   ]
  },
  {
   "cell_type": "code",
   "execution_count": 4,
   "id": "d5b9d0c1",
   "metadata": {},
   "outputs": [],
   "source": [
    "tgt_path = \"./data\"\n",
    "file_name = \"new_sines_data.npy\"\n",
    "np.save(os.path.join(tgt_path, file_name), data1)"
   ]
  },
  {
   "cell_type": "code",
   "execution_count": 5,
   "id": "e90841a4",
   "metadata": {},
   "outputs": [],
   "source": [
    "file_name1 = 'new_sines_data.csv'\n",
    "with open(os.path.join(tgt_path, file_name1), \"w\", newline=\"\") as f:\n",
    "    writer = csv.writer(f)\n",
    "    writer.writerows(data1)"
   ]
  },
  {
   "cell_type": "code",
   "execution_count": null,
   "id": "fa6ecef1",
   "metadata": {},
   "outputs": [],
   "source": []
  }
 ],
 "metadata": {
  "kernelspec": {
   "display_name": "Python 3 (ipykernel)",
   "language": "python",
   "name": "python3"
  },
  "language_info": {
   "codemirror_mode": {
    "name": "ipython",
    "version": 3
   },
   "file_extension": ".py",
   "mimetype": "text/x-python",
   "name": "python",
   "nbconvert_exporter": "python",
   "pygments_lexer": "ipython3",
   "version": "3.7.10"
  }
 },
 "nbformat": 4,
 "nbformat_minor": 5
}
