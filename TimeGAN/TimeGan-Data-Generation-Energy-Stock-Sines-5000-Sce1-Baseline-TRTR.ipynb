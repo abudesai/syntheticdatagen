{
 "cells": [
  {
   "cell_type": "code",
   "execution_count": 1,
   "metadata": {},
   "outputs": [],
   "source": [
    "## Necessary packages\n",
    "from __future__ import absolute_import\n",
    "from __future__ import division\n",
    "from __future__ import print_function\n",
    "\n",
    "import numpy as np\n",
    "import warnings\n",
    "warnings.filterwarnings(\"ignore\")\n",
    "\n",
    "# 1. TimeGAN model\n",
    "from timegan import timegan\n",
    "# 2. Data loading\n",
    "from data_loading import real_data_loading, sine_data_generation, real_data_loading_sce1, sine_data_generation_sce1\n",
    "# 3. Metrics\n",
    "from metrics.discriminative_metrics import discriminative_score_metrics\n",
    "from metrics.predictive_metrics import predictive_score_metrics\n",
    "from metrics.visualization_metrics import visualization\n",
    "\n",
    "import tensorflow as tf\n",
    "\n",
    "import os"
   ]
  },
  {
   "cell_type": "code",
   "execution_count": 2,
   "metadata": {},
   "outputs": [],
   "source": [
    "os.environ[\"CUDA_DEVICE_ORDER\"]=\"PCI_BUS_ID\"\n",
    "os.environ['CUDA_VISIBLE_DEVICES'] = \"3\"\n",
    "config = tf.compat.v1.ConfigProto() # Another Version: config = tf.ConfigProto()\n",
    "config.gpu_options.allow_growth = True"
   ]
  },
  {
   "cell_type": "code",
   "execution_count": 3,
   "metadata": {},
   "outputs": [
    {
     "name": "stdout",
     "output_type": "stream",
     "text": [
      "energy dataset is ready.\n"
     ]
    }
   ],
   "source": [
    "## Data loading\n",
    "data_name = 'energy'\n",
    "seq_len = 24\n",
    "test_per = 0.05 # 5% as testing\n",
    "\n",
    "if data_name in ['stock', 'energy']:\n",
    "    train_data, test_data = real_data_loading_sce1(data_name, seq_len, test_per)\n",
    "elif data_name == 'sine':\n",
    "    # Set number of samples and its dimensions\n",
    "    no, dim = 10000, 5\n",
    "    train_data, test_data = sine_data_generation_sce1(no, seq_len, dim, test_per)\n",
    "    \n",
    "print(data_name + ' dataset is ready.')"
   ]
  },
  {
   "cell_type": "code",
   "execution_count": 4,
   "metadata": {},
   "outputs": [
    {
     "data": {
      "text/plain": [
       "((18724, 24, 28), (963, 24, 28))"
      ]
     },
     "execution_count": 4,
     "metadata": {},
     "output_type": "execute_result"
    }
   ],
   "source": [
    "np.array(train_data).shape, np.array(test_data).shape"
   ]
  },
  {
   "cell_type": "code",
   "execution_count": 5,
   "metadata": {
    "scrolled": true
   },
   "outputs": [
    {
     "name": "stdout",
     "output_type": "stream",
     "text": [
      "WARNING:tensorflow:From /data/home/stufs1/zuwang/dg21/TimeGAN/metrics/predictive_metrics.py:37: The name tf.reset_default_graph is deprecated. Please use tf.compat.v1.reset_default_graph instead.\n",
      "\n",
      "WARNING:tensorflow:From /data/home/stufs1/zuwang/dg21/TimeGAN/metrics/predictive_metrics.py:56: The name tf.placeholder is deprecated. Please use tf.compat.v1.placeholder instead.\n",
      "\n",
      "WARNING:tensorflow:From /data/home/stufs1/zuwang/dg21/TimeGAN/metrics/predictive_metrics.py:72: The name tf.variable_scope is deprecated. Please use tf.compat.v1.variable_scope instead.\n",
      "\n",
      "WARNING:tensorflow:From /data/home/stufs1/zuwang/dg21/TimeGAN/metrics/predictive_metrics.py:72: The name tf.AUTO_REUSE is deprecated. Please use tf.compat.v1.AUTO_REUSE instead.\n",
      "\n",
      "WARNING:tensorflow:From /data/home/stufs1/zuwang/dg21/TimeGAN/metrics/predictive_metrics.py:73: GRUCell.__init__ (from tensorflow.python.ops.rnn_cell_impl) is deprecated and will be removed in a future version.\n",
      "Instructions for updating:\n",
      "This class is equivalent as tf.keras.layers.GRUCell, and will be replaced by that in Tensorflow 2.0.\n",
      "WARNING:tensorflow:From /data/home/stufs1/zuwang/dg21/TimeGAN/metrics/predictive_metrics.py:74: dynamic_rnn (from tensorflow.python.ops.rnn) is deprecated and will be removed in a future version.\n",
      "Instructions for updating:\n",
      "Please use `keras.layers.RNN(cell)`, which is equivalent to this API\n",
      "WARNING:tensorflow:From /home/stufs1/zuwang/anaconda3/envs/dg21/lib/python3.7/site-packages/tensorflow_core/python/ops/rnn_cell_impl.py:559: Layer.add_variable (from tensorflow.python.keras.engine.base_layer) is deprecated and will be removed in a future version.\n",
      "Instructions for updating:\n",
      "Please use `layer.add_weight` method instead.\n",
      "WARNING:tensorflow:From /home/stufs1/zuwang/anaconda3/envs/dg21/lib/python3.7/site-packages/tensorflow_core/python/ops/rnn_cell_impl.py:565: calling Constant.__init__ (from tensorflow.python.ops.init_ops) with dtype is deprecated and will be removed in a future version.\n",
      "Instructions for updating:\n",
      "Call initializer instance with the dtype argument instead of passing it to the constructor\n",
      "WARNING:tensorflow:From /home/stufs1/zuwang/anaconda3/envs/dg21/lib/python3.7/site-packages/tensorflow_core/python/ops/rnn_cell_impl.py:575: calling Zeros.__init__ (from tensorflow.python.ops.init_ops) with dtype is deprecated and will be removed in a future version.\n",
      "Instructions for updating:\n",
      "Call initializer instance with the dtype argument instead of passing it to the constructor\n",
      "WARNING:tensorflow:From /home/stufs1/zuwang/anaconda3/envs/dg21/lib/python3.7/site-packages/tensorflow_core/python/ops/rnn.py:244: where (from tensorflow.python.ops.array_ops) is deprecated and will be removed in a future version.\n",
      "Instructions for updating:\n",
      "Use tf.where in 2.0, which has the same broadcast rule as np.where\n",
      "WARNING:tensorflow:\n",
      "The TensorFlow contrib module will not be included in TensorFlow 2.0.\n",
      "For more information, please see:\n",
      "  * https://github.com/tensorflow/community/blob/master/rfcs/20180907-contrib-sunset.md\n",
      "  * https://github.com/tensorflow/addons\n",
      "  * https://github.com/tensorflow/io (for I/O related ops)\n",
      "If you depend on functionality not listed there, please file an issue.\n",
      "\n",
      "WARNING:tensorflow:From /home/stufs1/zuwang/anaconda3/envs/dg21/lib/python3.7/site-packages/tensorflow_core/contrib/layers/python/layers/layers.py:1866: Layer.apply (from tensorflow.python.keras.engine.base_layer) is deprecated and will be removed in a future version.\n",
      "Instructions for updating:\n",
      "Please use `layer.__call__` method instead.\n",
      "WARNING:tensorflow:From /data/home/stufs1/zuwang/dg21/TimeGAN/metrics/predictive_metrics.py:77: all_variables (from tensorflow.python.ops.variables) is deprecated and will be removed after 2017-03-02.\n",
      "Instructions for updating:\n",
      "Please use tf.global_variables instead.\n",
      "WARNING:tensorflow:From /data/home/stufs1/zuwang/dg21/TimeGAN/metrics/predictive_metrics.py:83: The name tf.losses.absolute_difference is deprecated. Please use tf.compat.v1.losses.absolute_difference instead.\n",
      "\n",
      "WARNING:tensorflow:From /data/home/stufs1/zuwang/dg21/TimeGAN/metrics/predictive_metrics.py:85: The name tf.train.AdamOptimizer is deprecated. Please use tf.compat.v1.train.AdamOptimizer instead.\n",
      "\n",
      "WARNING:tensorflow:From /data/home/stufs1/zuwang/dg21/TimeGAN/metrics/predictive_metrics.py:89: The name tf.Session is deprecated. Please use tf.compat.v1.Session instead.\n",
      "\n",
      "WARNING:tensorflow:From /data/home/stufs1/zuwang/dg21/TimeGAN/metrics/predictive_metrics.py:90: The name tf.global_variables_initializer is deprecated. Please use tf.compat.v1.global_variables_initializer instead.\n",
      "\n"
     ]
    },
    {
     "name": "stderr",
     "output_type": "stream",
     "text": [
      "2021-08-18 12:00:54.661861: I tensorflow/stream_executor/platform/default/dso_loader.cc:44] Successfully opened dynamic library libcuda.so.1\n",
      "2021-08-18 12:00:54.703973: I tensorflow/core/common_runtime/gpu/gpu_device.cc:1618] Found device 0 with properties: \n",
      "name: Tesla V100-PCIE-32GB major: 7 minor: 0 memoryClockRate(GHz): 1.38\n",
      "pciBusID: 0000:d8:00.0\n",
      "2021-08-18 12:00:54.704246: I tensorflow/stream_executor/platform/default/dso_loader.cc:44] Successfully opened dynamic library libcudart.so.10.0\n",
      "2021-08-18 12:00:54.705840: I tensorflow/stream_executor/platform/default/dso_loader.cc:44] Successfully opened dynamic library libcublas.so.10.0\n",
      "2021-08-18 12:00:54.707366: I tensorflow/stream_executor/platform/default/dso_loader.cc:44] Successfully opened dynamic library libcufft.so.10.0\n",
      "2021-08-18 12:00:54.707716: I tensorflow/stream_executor/platform/default/dso_loader.cc:44] Successfully opened dynamic library libcurand.so.10.0\n",
      "2021-08-18 12:00:54.709136: I tensorflow/stream_executor/platform/default/dso_loader.cc:44] Successfully opened dynamic library libcusolver.so.10.0\n",
      "2021-08-18 12:00:54.710264: I tensorflow/stream_executor/platform/default/dso_loader.cc:44] Successfully opened dynamic library libcusparse.so.10.0\n",
      "2021-08-18 12:00:54.713847: I tensorflow/stream_executor/platform/default/dso_loader.cc:44] Successfully opened dynamic library libcudnn.so.7\n",
      "2021-08-18 12:00:54.714973: I tensorflow/core/common_runtime/gpu/gpu_device.cc:1746] Adding visible gpu devices: 0\n",
      "2021-08-18 12:00:54.715576: I tensorflow/core/platform/cpu_feature_guard.cc:142] Your CPU supports instructions that this TensorFlow binary was not compiled to use: SSE4.1 SSE4.2 AVX AVX2 AVX512F FMA\n",
      "2021-08-18 12:00:54.727353: I tensorflow/core/platform/profile_utils/cpu_utils.cc:94] CPU Frequency: 2800000000 Hz\n",
      "2021-08-18 12:00:54.731269: I tensorflow/compiler/xla/service/service.cc:168] XLA service 0x556d473d6f10 initialized for platform Host (this does not guarantee that XLA will be used). Devices:\n",
      "2021-08-18 12:00:54.731316: I tensorflow/compiler/xla/service/service.cc:176]   StreamExecutor device (0): Host, Default Version\n",
      "2021-08-18 12:00:54.732576: I tensorflow/core/common_runtime/gpu/gpu_device.cc:1618] Found device 0 with properties: \n",
      "name: Tesla V100-PCIE-32GB major: 7 minor: 0 memoryClockRate(GHz): 1.38\n",
      "pciBusID: 0000:d8:00.0\n",
      "2021-08-18 12:00:54.732642: I tensorflow/stream_executor/platform/default/dso_loader.cc:44] Successfully opened dynamic library libcudart.so.10.0\n",
      "2021-08-18 12:00:54.732667: I tensorflow/stream_executor/platform/default/dso_loader.cc:44] Successfully opened dynamic library libcublas.so.10.0\n",
      "2021-08-18 12:00:54.732689: I tensorflow/stream_executor/platform/default/dso_loader.cc:44] Successfully opened dynamic library libcufft.so.10.0\n",
      "2021-08-18 12:00:54.732710: I tensorflow/stream_executor/platform/default/dso_loader.cc:44] Successfully opened dynamic library libcurand.so.10.0\n",
      "2021-08-18 12:00:54.732732: I tensorflow/stream_executor/platform/default/dso_loader.cc:44] Successfully opened dynamic library libcusolver.so.10.0\n",
      "2021-08-18 12:00:54.732753: I tensorflow/stream_executor/platform/default/dso_loader.cc:44] Successfully opened dynamic library libcusparse.so.10.0\n",
      "2021-08-18 12:00:54.732775: I tensorflow/stream_executor/platform/default/dso_loader.cc:44] Successfully opened dynamic library libcudnn.so.7\n",
      "2021-08-18 12:00:54.734795: I tensorflow/core/common_runtime/gpu/gpu_device.cc:1746] Adding visible gpu devices: 0\n",
      "2021-08-18 12:00:54.734856: I tensorflow/stream_executor/platform/default/dso_loader.cc:44] Successfully opened dynamic library libcudart.so.10.0\n",
      "2021-08-18 12:00:54.840694: I tensorflow/core/common_runtime/gpu/gpu_device.cc:1159] Device interconnect StreamExecutor with strength 1 edge matrix:\n",
      "2021-08-18 12:00:54.840725: I tensorflow/core/common_runtime/gpu/gpu_device.cc:1165]      0 \n",
      "2021-08-18 12:00:54.840730: I tensorflow/core/common_runtime/gpu/gpu_device.cc:1178] 0:   N \n",
      "2021-08-18 12:00:54.842231: I tensorflow/core/common_runtime/gpu/gpu_device.cc:1304] Created TensorFlow device (/job:localhost/replica:0/task:0/device:GPU:0 with 851 MB memory) -> physical GPU (device: 0, name: Tesla V100-PCIE-32GB, pci bus id: 0000:d8:00.0, compute capability: 7.0)\n",
      "2021-08-18 12:00:54.843824: I tensorflow/compiler/xla/service/service.cc:168] XLA service 0x556d49b32e40 initialized for platform CUDA (this does not guarantee that XLA will be used). Devices:\n",
      "2021-08-18 12:00:54.843841: I tensorflow/compiler/xla/service/service.cc:176]   StreamExecutor device (0): Tesla V100-PCIE-32GB, Compute Capability 7.0\n",
      "2021-08-18 12:00:55.525422: I tensorflow/stream_executor/platform/default/dso_loader.cc:44] Successfully opened dynamic library libcublas.so.10.0\n",
      "2021-08-18 12:00:55.735134: E tensorflow/stream_executor/cuda/cuda_blas.cc:238] failed to create cublas handle: CUBLAS_STATUS_NOT_INITIALIZED\n",
      "2021-08-18 12:00:55.741526: E tensorflow/stream_executor/cuda/cuda_blas.cc:238] failed to create cublas handle: CUBLAS_STATUS_NOT_INITIALIZED\n",
      "2021-08-18 12:00:55.745430: E tensorflow/stream_executor/cuda/cuda_blas.cc:238] failed to create cublas handle: CUBLAS_STATUS_NOT_INITIALIZED\n",
      "2021-08-18 12:00:55.749529: E tensorflow/stream_executor/cuda/cuda_blas.cc:238] failed to create cublas handle: CUBLAS_STATUS_NOT_INITIALIZED\n",
      "2021-08-18 12:00:55.752533: E tensorflow/stream_executor/cuda/cuda_blas.cc:238] failed to create cublas handle: CUBLAS_STATUS_NOT_INITIALIZED\n",
      "2021-08-18 12:00:55.755825: E tensorflow/stream_executor/cuda/cuda_blas.cc:238] failed to create cublas handle: CUBLAS_STATUS_NOT_INITIALIZED\n",
      "2021-08-18 12:00:55.758840: E tensorflow/stream_executor/cuda/cuda_blas.cc:238] failed to create cublas handle: CUBLAS_STATUS_NOT_INITIALIZED\n",
      "2021-08-18 12:00:55.762012: E tensorflow/stream_executor/cuda/cuda_blas.cc:238] failed to create cublas handle: CUBLAS_STATUS_NOT_INITIALIZED\n",
      "2021-08-18 12:00:55.765071: E tensorflow/stream_executor/cuda/cuda_blas.cc:238] failed to create cublas handle: CUBLAS_STATUS_NOT_INITIALIZED\n",
      "2021-08-18 12:00:55.778440: E tensorflow/stream_executor/cuda/cuda_blas.cc:238] failed to create cublas handle: CUBLAS_STATUS_NOT_INITIALIZED\n",
      "2021-08-18 12:00:55.778470: W tensorflow/stream_executor/stream.cc:2041] attempting to perform BLAS operation using StreamExecutor without BLAS support\n"
     ]
    },
    {
     "ename": "InternalError",
     "evalue": "2 root error(s) found.\n  (0) Internal: Blas GEMM launch failed : a.shape=(128, 41), b.shape=(41, 28), m=128, n=28, k=41\n\t [[node predictor/rnn/while/p_cell/MatMul (defined at home/stufs1/zuwang/anaconda3/envs/dg21/lib/python3.7/site-packages/tensorflow_core/python/framework/ops.py:1748) ]]\n\t [[absolute_difference/value/_37]]\n  (1) Internal: Blas GEMM launch failed : a.shape=(128, 41), b.shape=(41, 28), m=128, n=28, k=41\n\t [[node predictor/rnn/while/p_cell/MatMul (defined at home/stufs1/zuwang/anaconda3/envs/dg21/lib/python3.7/site-packages/tensorflow_core/python/framework/ops.py:1748) ]]\n0 successful operations.\n0 derived errors ignored.\n\nOriginal stack trace for 'predictor/rnn/while/p_cell/MatMul':\n  File \"home/stufs1/zuwang/anaconda3/envs/dg21/lib/python3.7/runpy.py\", line 193, in _run_module_as_main\n    \"__main__\", mod_spec)\n  File \"home/stufs1/zuwang/anaconda3/envs/dg21/lib/python3.7/runpy.py\", line 85, in _run_code\n    exec(code, run_globals)\n  File \"home/stufs1/zuwang/anaconda3/envs/dg21/lib/python3.7/site-packages/ipykernel_launcher.py\", line 16, in <module>\n    app.launch_new_instance()\n  File \"home/stufs1/zuwang/anaconda3/envs/dg21/lib/python3.7/site-packages/traitlets/config/application.py\", line 845, in launch_instance\n    app.start()\n  File \"home/stufs1/zuwang/anaconda3/envs/dg21/lib/python3.7/site-packages/ipykernel/kernelapp.py\", line 667, in start\n    self.io_loop.start()\n  File \"home/stufs1/zuwang/anaconda3/envs/dg21/lib/python3.7/site-packages/tornado/platform/asyncio.py\", line 199, in start\n    self.asyncio_loop.run_forever()\n  File \"home/stufs1/zuwang/anaconda3/envs/dg21/lib/python3.7/asyncio/base_events.py\", line 541, in run_forever\n    self._run_once()\n  File \"home/stufs1/zuwang/anaconda3/envs/dg21/lib/python3.7/asyncio/base_events.py\", line 1786, in _run_once\n    handle._run()\n  File \"home/stufs1/zuwang/anaconda3/envs/dg21/lib/python3.7/asyncio/events.py\", line 88, in _run\n    self._context.run(self._callback, *self._args)\n  File \"home/stufs1/zuwang/anaconda3/envs/dg21/lib/python3.7/site-packages/ipykernel/kernelbase.py\", line 456, in dispatch_queue\n    await self.process_one()\n  File \"home/stufs1/zuwang/anaconda3/envs/dg21/lib/python3.7/site-packages/ipykernel/kernelbase.py\", line 445, in process_one\n    await dispatch(*args)\n  File \"home/stufs1/zuwang/anaconda3/envs/dg21/lib/python3.7/site-packages/ipykernel/kernelbase.py\", line 352, in dispatch_shell\n    await result\n  File \"home/stufs1/zuwang/anaconda3/envs/dg21/lib/python3.7/site-packages/ipykernel/kernelbase.py\", line 647, in execute_request\n    reply_content = await reply_content\n  File \"home/stufs1/zuwang/anaconda3/envs/dg21/lib/python3.7/site-packages/ipykernel/ipkernel.py\", line 345, in do_execute\n    res = shell.run_cell(code, store_history=store_history, silent=silent)\n  File \"home/stufs1/zuwang/anaconda3/envs/dg21/lib/python3.7/site-packages/ipykernel/zmqshell.py\", line 532, in run_cell\n    return super(ZMQInteractiveShell, self).run_cell(*args, **kwargs)\n  File \"home/stufs1/zuwang/anaconda3/envs/dg21/lib/python3.7/site-packages/IPython/core/interactiveshell.py\", line 2899, in run_cell\n    raw_cell, store_history, silent, shell_futures)\n  File \"home/stufs1/zuwang/anaconda3/envs/dg21/lib/python3.7/site-packages/IPython/core/interactiveshell.py\", line 2944, in _run_cell\n    return runner(coro)\n  File \"home/stufs1/zuwang/anaconda3/envs/dg21/lib/python3.7/site-packages/IPython/core/async_helpers.py\", line 68, in _pseudo_sync_runner\n    coro.send(None)\n  File \"home/stufs1/zuwang/anaconda3/envs/dg21/lib/python3.7/site-packages/IPython/core/interactiveshell.py\", line 3170, in run_cell_async\n    interactivity=interactivity, compiler=compiler, result=result)\n  File \"home/stufs1/zuwang/anaconda3/envs/dg21/lib/python3.7/site-packages/IPython/core/interactiveshell.py\", line 3361, in run_ast_nodes\n    if (await self.run_code(code, result,  async_=asy)):\n  File \"home/stufs1/zuwang/anaconda3/envs/dg21/lib/python3.7/site-packages/IPython/core/interactiveshell.py\", line 3441, in run_code\n    exec(code_obj, self.user_global_ns, self.user_ns)\n  File \"tmp/ipykernel_65273/3548733441.py\", line 5, in <module>\n    temp_pred = predictive_score_metrics(test_data, train_data)\n  File \"data/home/stufs1/zuwang/dg21/TimeGAN/metrics/predictive_metrics.py\", line 81, in predictive_score_metrics\n    y_pred, p_vars = predictor(X, T)\n  File \"data/home/stufs1/zuwang/dg21/TimeGAN/metrics/predictive_metrics.py\", line 74, in predictor\n    p_outputs, p_last_states = tf.nn.dynamic_rnn(p_cell, x, dtype=tf.float32, sequence_length = t)\n  File \"home/stufs1/zuwang/anaconda3/envs/dg21/lib/python3.7/site-packages/tensorflow_core/python/util/deprecation.py\", line 324, in new_func\n    return func(*args, **kwargs)\n  File \"home/stufs1/zuwang/anaconda3/envs/dg21/lib/python3.7/site-packages/tensorflow_core/python/ops/rnn.py\", line 707, in dynamic_rnn\n    dtype=dtype)\n  File \"home/stufs1/zuwang/anaconda3/envs/dg21/lib/python3.7/site-packages/tensorflow_core/python/ops/rnn.py\", line 916, in _dynamic_rnn_loop\n    swap_memory=swap_memory)\n  File \"home/stufs1/zuwang/anaconda3/envs/dg21/lib/python3.7/site-packages/tensorflow_core/python/ops/control_flow_ops.py\", line 2753, in while_loop\n    return_same_structure)\n  File \"home/stufs1/zuwang/anaconda3/envs/dg21/lib/python3.7/site-packages/tensorflow_core/python/ops/control_flow_ops.py\", line 2245, in BuildLoop\n    pred, body, original_loop_vars, loop_vars, shape_invariants)\n  File \"home/stufs1/zuwang/anaconda3/envs/dg21/lib/python3.7/site-packages/tensorflow_core/python/ops/control_flow_ops.py\", line 2170, in _BuildLoop\n    body_result = body(*packed_vars_for_body)\n  File \"home/stufs1/zuwang/anaconda3/envs/dg21/lib/python3.7/site-packages/tensorflow_core/python/ops/control_flow_ops.py\", line 2705, in <lambda>\n    body = lambda i, lv: (i + 1, orig_body(*lv))\n  File \"home/stufs1/zuwang/anaconda3/envs/dg21/lib/python3.7/site-packages/tensorflow_core/python/ops/rnn.py\", line 882, in _time_step\n    skip_conditionals=True)\n  File \"home/stufs1/zuwang/anaconda3/envs/dg21/lib/python3.7/site-packages/tensorflow_core/python/ops/rnn.py\", line 283, in _rnn_step\n    new_output, new_state = call_cell()\n  File \"home/stufs1/zuwang/anaconda3/envs/dg21/lib/python3.7/site-packages/tensorflow_core/python/ops/rnn.py\", line 870, in <lambda>\n    call_cell = lambda: cell(input_t, state)\n  File \"home/stufs1/zuwang/anaconda3/envs/dg21/lib/python3.7/site-packages/tensorflow_core/python/ops/rnn_cell_impl.py\", line 386, in __call__\n    self, inputs, state, scope=scope, *args, **kwargs)\n  File \"home/stufs1/zuwang/anaconda3/envs/dg21/lib/python3.7/site-packages/tensorflow_core/python/layers/base.py\", line 548, in __call__\n    outputs = super(Layer, self).__call__(inputs, *args, **kwargs)\n  File \"home/stufs1/zuwang/anaconda3/envs/dg21/lib/python3.7/site-packages/tensorflow_core/python/keras/engine/base_layer.py\", line 854, in __call__\n    outputs = call_fn(cast_inputs, *args, **kwargs)\n  File \"home/stufs1/zuwang/anaconda3/envs/dg21/lib/python3.7/site-packages/tensorflow_core/python/autograph/impl/api.py\", line 234, in wrapper\n    return converted_call(f, options, args, kwargs)\n  File \"home/stufs1/zuwang/anaconda3/envs/dg21/lib/python3.7/site-packages/tensorflow_core/python/autograph/impl/api.py\", line 439, in converted_call\n    return _call_unconverted(f, args, kwargs, options)\n  File \"home/stufs1/zuwang/anaconda3/envs/dg21/lib/python3.7/site-packages/tensorflow_core/python/autograph/impl/api.py\", line 330, in _call_unconverted\n    return f(*args, **kwargs)\n  File \"home/stufs1/zuwang/anaconda3/envs/dg21/lib/python3.7/site-packages/tensorflow_core/python/ops/rnn_cell_impl.py\", line 584, in call\n    array_ops.concat([inputs, state], 1), self._gate_kernel)\n  File \"home/stufs1/zuwang/anaconda3/envs/dg21/lib/python3.7/site-packages/tensorflow_core/python/util/dispatch.py\", line 180, in wrapper\n    return target(*args, **kwargs)\n  File \"home/stufs1/zuwang/anaconda3/envs/dg21/lib/python3.7/site-packages/tensorflow_core/python/ops/math_ops.py\", line 2754, in matmul\n    a, b, transpose_a=transpose_a, transpose_b=transpose_b, name=name)\n  File \"home/stufs1/zuwang/anaconda3/envs/dg21/lib/python3.7/site-packages/tensorflow_core/python/ops/gen_math_ops.py\", line 6136, in mat_mul\n    name=name)\n  File \"home/stufs1/zuwang/anaconda3/envs/dg21/lib/python3.7/site-packages/tensorflow_core/python/framework/op_def_library.py\", line 794, in _apply_op_helper\n    op_def=op_def)\n  File \"home/stufs1/zuwang/anaconda3/envs/dg21/lib/python3.7/site-packages/tensorflow_core/python/util/deprecation.py\", line 507, in new_func\n    return func(*args, **kwargs)\n  File \"home/stufs1/zuwang/anaconda3/envs/dg21/lib/python3.7/site-packages/tensorflow_core/python/framework/ops.py\", line 3357, in create_op\n    attrs, op_def, compute_device)\n  File \"home/stufs1/zuwang/anaconda3/envs/dg21/lib/python3.7/site-packages/tensorflow_core/python/framework/ops.py\", line 3426, in _create_op_internal\n    op_def=op_def)\n  File \"home/stufs1/zuwang/anaconda3/envs/dg21/lib/python3.7/site-packages/tensorflow_core/python/framework/ops.py\", line 1748, in __init__\n    self._traceback = tf_stack.extract_stack()\n",
     "output_type": "error",
     "traceback": [
      "\u001b[0;31m---------------------------------------------------------------------------\u001b[0m",
      "\u001b[0;31mInternalError\u001b[0m                             Traceback (most recent call last)",
      "\u001b[0;32m~/anaconda3/envs/dg21/lib/python3.7/site-packages/tensorflow_core/python/client/session.py\u001b[0m in \u001b[0;36m_do_call\u001b[0;34m(self, fn, *args)\u001b[0m\n\u001b[1;32m   1364\u001b[0m     \u001b[0;32mtry\u001b[0m\u001b[0;34m:\u001b[0m\u001b[0;34m\u001b[0m\u001b[0;34m\u001b[0m\u001b[0m\n\u001b[0;32m-> 1365\u001b[0;31m       \u001b[0;32mreturn\u001b[0m \u001b[0mfn\u001b[0m\u001b[0;34m(\u001b[0m\u001b[0;34m*\u001b[0m\u001b[0margs\u001b[0m\u001b[0;34m)\u001b[0m\u001b[0;34m\u001b[0m\u001b[0;34m\u001b[0m\u001b[0m\n\u001b[0m\u001b[1;32m   1366\u001b[0m     \u001b[0;32mexcept\u001b[0m \u001b[0merrors\u001b[0m\u001b[0;34m.\u001b[0m\u001b[0mOpError\u001b[0m \u001b[0;32mas\u001b[0m \u001b[0me\u001b[0m\u001b[0;34m:\u001b[0m\u001b[0;34m\u001b[0m\u001b[0;34m\u001b[0m\u001b[0m\n",
      "\u001b[0;32m~/anaconda3/envs/dg21/lib/python3.7/site-packages/tensorflow_core/python/client/session.py\u001b[0m in \u001b[0;36m_run_fn\u001b[0;34m(feed_dict, fetch_list, target_list, options, run_metadata)\u001b[0m\n\u001b[1;32m   1349\u001b[0m       return self._call_tf_sessionrun(options, feed_dict, fetch_list,\n\u001b[0;32m-> 1350\u001b[0;31m                                       target_list, run_metadata)\n\u001b[0m\u001b[1;32m   1351\u001b[0m \u001b[0;34m\u001b[0m\u001b[0m\n",
      "\u001b[0;32m~/anaconda3/envs/dg21/lib/python3.7/site-packages/tensorflow_core/python/client/session.py\u001b[0m in \u001b[0;36m_call_tf_sessionrun\u001b[0;34m(self, options, feed_dict, fetch_list, target_list, run_metadata)\u001b[0m\n\u001b[1;32m   1442\u001b[0m                                             \u001b[0mfetch_list\u001b[0m\u001b[0;34m,\u001b[0m \u001b[0mtarget_list\u001b[0m\u001b[0;34m,\u001b[0m\u001b[0;34m\u001b[0m\u001b[0;34m\u001b[0m\u001b[0m\n\u001b[0;32m-> 1443\u001b[0;31m                                             run_metadata)\n\u001b[0m\u001b[1;32m   1444\u001b[0m \u001b[0;34m\u001b[0m\u001b[0m\n",
      "\u001b[0;31mInternalError\u001b[0m: 2 root error(s) found.\n  (0) Internal: Blas GEMM launch failed : a.shape=(128, 41), b.shape=(41, 28), m=128, n=28, k=41\n\t [[{{node predictor/rnn/while/p_cell/MatMul}}]]\n\t [[absolute_difference/value/_37]]\n  (1) Internal: Blas GEMM launch failed : a.shape=(128, 41), b.shape=(41, 28), m=128, n=28, k=41\n\t [[{{node predictor/rnn/while/p_cell/MatMul}}]]\n0 successful operations.\n0 derived errors ignored.",
      "\nDuring handling of the above exception, another exception occurred:\n",
      "\u001b[0;31mInternalError\u001b[0m                             Traceback (most recent call last)",
      "\u001b[0;32m/tmp/ipykernel_65273/3548733441.py\u001b[0m in \u001b[0;36m<module>\u001b[0;34m\u001b[0m\n\u001b[1;32m      3\u001b[0m \u001b[0mpredictive_score\u001b[0m \u001b[0;34m=\u001b[0m \u001b[0mlist\u001b[0m\u001b[0;34m(\u001b[0m\u001b[0;34m)\u001b[0m\u001b[0;34m\u001b[0m\u001b[0;34m\u001b[0m\u001b[0m\n\u001b[1;32m      4\u001b[0m \u001b[0;32mfor\u001b[0m \u001b[0mtt\u001b[0m \u001b[0;32min\u001b[0m \u001b[0mrange\u001b[0m\u001b[0;34m(\u001b[0m\u001b[0mmetric_iteration\u001b[0m\u001b[0;34m)\u001b[0m\u001b[0;34m:\u001b[0m\u001b[0;34m\u001b[0m\u001b[0;34m\u001b[0m\u001b[0m\n\u001b[0;32m----> 5\u001b[0;31m   \u001b[0mtemp_pred\u001b[0m \u001b[0;34m=\u001b[0m \u001b[0mpredictive_score_metrics\u001b[0m\u001b[0;34m(\u001b[0m\u001b[0mtest_data\u001b[0m\u001b[0;34m,\u001b[0m \u001b[0mtrain_data\u001b[0m\u001b[0;34m)\u001b[0m\u001b[0;34m\u001b[0m\u001b[0;34m\u001b[0m\u001b[0m\n\u001b[0m\u001b[1;32m      6\u001b[0m   \u001b[0mpredictive_score\u001b[0m\u001b[0;34m.\u001b[0m\u001b[0mappend\u001b[0m\u001b[0;34m(\u001b[0m\u001b[0mtemp_pred\u001b[0m\u001b[0;34m)\u001b[0m\u001b[0;34m\u001b[0m\u001b[0;34m\u001b[0m\u001b[0m\n\u001b[1;32m      7\u001b[0m \u001b[0;34m\u001b[0m\u001b[0m\n",
      "\u001b[0;32m/data/home/stufs1/zuwang/dg21/TimeGAN/metrics/predictive_metrics.py\u001b[0m in \u001b[0;36mpredictive_score_metrics\u001b[0;34m(ori_data, generated_data)\u001b[0m\n\u001b[1;32m    102\u001b[0m \u001b[0;34m\u001b[0m\u001b[0m\n\u001b[1;32m    103\u001b[0m     \u001b[0;31m# Train predictor\u001b[0m\u001b[0;34m\u001b[0m\u001b[0;34m\u001b[0m\u001b[0;34m\u001b[0m\u001b[0m\n\u001b[0;32m--> 104\u001b[0;31m     \u001b[0m_\u001b[0m\u001b[0;34m,\u001b[0m \u001b[0mstep_p_loss\u001b[0m \u001b[0;34m=\u001b[0m \u001b[0msess\u001b[0m\u001b[0;34m.\u001b[0m\u001b[0mrun\u001b[0m\u001b[0;34m(\u001b[0m\u001b[0;34m[\u001b[0m\u001b[0mp_solver\u001b[0m\u001b[0;34m,\u001b[0m \u001b[0mp_loss\u001b[0m\u001b[0;34m]\u001b[0m\u001b[0;34m,\u001b[0m \u001b[0mfeed_dict\u001b[0m\u001b[0;34m=\u001b[0m\u001b[0;34m{\u001b[0m\u001b[0mX\u001b[0m\u001b[0;34m:\u001b[0m \u001b[0mX_mb\u001b[0m\u001b[0;34m,\u001b[0m \u001b[0mT\u001b[0m\u001b[0;34m:\u001b[0m \u001b[0mT_mb\u001b[0m\u001b[0;34m,\u001b[0m \u001b[0mY\u001b[0m\u001b[0;34m:\u001b[0m \u001b[0mY_mb\u001b[0m\u001b[0;34m}\u001b[0m\u001b[0;34m)\u001b[0m\u001b[0;34m\u001b[0m\u001b[0;34m\u001b[0m\u001b[0m\n\u001b[0m\u001b[1;32m    105\u001b[0m \u001b[0;34m\u001b[0m\u001b[0m\n\u001b[1;32m    106\u001b[0m   \u001b[0;31m## Test the trained model on the original data\u001b[0m\u001b[0;34m\u001b[0m\u001b[0;34m\u001b[0m\u001b[0;34m\u001b[0m\u001b[0m\n",
      "\u001b[0;32m~/anaconda3/envs/dg21/lib/python3.7/site-packages/tensorflow_core/python/client/session.py\u001b[0m in \u001b[0;36mrun\u001b[0;34m(self, fetches, feed_dict, options, run_metadata)\u001b[0m\n\u001b[1;32m    954\u001b[0m     \u001b[0;32mtry\u001b[0m\u001b[0;34m:\u001b[0m\u001b[0;34m\u001b[0m\u001b[0;34m\u001b[0m\u001b[0m\n\u001b[1;32m    955\u001b[0m       result = self._run(None, fetches, feed_dict, options_ptr,\n\u001b[0;32m--> 956\u001b[0;31m                          run_metadata_ptr)\n\u001b[0m\u001b[1;32m    957\u001b[0m       \u001b[0;32mif\u001b[0m \u001b[0mrun_metadata\u001b[0m\u001b[0;34m:\u001b[0m\u001b[0;34m\u001b[0m\u001b[0;34m\u001b[0m\u001b[0m\n\u001b[1;32m    958\u001b[0m         \u001b[0mproto_data\u001b[0m \u001b[0;34m=\u001b[0m \u001b[0mtf_session\u001b[0m\u001b[0;34m.\u001b[0m\u001b[0mTF_GetBuffer\u001b[0m\u001b[0;34m(\u001b[0m\u001b[0mrun_metadata_ptr\u001b[0m\u001b[0;34m)\u001b[0m\u001b[0;34m\u001b[0m\u001b[0;34m\u001b[0m\u001b[0m\n",
      "\u001b[0;32m~/anaconda3/envs/dg21/lib/python3.7/site-packages/tensorflow_core/python/client/session.py\u001b[0m in \u001b[0;36m_run\u001b[0;34m(self, handle, fetches, feed_dict, options, run_metadata)\u001b[0m\n\u001b[1;32m   1178\u001b[0m     \u001b[0;32mif\u001b[0m \u001b[0mfinal_fetches\u001b[0m \u001b[0;32mor\u001b[0m \u001b[0mfinal_targets\u001b[0m \u001b[0;32mor\u001b[0m \u001b[0;34m(\u001b[0m\u001b[0mhandle\u001b[0m \u001b[0;32mand\u001b[0m \u001b[0mfeed_dict_tensor\u001b[0m\u001b[0;34m)\u001b[0m\u001b[0;34m:\u001b[0m\u001b[0;34m\u001b[0m\u001b[0;34m\u001b[0m\u001b[0m\n\u001b[1;32m   1179\u001b[0m       results = self._do_run(handle, final_targets, final_fetches,\n\u001b[0;32m-> 1180\u001b[0;31m                              feed_dict_tensor, options, run_metadata)\n\u001b[0m\u001b[1;32m   1181\u001b[0m     \u001b[0;32melse\u001b[0m\u001b[0;34m:\u001b[0m\u001b[0;34m\u001b[0m\u001b[0;34m\u001b[0m\u001b[0m\n\u001b[1;32m   1182\u001b[0m       \u001b[0mresults\u001b[0m \u001b[0;34m=\u001b[0m \u001b[0;34m[\u001b[0m\u001b[0;34m]\u001b[0m\u001b[0;34m\u001b[0m\u001b[0;34m\u001b[0m\u001b[0m\n",
      "\u001b[0;32m~/anaconda3/envs/dg21/lib/python3.7/site-packages/tensorflow_core/python/client/session.py\u001b[0m in \u001b[0;36m_do_run\u001b[0;34m(self, handle, target_list, fetch_list, feed_dict, options, run_metadata)\u001b[0m\n\u001b[1;32m   1357\u001b[0m     \u001b[0;32mif\u001b[0m \u001b[0mhandle\u001b[0m \u001b[0;32mis\u001b[0m \u001b[0;32mNone\u001b[0m\u001b[0;34m:\u001b[0m\u001b[0;34m\u001b[0m\u001b[0;34m\u001b[0m\u001b[0m\n\u001b[1;32m   1358\u001b[0m       return self._do_call(_run_fn, feeds, fetches, targets, options,\n\u001b[0;32m-> 1359\u001b[0;31m                            run_metadata)\n\u001b[0m\u001b[1;32m   1360\u001b[0m     \u001b[0;32melse\u001b[0m\u001b[0;34m:\u001b[0m\u001b[0;34m\u001b[0m\u001b[0;34m\u001b[0m\u001b[0m\n\u001b[1;32m   1361\u001b[0m       \u001b[0;32mreturn\u001b[0m \u001b[0mself\u001b[0m\u001b[0;34m.\u001b[0m\u001b[0m_do_call\u001b[0m\u001b[0;34m(\u001b[0m\u001b[0m_prun_fn\u001b[0m\u001b[0;34m,\u001b[0m \u001b[0mhandle\u001b[0m\u001b[0;34m,\u001b[0m \u001b[0mfeeds\u001b[0m\u001b[0;34m,\u001b[0m \u001b[0mfetches\u001b[0m\u001b[0;34m)\u001b[0m\u001b[0;34m\u001b[0m\u001b[0;34m\u001b[0m\u001b[0m\n",
      "\u001b[0;32m~/anaconda3/envs/dg21/lib/python3.7/site-packages/tensorflow_core/python/client/session.py\u001b[0m in \u001b[0;36m_do_call\u001b[0;34m(self, fn, *args)\u001b[0m\n\u001b[1;32m   1382\u001b[0m                     \u001b[0;34m'\\nsession_config.graph_options.rewrite_options.'\u001b[0m\u001b[0;34m\u001b[0m\u001b[0;34m\u001b[0m\u001b[0m\n\u001b[1;32m   1383\u001b[0m                     'disable_meta_optimizer = True')\n\u001b[0;32m-> 1384\u001b[0;31m       \u001b[0;32mraise\u001b[0m \u001b[0mtype\u001b[0m\u001b[0;34m(\u001b[0m\u001b[0me\u001b[0m\u001b[0;34m)\u001b[0m\u001b[0;34m(\u001b[0m\u001b[0mnode_def\u001b[0m\u001b[0;34m,\u001b[0m \u001b[0mop\u001b[0m\u001b[0;34m,\u001b[0m \u001b[0mmessage\u001b[0m\u001b[0;34m)\u001b[0m\u001b[0;34m\u001b[0m\u001b[0;34m\u001b[0m\u001b[0m\n\u001b[0m\u001b[1;32m   1385\u001b[0m \u001b[0;34m\u001b[0m\u001b[0m\n\u001b[1;32m   1386\u001b[0m   \u001b[0;32mdef\u001b[0m \u001b[0m_extend_graph\u001b[0m\u001b[0;34m(\u001b[0m\u001b[0mself\u001b[0m\u001b[0;34m)\u001b[0m\u001b[0;34m:\u001b[0m\u001b[0;34m\u001b[0m\u001b[0;34m\u001b[0m\u001b[0m\n",
      "\u001b[0;31mInternalError\u001b[0m: 2 root error(s) found.\n  (0) Internal: Blas GEMM launch failed : a.shape=(128, 41), b.shape=(41, 28), m=128, n=28, k=41\n\t [[node predictor/rnn/while/p_cell/MatMul (defined at home/stufs1/zuwang/anaconda3/envs/dg21/lib/python3.7/site-packages/tensorflow_core/python/framework/ops.py:1748) ]]\n\t [[absolute_difference/value/_37]]\n  (1) Internal: Blas GEMM launch failed : a.shape=(128, 41), b.shape=(41, 28), m=128, n=28, k=41\n\t [[node predictor/rnn/while/p_cell/MatMul (defined at home/stufs1/zuwang/anaconda3/envs/dg21/lib/python3.7/site-packages/tensorflow_core/python/framework/ops.py:1748) ]]\n0 successful operations.\n0 derived errors ignored.\n\nOriginal stack trace for 'predictor/rnn/while/p_cell/MatMul':\n  File \"home/stufs1/zuwang/anaconda3/envs/dg21/lib/python3.7/runpy.py\", line 193, in _run_module_as_main\n    \"__main__\", mod_spec)\n  File \"home/stufs1/zuwang/anaconda3/envs/dg21/lib/python3.7/runpy.py\", line 85, in _run_code\n    exec(code, run_globals)\n  File \"home/stufs1/zuwang/anaconda3/envs/dg21/lib/python3.7/site-packages/ipykernel_launcher.py\", line 16, in <module>\n    app.launch_new_instance()\n  File \"home/stufs1/zuwang/anaconda3/envs/dg21/lib/python3.7/site-packages/traitlets/config/application.py\", line 845, in launch_instance\n    app.start()\n  File \"home/stufs1/zuwang/anaconda3/envs/dg21/lib/python3.7/site-packages/ipykernel/kernelapp.py\", line 667, in start\n    self.io_loop.start()\n  File \"home/stufs1/zuwang/anaconda3/envs/dg21/lib/python3.7/site-packages/tornado/platform/asyncio.py\", line 199, in start\n    self.asyncio_loop.run_forever()\n  File \"home/stufs1/zuwang/anaconda3/envs/dg21/lib/python3.7/asyncio/base_events.py\", line 541, in run_forever\n    self._run_once()\n  File \"home/stufs1/zuwang/anaconda3/envs/dg21/lib/python3.7/asyncio/base_events.py\", line 1786, in _run_once\n    handle._run()\n  File \"home/stufs1/zuwang/anaconda3/envs/dg21/lib/python3.7/asyncio/events.py\", line 88, in _run\n    self._context.run(self._callback, *self._args)\n  File \"home/stufs1/zuwang/anaconda3/envs/dg21/lib/python3.7/site-packages/ipykernel/kernelbase.py\", line 456, in dispatch_queue\n    await self.process_one()\n  File \"home/stufs1/zuwang/anaconda3/envs/dg21/lib/python3.7/site-packages/ipykernel/kernelbase.py\", line 445, in process_one\n    await dispatch(*args)\n  File \"home/stufs1/zuwang/anaconda3/envs/dg21/lib/python3.7/site-packages/ipykernel/kernelbase.py\", line 352, in dispatch_shell\n    await result\n  File \"home/stufs1/zuwang/anaconda3/envs/dg21/lib/python3.7/site-packages/ipykernel/kernelbase.py\", line 647, in execute_request\n    reply_content = await reply_content\n  File \"home/stufs1/zuwang/anaconda3/envs/dg21/lib/python3.7/site-packages/ipykernel/ipkernel.py\", line 345, in do_execute\n    res = shell.run_cell(code, store_history=store_history, silent=silent)\n  File \"home/stufs1/zuwang/anaconda3/envs/dg21/lib/python3.7/site-packages/ipykernel/zmqshell.py\", line 532, in run_cell\n    return super(ZMQInteractiveShell, self).run_cell(*args, **kwargs)\n  File \"home/stufs1/zuwang/anaconda3/envs/dg21/lib/python3.7/site-packages/IPython/core/interactiveshell.py\", line 2899, in run_cell\n    raw_cell, store_history, silent, shell_futures)\n  File \"home/stufs1/zuwang/anaconda3/envs/dg21/lib/python3.7/site-packages/IPython/core/interactiveshell.py\", line 2944, in _run_cell\n    return runner(coro)\n  File \"home/stufs1/zuwang/anaconda3/envs/dg21/lib/python3.7/site-packages/IPython/core/async_helpers.py\", line 68, in _pseudo_sync_runner\n    coro.send(None)\n  File \"home/stufs1/zuwang/anaconda3/envs/dg21/lib/python3.7/site-packages/IPython/core/interactiveshell.py\", line 3170, in run_cell_async\n    interactivity=interactivity, compiler=compiler, result=result)\n  File \"home/stufs1/zuwang/anaconda3/envs/dg21/lib/python3.7/site-packages/IPython/core/interactiveshell.py\", line 3361, in run_ast_nodes\n    if (await self.run_code(code, result,  async_=asy)):\n  File \"home/stufs1/zuwang/anaconda3/envs/dg21/lib/python3.7/site-packages/IPython/core/interactiveshell.py\", line 3441, in run_code\n    exec(code_obj, self.user_global_ns, self.user_ns)\n  File \"tmp/ipykernel_65273/3548733441.py\", line 5, in <module>\n    temp_pred = predictive_score_metrics(test_data, train_data)\n  File \"data/home/stufs1/zuwang/dg21/TimeGAN/metrics/predictive_metrics.py\", line 81, in predictive_score_metrics\n    y_pred, p_vars = predictor(X, T)\n  File \"data/home/stufs1/zuwang/dg21/TimeGAN/metrics/predictive_metrics.py\", line 74, in predictor\n    p_outputs, p_last_states = tf.nn.dynamic_rnn(p_cell, x, dtype=tf.float32, sequence_length = t)\n  File \"home/stufs1/zuwang/anaconda3/envs/dg21/lib/python3.7/site-packages/tensorflow_core/python/util/deprecation.py\", line 324, in new_func\n    return func(*args, **kwargs)\n  File \"home/stufs1/zuwang/anaconda3/envs/dg21/lib/python3.7/site-packages/tensorflow_core/python/ops/rnn.py\", line 707, in dynamic_rnn\n    dtype=dtype)\n  File \"home/stufs1/zuwang/anaconda3/envs/dg21/lib/python3.7/site-packages/tensorflow_core/python/ops/rnn.py\", line 916, in _dynamic_rnn_loop\n    swap_memory=swap_memory)\n  File \"home/stufs1/zuwang/anaconda3/envs/dg21/lib/python3.7/site-packages/tensorflow_core/python/ops/control_flow_ops.py\", line 2753, in while_loop\n    return_same_structure)\n  File \"home/stufs1/zuwang/anaconda3/envs/dg21/lib/python3.7/site-packages/tensorflow_core/python/ops/control_flow_ops.py\", line 2245, in BuildLoop\n    pred, body, original_loop_vars, loop_vars, shape_invariants)\n  File \"home/stufs1/zuwang/anaconda3/envs/dg21/lib/python3.7/site-packages/tensorflow_core/python/ops/control_flow_ops.py\", line 2170, in _BuildLoop\n    body_result = body(*packed_vars_for_body)\n  File \"home/stufs1/zuwang/anaconda3/envs/dg21/lib/python3.7/site-packages/tensorflow_core/python/ops/control_flow_ops.py\", line 2705, in <lambda>\n    body = lambda i, lv: (i + 1, orig_body(*lv))\n  File \"home/stufs1/zuwang/anaconda3/envs/dg21/lib/python3.7/site-packages/tensorflow_core/python/ops/rnn.py\", line 882, in _time_step\n    skip_conditionals=True)\n  File \"home/stufs1/zuwang/anaconda3/envs/dg21/lib/python3.7/site-packages/tensorflow_core/python/ops/rnn.py\", line 283, in _rnn_step\n    new_output, new_state = call_cell()\n  File \"home/stufs1/zuwang/anaconda3/envs/dg21/lib/python3.7/site-packages/tensorflow_core/python/ops/rnn.py\", line 870, in <lambda>\n    call_cell = lambda: cell(input_t, state)\n  File \"home/stufs1/zuwang/anaconda3/envs/dg21/lib/python3.7/site-packages/tensorflow_core/python/ops/rnn_cell_impl.py\", line 386, in __call__\n    self, inputs, state, scope=scope, *args, **kwargs)\n  File \"home/stufs1/zuwang/anaconda3/envs/dg21/lib/python3.7/site-packages/tensorflow_core/python/layers/base.py\", line 548, in __call__\n    outputs = super(Layer, self).__call__(inputs, *args, **kwargs)\n  File \"home/stufs1/zuwang/anaconda3/envs/dg21/lib/python3.7/site-packages/tensorflow_core/python/keras/engine/base_layer.py\", line 854, in __call__\n    outputs = call_fn(cast_inputs, *args, **kwargs)\n  File \"home/stufs1/zuwang/anaconda3/envs/dg21/lib/python3.7/site-packages/tensorflow_core/python/autograph/impl/api.py\", line 234, in wrapper\n    return converted_call(f, options, args, kwargs)\n  File \"home/stufs1/zuwang/anaconda3/envs/dg21/lib/python3.7/site-packages/tensorflow_core/python/autograph/impl/api.py\", line 439, in converted_call\n    return _call_unconverted(f, args, kwargs, options)\n  File \"home/stufs1/zuwang/anaconda3/envs/dg21/lib/python3.7/site-packages/tensorflow_core/python/autograph/impl/api.py\", line 330, in _call_unconverted\n    return f(*args, **kwargs)\n  File \"home/stufs1/zuwang/anaconda3/envs/dg21/lib/python3.7/site-packages/tensorflow_core/python/ops/rnn_cell_impl.py\", line 584, in call\n    array_ops.concat([inputs, state], 1), self._gate_kernel)\n  File \"home/stufs1/zuwang/anaconda3/envs/dg21/lib/python3.7/site-packages/tensorflow_core/python/util/dispatch.py\", line 180, in wrapper\n    return target(*args, **kwargs)\n  File \"home/stufs1/zuwang/anaconda3/envs/dg21/lib/python3.7/site-packages/tensorflow_core/python/ops/math_ops.py\", line 2754, in matmul\n    a, b, transpose_a=transpose_a, transpose_b=transpose_b, name=name)\n  File \"home/stufs1/zuwang/anaconda3/envs/dg21/lib/python3.7/site-packages/tensorflow_core/python/ops/gen_math_ops.py\", line 6136, in mat_mul\n    name=name)\n  File \"home/stufs1/zuwang/anaconda3/envs/dg21/lib/python3.7/site-packages/tensorflow_core/python/framework/op_def_library.py\", line 794, in _apply_op_helper\n    op_def=op_def)\n  File \"home/stufs1/zuwang/anaconda3/envs/dg21/lib/python3.7/site-packages/tensorflow_core/python/util/deprecation.py\", line 507, in new_func\n    return func(*args, **kwargs)\n  File \"home/stufs1/zuwang/anaconda3/envs/dg21/lib/python3.7/site-packages/tensorflow_core/python/framework/ops.py\", line 3357, in create_op\n    attrs, op_def, compute_device)\n  File \"home/stufs1/zuwang/anaconda3/envs/dg21/lib/python3.7/site-packages/tensorflow_core/python/framework/ops.py\", line 3426, in _create_op_internal\n    op_def=op_def)\n  File \"home/stufs1/zuwang/anaconda3/envs/dg21/lib/python3.7/site-packages/tensorflow_core/python/framework/ops.py\", line 1748, in __init__\n    self._traceback = tf_stack.extract_stack()\n"
     ]
    }
   ],
   "source": [
    "metric_iteration = 5\n",
    "\n",
    "predictive_score = list()\n",
    "for tt in range(metric_iteration):\n",
    "  temp_pred = predictive_score_metrics(test_data, train_data)\n",
    "  predictive_score.append(temp_pred)   \n",
    "    \n",
    "print('Predictive score: ' + str(np.round(np.mean(predictive_score), 4)))"
   ]
  },
  {
   "cell_type": "code",
   "execution_count": null,
   "metadata": {},
   "outputs": [],
   "source": [
    "print(\"all the predictive scores: \", predictive_score)\n",
    "print('Predictive score avg. value: ' + str(np.round(np.mean(predictive_score), 4)))\n",
    "print('Predictive score std. value: ' + str(np.round(np.std(predictive_score), 4)))"
   ]
  },
  {
   "cell_type": "code",
   "execution_count": null,
   "metadata": {},
   "outputs": [],
   "source": []
  }
 ],
 "metadata": {
  "kernelspec": {
   "display_name": "Python 3 (ipykernel)",
   "language": "python",
   "name": "python3"
  },
  "language_info": {
   "codemirror_mode": {
    "name": "ipython",
    "version": 3
   },
   "file_extension": ".py",
   "mimetype": "text/x-python",
   "name": "python",
   "nbconvert_exporter": "python",
   "pygments_lexer": "ipython3",
   "version": "3.7.10"
  }
 },
 "nbformat": 4,
 "nbformat_minor": 2
}
