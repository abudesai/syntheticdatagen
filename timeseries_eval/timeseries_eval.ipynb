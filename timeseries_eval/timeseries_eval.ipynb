{
 "cells": [
  {
   "cell_type": "code",
   "execution_count": 79,
   "metadata": {},
   "outputs": [],
   "source": [
    "import numpy as np, pandas as pd\n",
    "import os, sys\n",
    "import matplotlib.pyplot as plt\n",
    "from sklearn.preprocessing import MinMaxScaler\n",
    "import statsmodels.api as sm\n"
   ]
  },
  {
   "cell_type": "code",
   "execution_count": 78,
   "metadata": {},
   "outputs": [],
   "source": [
    "import statsmodels\n",
    "data_dir = 'data' "
   ]
  },
  {
   "cell_type": "code",
   "execution_count": 87,
   "metadata": {},
   "outputs": [],
   "source": [
    "data_dict = {\n",
    "    'energy': {\n",
    "        'file': 'Energy-energydata_complete.csv',\n",
    "        'time_col': 'date',\n",
    "        'time_steps_per_day': 1, \n",
    "        'has_weekends': False,\n",
    "        'max_lags': 250,\n",
    "    },\n",
    "    'stocks': {\n",
    "        'file': 'Stock-GOOG.csv',\n",
    "        'time_col': 'Date', \n",
    "        'time_steps_per_day': 24*6, \n",
    "        'has_weekends': True,\n",
    "        'max_lags': 4320,       \n",
    "    }\n",
    "}"
   ]
  },
  {
   "cell_type": "markdown",
   "metadata": {},
   "source": [
    "## Choose Data"
   ]
  },
  {
   "cell_type": "code",
   "execution_count": 351,
   "metadata": {},
   "outputs": [],
   "source": [
    "selected = 'energy'\n",
    "selected = 'stocks'"
   ]
  },
  {
   "cell_type": "code",
   "execution_count": 352,
   "metadata": {},
   "outputs": [
    {
     "name": "stdout",
     "output_type": "stream",
     "text": [
      "        Date         Open         High          Low        Close    Adj Close  \\\n",
      "0 2020-06-29  1358.180054  1395.599976  1347.010010  1394.969971  1394.969971   \n",
      "1 2020-06-30  1390.439941  1418.650024  1383.959961  1413.609985  1413.609985   \n",
      "2 2020-07-01  1411.099976  1443.000000  1409.819946  1438.040039  1438.040039   \n",
      "3 2020-07-02  1446.939941  1482.949951  1446.420044  1464.699951  1464.699951   \n",
      "4 2020-07-06  1480.060059  1506.589966  1472.859985  1495.699951  1495.699951   \n",
      "\n",
      "    Volume  \n",
      "0  1810200  \n",
      "1  2042400  \n",
      "2  1775200  \n",
      "3  1859100  \n",
      "4  1564000  \n"
     ]
    }
   ],
   "source": [
    "file_path = os.path.join(data_dir, data_dict[selected]['file'])\n",
    "data = pd.read_csv(file_path, parse_dates=[data_dict[selected]['time_col']])\n",
    "print(data.head())"
   ]
  },
  {
   "cell_type": "markdown",
   "metadata": {},
   "source": [
    "## Extract date feature"
   ]
  },
  {
   "cell_type": "code",
   "execution_count": 353,
   "metadata": {},
   "outputs": [],
   "source": [
    "time_col = data_dict[selected]['time_col']"
   ]
  },
  {
   "cell_type": "code",
   "execution_count": 354,
   "metadata": {},
   "outputs": [
    {
     "data": {
      "text/html": [
       "<div>\n",
       "<style scoped>\n",
       "    .dataframe tbody tr th:only-of-type {\n",
       "        vertical-align: middle;\n",
       "    }\n",
       "\n",
       "    .dataframe tbody tr th {\n",
       "        vertical-align: top;\n",
       "    }\n",
       "\n",
       "    .dataframe thead th {\n",
       "        text-align: right;\n",
       "    }\n",
       "</style>\n",
       "<table border=\"1\" class=\"dataframe\">\n",
       "  <thead>\n",
       "    <tr style=\"text-align: right;\">\n",
       "      <th></th>\n",
       "      <th>Date</th>\n",
       "      <th>Open</th>\n",
       "      <th>High</th>\n",
       "      <th>Low</th>\n",
       "      <th>Close</th>\n",
       "      <th>Adj Close</th>\n",
       "      <th>Volume</th>\n",
       "    </tr>\n",
       "  </thead>\n",
       "  <tbody>\n",
       "    <tr>\n",
       "      <th>0</th>\n",
       "      <td>2020-06-29</td>\n",
       "      <td>1358.180054</td>\n",
       "      <td>1395.599976</td>\n",
       "      <td>1347.010010</td>\n",
       "      <td>1394.969971</td>\n",
       "      <td>1394.969971</td>\n",
       "      <td>1810200</td>\n",
       "    </tr>\n",
       "    <tr>\n",
       "      <th>1</th>\n",
       "      <td>2020-06-30</td>\n",
       "      <td>1390.439941</td>\n",
       "      <td>1418.650024</td>\n",
       "      <td>1383.959961</td>\n",
       "      <td>1413.609985</td>\n",
       "      <td>1413.609985</td>\n",
       "      <td>2042400</td>\n",
       "    </tr>\n",
       "    <tr>\n",
       "      <th>2</th>\n",
       "      <td>2020-07-01</td>\n",
       "      <td>1411.099976</td>\n",
       "      <td>1443.000000</td>\n",
       "      <td>1409.819946</td>\n",
       "      <td>1438.040039</td>\n",
       "      <td>1438.040039</td>\n",
       "      <td>1775200</td>\n",
       "    </tr>\n",
       "    <tr>\n",
       "      <th>3</th>\n",
       "      <td>2020-07-02</td>\n",
       "      <td>1446.939941</td>\n",
       "      <td>1482.949951</td>\n",
       "      <td>1446.420044</td>\n",
       "      <td>1464.699951</td>\n",
       "      <td>1464.699951</td>\n",
       "      <td>1859100</td>\n",
       "    </tr>\n",
       "    <tr>\n",
       "      <th>4</th>\n",
       "      <td>2020-07-06</td>\n",
       "      <td>1480.060059</td>\n",
       "      <td>1506.589966</td>\n",
       "      <td>1472.859985</td>\n",
       "      <td>1495.699951</td>\n",
       "      <td>1495.699951</td>\n",
       "      <td>1564000</td>\n",
       "    </tr>\n",
       "  </tbody>\n",
       "</table>\n",
       "</div>"
      ],
      "text/plain": [
       "         Date         Open         High          Low        Close  \\\n",
       "0  2020-06-29  1358.180054  1395.599976  1347.010010  1394.969971   \n",
       "1  2020-06-30  1390.439941  1418.650024  1383.959961  1413.609985   \n",
       "2  2020-07-01  1411.099976  1443.000000  1409.819946  1438.040039   \n",
       "3  2020-07-02  1446.939941  1482.949951  1446.420044  1464.699951   \n",
       "4  2020-07-06  1480.060059  1506.589966  1472.859985  1495.699951   \n",
       "\n",
       "     Adj Close   Volume  \n",
       "0  1394.969971  1810200  \n",
       "1  1413.609985  2042400  \n",
       "2  1438.040039  1775200  \n",
       "3  1464.699951  1859100  \n",
       "4  1495.699951  1564000  "
      ]
     },
     "execution_count": 354,
     "metadata": {},
     "output_type": "execute_result"
    }
   ],
   "source": [
    "data[time_col] = data[time_col].apply(lambda t: t.date())\n",
    "data.head()"
   ]
  },
  {
   "cell_type": "markdown",
   "metadata": {},
   "source": [
    "## Group data by time col"
   ]
  },
  {
   "cell_type": "code",
   "execution_count": 355,
   "metadata": {},
   "outputs": [
    {
     "data": {
      "text/html": [
       "<div>\n",
       "<style scoped>\n",
       "    .dataframe tbody tr th:only-of-type {\n",
       "        vertical-align: middle;\n",
       "    }\n",
       "\n",
       "    .dataframe tbody tr th {\n",
       "        vertical-align: top;\n",
       "    }\n",
       "\n",
       "    .dataframe thead th {\n",
       "        text-align: right;\n",
       "    }\n",
       "</style>\n",
       "<table border=\"1\" class=\"dataframe\">\n",
       "  <thead>\n",
       "    <tr style=\"text-align: right;\">\n",
       "      <th></th>\n",
       "      <th>Open</th>\n",
       "      <th>High</th>\n",
       "      <th>Low</th>\n",
       "      <th>Close</th>\n",
       "      <th>Adj Close</th>\n",
       "      <th>Volume</th>\n",
       "    </tr>\n",
       "  </thead>\n",
       "  <tbody>\n",
       "    <tr>\n",
       "      <th>0</th>\n",
       "      <td>1358.180054</td>\n",
       "      <td>1395.599976</td>\n",
       "      <td>1347.010010</td>\n",
       "      <td>1394.969971</td>\n",
       "      <td>1394.969971</td>\n",
       "      <td>1810200</td>\n",
       "    </tr>\n",
       "    <tr>\n",
       "      <th>1</th>\n",
       "      <td>1390.439941</td>\n",
       "      <td>1418.650024</td>\n",
       "      <td>1383.959961</td>\n",
       "      <td>1413.609985</td>\n",
       "      <td>1413.609985</td>\n",
       "      <td>2042400</td>\n",
       "    </tr>\n",
       "    <tr>\n",
       "      <th>2</th>\n",
       "      <td>1411.099976</td>\n",
       "      <td>1443.000000</td>\n",
       "      <td>1409.819946</td>\n",
       "      <td>1438.040039</td>\n",
       "      <td>1438.040039</td>\n",
       "      <td>1775200</td>\n",
       "    </tr>\n",
       "    <tr>\n",
       "      <th>3</th>\n",
       "      <td>1446.939941</td>\n",
       "      <td>1482.949951</td>\n",
       "      <td>1446.420044</td>\n",
       "      <td>1464.699951</td>\n",
       "      <td>1464.699951</td>\n",
       "      <td>1859100</td>\n",
       "    </tr>\n",
       "    <tr>\n",
       "      <th>4</th>\n",
       "      <td>1480.060059</td>\n",
       "      <td>1506.589966</td>\n",
       "      <td>1472.859985</td>\n",
       "      <td>1495.699951</td>\n",
       "      <td>1495.699951</td>\n",
       "      <td>1564000</td>\n",
       "    </tr>\n",
       "  </tbody>\n",
       "</table>\n",
       "</div>"
      ],
      "text/plain": [
       "          Open         High          Low        Close    Adj Close   Volume\n",
       "0  1358.180054  1395.599976  1347.010010  1394.969971  1394.969971  1810200\n",
       "1  1390.439941  1418.650024  1383.959961  1413.609985  1413.609985  2042400\n",
       "2  1411.099976  1443.000000  1409.819946  1438.040039  1438.040039  1775200\n",
       "3  1446.939941  1482.949951  1446.420044  1464.699951  1464.699951  1859100\n",
       "4  1480.060059  1506.589966  1472.859985  1495.699951  1495.699951  1564000"
      ]
     },
     "execution_count": 355,
     "metadata": {},
     "output_type": "execute_result"
    }
   ],
   "source": [
    "groupby_col = time_col\n",
    "val_cols = list(data.columns)\n",
    "val_cols = [c for c in val_cols if c != groupby_col]\n",
    "grouped_data = data.groupby(groupby_col, as_index=False)[val_cols].sum()\n",
    "grouped_data.sort_values(by=groupby_col, inplace=True)\n",
    "del grouped_data[groupby_col]\n",
    "grouped_data.reset_index(drop=True, inplace=True)\n",
    "grouped_data.head()"
   ]
  },
  {
   "cell_type": "code",
   "execution_count": 356,
   "metadata": {},
   "outputs": [
    {
     "data": {
      "text/plain": [
       "(252, 6)"
      ]
     },
     "execution_count": 356,
     "metadata": {},
     "output_type": "execute_result"
    }
   ],
   "source": [
    "# save num_dim\n",
    "N, D = grouped_data.shape\n",
    "N, D"
   ]
  },
  {
   "cell_type": "markdown",
   "metadata": {},
   "source": [
    "## Train Test Split"
   ]
  },
  {
   "cell_type": "code",
   "execution_count": 357,
   "metadata": {},
   "outputs": [
    {
     "name": "stdout",
     "output_type": "stream",
     "text": [
      "252 201 51\n"
     ]
    }
   ],
   "source": [
    "train_perc = 0.8\n",
    "test_perc = 1 - train_perc\n",
    "\n",
    "N = grouped_data.shape[0]\n",
    "num_train = int(N * train_perc)\n",
    "num_test = N - num_train\n",
    "print(N, num_train, num_test)"
   ]
  },
  {
   "cell_type": "code",
   "execution_count": 358,
   "metadata": {},
   "outputs": [
    {
     "name": "stdout",
     "output_type": "stream",
     "text": [
      "train/test shapes: (201, 6) (51, 6)\n"
     ]
    }
   ],
   "source": [
    "train_data = grouped_data.head(num_train).copy()\n",
    "test_data = grouped_data.tail(num_test).copy()\n",
    "print('train/test shapes:', train_data.shape, test_data.shape)"
   ]
  },
  {
   "cell_type": "markdown",
   "metadata": {},
   "source": [
    "### Min Max Scale"
   ]
  },
  {
   "cell_type": "code",
   "execution_count": 359,
   "metadata": {},
   "outputs": [
    {
     "name": "stdout",
     "output_type": "stream",
     "text": [
      "train/test shapes: (201, 6) (51, 6)\n"
     ]
    }
   ],
   "source": [
    "scaler = MinMaxScaler()\n",
    "train_data_arr = scaler.fit_transform(train_data)\n",
    "test_data_arr = scaler.transform(test_data)\n",
    "\n",
    "train_data = pd.DataFrame(train_data_arr, columns = train_data.columns, index=train_data.index)\n",
    "test_data = pd.DataFrame(test_data_arr, columns = test_data.columns, index=test_data.index)\n",
    "\n",
    "print('train/test shapes:', train_data_arr.shape, test_data_arr.shape)"
   ]
  },
  {
   "cell_type": "code",
   "execution_count": 360,
   "metadata": {},
   "outputs": [
    {
     "name": "stdout",
     "output_type": "stream",
     "text": [
      "Open         0.0\n",
      "High         0.0\n",
      "Low          0.0\n",
      "Close        0.0\n",
      "Adj Close    0.0\n",
      "Volume       0.0\n",
      "dtype: float64 Open         1.0\n",
      "High         1.0\n",
      "Low          1.0\n",
      "Close        1.0\n",
      "Adj Close    1.0\n",
      "Volume       1.0\n",
      "dtype: float64\n"
     ]
    }
   ],
   "source": [
    "print(train_data.min(axis=0), train_data.max(axis=0))"
   ]
  },
  {
   "cell_type": "markdown",
   "metadata": {},
   "source": [
    "## Feature Correlation "
   ]
  },
  {
   "cell_type": "code",
   "execution_count": 361,
   "metadata": {},
   "outputs": [
    {
     "data": {
      "text/html": [
       "<div>\n",
       "<style scoped>\n",
       "    .dataframe tbody tr th:only-of-type {\n",
       "        vertical-align: middle;\n",
       "    }\n",
       "\n",
       "    .dataframe tbody tr th {\n",
       "        vertical-align: top;\n",
       "    }\n",
       "\n",
       "    .dataframe thead th {\n",
       "        text-align: right;\n",
       "    }\n",
       "</style>\n",
       "<table border=\"1\" class=\"dataframe\">\n",
       "  <thead>\n",
       "    <tr style=\"text-align: right;\">\n",
       "      <th></th>\n",
       "      <th>Open</th>\n",
       "      <th>High</th>\n",
       "      <th>Low</th>\n",
       "      <th>Close</th>\n",
       "      <th>Adj Close</th>\n",
       "      <th>Volume</th>\n",
       "    </tr>\n",
       "  </thead>\n",
       "  <tbody>\n",
       "    <tr>\n",
       "      <th>Open</th>\n",
       "      <td>1.000000</td>\n",
       "      <td>0.997705</td>\n",
       "      <td>0.997416</td>\n",
       "      <td>0.994862</td>\n",
       "      <td>0.994862</td>\n",
       "      <td>-0.170863</td>\n",
       "    </tr>\n",
       "    <tr>\n",
       "      <th>High</th>\n",
       "      <td>0.997705</td>\n",
       "      <td>1.000000</td>\n",
       "      <td>0.997395</td>\n",
       "      <td>0.997680</td>\n",
       "      <td>0.997680</td>\n",
       "      <td>-0.156811</td>\n",
       "    </tr>\n",
       "    <tr>\n",
       "      <th>Low</th>\n",
       "      <td>0.997416</td>\n",
       "      <td>0.997395</td>\n",
       "      <td>1.000000</td>\n",
       "      <td>0.998099</td>\n",
       "      <td>0.998099</td>\n",
       "      <td>-0.196737</td>\n",
       "    </tr>\n",
       "    <tr>\n",
       "      <th>Close</th>\n",
       "      <td>0.994862</td>\n",
       "      <td>0.997680</td>\n",
       "      <td>0.998099</td>\n",
       "      <td>1.000000</td>\n",
       "      <td>1.000000</td>\n",
       "      <td>-0.178579</td>\n",
       "    </tr>\n",
       "    <tr>\n",
       "      <th>Adj Close</th>\n",
       "      <td>0.994862</td>\n",
       "      <td>0.997680</td>\n",
       "      <td>0.998099</td>\n",
       "      <td>1.000000</td>\n",
       "      <td>1.000000</td>\n",
       "      <td>-0.178579</td>\n",
       "    </tr>\n",
       "    <tr>\n",
       "      <th>Volume</th>\n",
       "      <td>-0.170863</td>\n",
       "      <td>-0.156811</td>\n",
       "      <td>-0.196737</td>\n",
       "      <td>-0.178579</td>\n",
       "      <td>-0.178579</td>\n",
       "      <td>1.000000</td>\n",
       "    </tr>\n",
       "  </tbody>\n",
       "</table>\n",
       "</div>"
      ],
      "text/plain": [
       "               Open      High       Low     Close  Adj Close    Volume\n",
       "Open       1.000000  0.997705  0.997416  0.994862   0.994862 -0.170863\n",
       "High       0.997705  1.000000  0.997395  0.997680   0.997680 -0.156811\n",
       "Low        0.997416  0.997395  1.000000  0.998099   0.998099 -0.196737\n",
       "Close      0.994862  0.997680  0.998099  1.000000   1.000000 -0.178579\n",
       "Adj Close  0.994862  0.997680  0.998099  1.000000   1.000000 -0.178579\n",
       "Volume    -0.170863 -0.156811 -0.196737 -0.178579  -0.178579  1.000000"
      ]
     },
     "execution_count": 361,
     "metadata": {},
     "output_type": "execute_result"
    }
   ],
   "source": [
    "corr = train_data.corr()\n",
    "corr "
   ]
  },
  {
   "cell_type": "code",
   "execution_count": 362,
   "metadata": {},
   "outputs": [
    {
     "data": {
      "text/plain": [
       "0.6717904591079455"
      ]
     },
     "execution_count": 362,
     "metadata": {},
     "output_type": "execute_result"
    }
   ],
   "source": [
    "mean_corr = corr.mean().mean()\n",
    "mean_corr"
   ]
  },
  {
   "cell_type": "markdown",
   "metadata": {},
   "source": [
    "# Auto Correlation"
   ]
  },
  {
   "cell_type": "markdown",
   "metadata": {},
   "source": [
    "### PACF Plot"
   ]
  },
  {
   "cell_type": "code",
   "execution_count": 363,
   "metadata": {},
   "outputs": [
    {
     "name": "stdout",
     "output_type": "stream",
     "text": [
      "lags: 99.0\n"
     ]
    },
    {
     "data": {
      "image/png": "[encoded data removed]",
      "text/plain": [
       "<Figure size 864x1440 with 6 Axes>"
      ]
     },
     "metadata": {
      "needs_background": "light"
     },
     "output_type": "display_data"
    }
   ],
   "source": [
    "lags = min(data_dict[selected]['max_lags'], np.floor(train_data.shape[0] * 0.5) - 1)\n",
    "print('lags:', lags)\n",
    "\n",
    "max_plots_to_draw = 50\n",
    "num_plots = min(len(val_cols), max_plots_to_draw)\n",
    "\n",
    "figsize = (12, 2 + 3*num_plots)\n",
    "fig, axs = plt.subplots(len(val_cols[: num_plots]), 1, figsize=figsize)\n",
    "\n",
    "for i, col in enumerate(val_cols[:num_plots]):\n",
    "    sm.graphics.tsa.plot_pacf(train_data[col].values.squeeze(), lags=lags, ax = axs[i])\n",
    "    axs[i].set_title(col)\n",
    "    \n",
    "plt.subplots_adjust(top = 0.90, bottom=0.1, hspace=.4, wspace=0.4)"
   ]
  },
  {
   "cell_type": "code",
   "execution_count": null,
   "metadata": {},
   "outputs": [],
   "source": []
  },
  {
   "cell_type": "code",
   "execution_count": null,
   "metadata": {},
   "outputs": [],
   "source": []
  },
  {
   "cell_type": "code",
   "execution_count": null,
   "metadata": {},
   "outputs": [],
   "source": []
  },
  {
   "cell_type": "code",
   "execution_count": null,
   "metadata": {},
   "outputs": [],
   "source": []
  },
  {
   "cell_type": "code",
   "execution_count": null,
   "metadata": {},
   "outputs": [],
   "source": []
  },
  {
   "cell_type": "code",
   "execution_count": null,
   "metadata": {},
   "outputs": [],
   "source": []
  },
  {
   "cell_type": "code",
   "execution_count": null,
   "metadata": {},
   "outputs": [],
   "source": []
  },
  {
   "cell_type": "code",
   "execution_count": null,
   "metadata": {},
   "outputs": [],
   "source": []
  }
 ],
 "metadata": {
  "kernelspec": {
   "display_name": "Python 3",
   "language": "python",
   "name": "python3"
  },
  "language_info": {
   "codemirror_mode": {
    "name": "ipython",
    "version": 3
   },
   "file_extension": ".py",
   "mimetype": "text/x-python",
   "name": "python",
   "nbconvert_exporter": "python",
   "pygments_lexer": "ipython3",
   "version": "3.8.3"
  }
 },
 "nbformat": 4,
 "nbformat_minor": 4
}
