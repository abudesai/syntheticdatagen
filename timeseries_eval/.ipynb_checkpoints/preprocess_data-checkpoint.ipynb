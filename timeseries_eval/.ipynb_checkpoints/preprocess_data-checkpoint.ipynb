{
 "cells": [
  {
   "cell_type": "code",
   "execution_count": 1,
   "metadata": {},
   "outputs": [],
   "source": [
    "import numpy as np, pandas as pd\n",
    "import os, sys\n",
    "import matplotlib.pyplot as plt\n",
    "from sklearn.preprocessing import MinMaxScaler\n",
    "import joblib\n",
    "from datetime import datetime, date, time, timedelta\n",
    "import utils"
   ]
  },
  {
   "cell_type": "code",
   "execution_count": 2,
   "metadata": {},
   "outputs": [],
   "source": [
    "input_dir = \"../data/\"\n",
    "output_dir = \"../data/processed_orig_data/\"\n"
   ]
  },
  {
   "cell_type": "markdown",
   "metadata": {},
   "source": [
    "# Sine Data"
   ]
  },
  {
   "cell_type": "code",
   "execution_count": 27,
   "metadata": {},
   "outputs": [],
   "source": [
    "selected = 'sine'"
   ]
  },
  {
   "cell_type": "code",
   "execution_count": 85,
   "metadata": {},
   "outputs": [],
   "source": [
    "def gen_sine_data(no, seq_len, dim):   \n",
    "    \"\"\"Sine data generation.\n",
    "    Args:\n",
    "    - no: the number of samples\n",
    "    - seq_len: sequence length of the time-series\n",
    "    - dim: feature dimensions\n",
    "\n",
    "    Returns:\n",
    "    - data: generated data\n",
    "    \"\"\" \n",
    "    size = (no, 1, dim)\n",
    "    freq = np.random.uniform(0, 1, size)    \n",
    "    phase = np.random.uniform(-1, 1, size)\n",
    "    \n",
    "    seq = np.arange(seq_len)\n",
    "    seq = np.expand_dims(seq, axis=0)\n",
    "    seq = np.expand_dims(seq, axis=-1)\n",
    "    \n",
    "    data = np.sin(freq * seq + phase)    \n",
    "    data = (data + 1) * 0.5\n",
    "    return data"
   ]
  },
  {
   "cell_type": "code",
   "execution_count": 89,
   "metadata": {},
   "outputs": [],
   "source": [
    "def gen_sine_data (no, seq_len, dim):\n",
    "  \"\"\"Sine data generation.\n",
    "  \n",
    "  Args:\n",
    "    - no: the number of samples\n",
    "    - seq_len: sequence length of the time-series\n",
    "    - dim: feature dimensions\n",
    "    \n",
    "  Returns:\n",
    "    - data: generated data\n",
    "  \"\"\"  \n",
    "  # Initialize the output\n",
    "  data = list()\n",
    "\n",
    "  # Generate sine data\n",
    "  for i in range(no):      \n",
    "    # Initialize each time-series\n",
    "    temp = list()\n",
    "    # For each feature\n",
    "    for k in range(dim):\n",
    "      # Randomly drawn frequency and phase\n",
    "      freq = np.random.uniform(0, 0.1)            \n",
    "      phase = np.random.uniform(0, 0.1)\n",
    "          \n",
    "      # Generate sine signal based on the drawn frequency and phase\n",
    "      temp_data = [np.sin( 2 * np.pi * freq * j + phase) for j in range(seq_len)] \n",
    "      temp.append(temp_data)\n",
    "        \n",
    "    # Align row/column\n",
    "    temp = np.transpose(np.asarray(temp))        \n",
    "    # Normalize to [0,1]\n",
    "    temp = (temp + 1)*0.5\n",
    "    # Stack the generated data\n",
    "    data.append(temp)\n",
    "                \n",
    "  return data"
   ]
  },
  {
   "cell_type": "code",
   "execution_count": 90,
   "metadata": {},
   "outputs": [],
   "source": [
    "N, T, D = 10000, 24, 5 "
   ]
  },
  {
   "cell_type": "code",
   "execution_count": 91,
   "metadata": {},
   "outputs": [],
   "source": [
    "TEST_PERC = 0.00\n",
    "TRAIN_PERC = 1- TEST_PERC\n",
    "\n",
    "perc_of_train_data = [2, 5, 10, 20, 100]"
   ]
  },
  {
   "cell_type": "code",
   "execution_count": 92,
   "metadata": {},
   "outputs": [
    {
     "name": "stdout",
     "output_type": "stream",
     "text": [
      "(200, 24, 5)\n",
      "../data/processed_orig_data/sine_subsampled_train_perc_2.npz\n",
      "(500, 24, 5)\n",
      "../data/processed_orig_data/sine_subsampled_train_perc_5.npz\n",
      "(1000, 24, 5)\n",
      "../data/processed_orig_data/sine_subsampled_train_perc_10.npz\n",
      "(2000, 24, 5)\n",
      "../data/processed_orig_data/sine_subsampled_train_perc_20.npz\n",
      "(10000, 24, 5)\n",
      "../data/processed_orig_data/sine_subsampled_train_perc_100.npz\n"
     ]
    }
   ],
   "source": [
    "for p in perc_of_train_data:\n",
    "    N_small = int(N * p / 100)\n",
    "    sine_data = gen_sine_data(N_small, T, D)\n",
    "    sine_data = np.array(sine_data)\n",
    "    \n",
    "    np.random.shuffle(sine_data)    \n",
    "    print(sine_data.shape)\n",
    "    \n",
    "    fname = f'{selected}_subsampled_train_perc_{p}.npz'\n",
    "    full_path = os.path.join(output_dir, fname)\n",
    "    print(full_path)\n",
    "    \n",
    "#     np.save(full_path, sine_data)\n",
    "    np.savez_compressed(full_path, data=sine_data)"
   ]
  },
  {
   "cell_type": "markdown",
   "metadata": {},
   "source": [
    "# Preprocess Air Quality Data\n",
    "\n",
    "Need to convert the data to have a single time column. Original data has Date and Time in separate columns."
   ]
  },
  {
   "cell_type": "code",
   "execution_count": 36,
   "metadata": {},
   "outputs": [
    {
     "data": {
      "text/html": [
       "<div>\n",
       "<style scoped>\n",
       "    .dataframe tbody tr th:only-of-type {\n",
       "        vertical-align: middle;\n",
       "    }\n",
       "\n",
       "    .dataframe tbody tr th {\n",
       "        vertical-align: top;\n",
       "    }\n",
       "\n",
       "    .dataframe thead th {\n",
       "        text-align: right;\n",
       "    }\n",
       "</style>\n",
       "<table border=\"1\" class=\"dataframe\">\n",
       "  <thead>\n",
       "    <tr style=\"text-align: right;\">\n",
       "      <th></th>\n",
       "      <th>Date</th>\n",
       "      <th>Time</th>\n",
       "      <th>CO(GT)</th>\n",
       "      <th>PT08.S1(CO)</th>\n",
       "      <th>NMHC(GT)</th>\n",
       "      <th>C6H6(GT)</th>\n",
       "      <th>PT08.S2(NMHC)</th>\n",
       "      <th>NOx(GT)</th>\n",
       "      <th>PT08.S3(NOx)</th>\n",
       "      <th>NO2(GT)</th>\n",
       "      <th>PT08.S4(NO2)</th>\n",
       "      <th>PT08.S5(O3)</th>\n",
       "      <th>T</th>\n",
       "      <th>RH</th>\n",
       "      <th>AH</th>\n",
       "    </tr>\n",
       "  </thead>\n",
       "  <tbody>\n",
       "    <tr>\n",
       "      <th>0</th>\n",
       "      <td>3/10/2004</td>\n",
       "      <td>18:00:00</td>\n",
       "      <td>2.6</td>\n",
       "      <td>1360</td>\n",
       "      <td>150</td>\n",
       "      <td>11.9</td>\n",
       "      <td>1046</td>\n",
       "      <td>166</td>\n",
       "      <td>1056</td>\n",
       "      <td>113</td>\n",
       "      <td>1692</td>\n",
       "      <td>1268</td>\n",
       "      <td>13.6</td>\n",
       "      <td>48.9</td>\n",
       "      <td>0.7578</td>\n",
       "    </tr>\n",
       "    <tr>\n",
       "      <th>1</th>\n",
       "      <td>3/10/2004</td>\n",
       "      <td>19:00:00</td>\n",
       "      <td>2.0</td>\n",
       "      <td>1292</td>\n",
       "      <td>112</td>\n",
       "      <td>9.4</td>\n",
       "      <td>955</td>\n",
       "      <td>103</td>\n",
       "      <td>1174</td>\n",
       "      <td>92</td>\n",
       "      <td>1559</td>\n",
       "      <td>972</td>\n",
       "      <td>13.3</td>\n",
       "      <td>47.7</td>\n",
       "      <td>0.7255</td>\n",
       "    </tr>\n",
       "    <tr>\n",
       "      <th>2</th>\n",
       "      <td>3/10/2004</td>\n",
       "      <td>20:00:00</td>\n",
       "      <td>2.2</td>\n",
       "      <td>1402</td>\n",
       "      <td>88</td>\n",
       "      <td>9.0</td>\n",
       "      <td>939</td>\n",
       "      <td>131</td>\n",
       "      <td>1140</td>\n",
       "      <td>114</td>\n",
       "      <td>1555</td>\n",
       "      <td>1074</td>\n",
       "      <td>11.9</td>\n",
       "      <td>54.0</td>\n",
       "      <td>0.7502</td>\n",
       "    </tr>\n",
       "    <tr>\n",
       "      <th>3</th>\n",
       "      <td>3/10/2004</td>\n",
       "      <td>21:00:00</td>\n",
       "      <td>2.2</td>\n",
       "      <td>1376</td>\n",
       "      <td>80</td>\n",
       "      <td>9.2</td>\n",
       "      <td>948</td>\n",
       "      <td>172</td>\n",
       "      <td>1092</td>\n",
       "      <td>122</td>\n",
       "      <td>1584</td>\n",
       "      <td>1203</td>\n",
       "      <td>11.0</td>\n",
       "      <td>60.0</td>\n",
       "      <td>0.7867</td>\n",
       "    </tr>\n",
       "    <tr>\n",
       "      <th>4</th>\n",
       "      <td>3/10/2004</td>\n",
       "      <td>22:00:00</td>\n",
       "      <td>1.6</td>\n",
       "      <td>1272</td>\n",
       "      <td>51</td>\n",
       "      <td>6.5</td>\n",
       "      <td>836</td>\n",
       "      <td>131</td>\n",
       "      <td>1205</td>\n",
       "      <td>116</td>\n",
       "      <td>1490</td>\n",
       "      <td>1110</td>\n",
       "      <td>11.2</td>\n",
       "      <td>59.6</td>\n",
       "      <td>0.7888</td>\n",
       "    </tr>\n",
       "  </tbody>\n",
       "</table>\n",
       "</div>"
      ],
      "text/plain": [
       "        Date      Time  CO(GT)  PT08.S1(CO)  NMHC(GT)  C6H6(GT)  \\\n",
       "0  3/10/2004  18:00:00     2.6         1360       150      11.9   \n",
       "1  3/10/2004  19:00:00     2.0         1292       112       9.4   \n",
       "2  3/10/2004  20:00:00     2.2         1402        88       9.0   \n",
       "3  3/10/2004  21:00:00     2.2         1376        80       9.2   \n",
       "4  3/10/2004  22:00:00     1.6         1272        51       6.5   \n",
       "\n",
       "   PT08.S2(NMHC)  NOx(GT)  PT08.S3(NOx)  NO2(GT)  PT08.S4(NO2)  PT08.S5(O3)  \\\n",
       "0           1046      166          1056      113          1692         1268   \n",
       "1            955      103          1174       92          1559          972   \n",
       "2            939      131          1140      114          1555         1074   \n",
       "3            948      172          1092      122          1584         1203   \n",
       "4            836      131          1205      116          1490         1110   \n",
       "\n",
       "      T    RH      AH  \n",
       "0  13.6  48.9  0.7578  \n",
       "1  13.3  47.7  0.7255  \n",
       "2  11.9  54.0  0.7502  \n",
       "3  11.0  60.0  0.7867  \n",
       "4  11.2  59.6  0.7888  "
      ]
     },
     "execution_count": 36,
     "metadata": {},
     "output_type": "execute_result"
    }
   ],
   "source": [
    "air = pd.read_csv(f\"{input_dir}AirQualityUCI.csv\")\n",
    "air.head()"
   ]
  },
  {
   "cell_type": "code",
   "execution_count": 37,
   "metadata": {},
   "outputs": [],
   "source": [
    "def parse_time_from_string(time_string,  format = '%H:%M:%S'):\n",
    "    return datetime.strptime(time_string, format).time()\n",
    "\n",
    "def parse_date_from_string(date_string, format='%m/%d/%Y'):\n",
    "    return datetime.strptime(date_string, format)     # '%Y-%m-%d'"
   ]
  },
  {
   "cell_type": "code",
   "execution_count": 38,
   "metadata": {},
   "outputs": [],
   "source": [
    "air['Date'] = air['Date'].apply(parse_date_from_string)\n",
    "air['Time'] = air['Time'].apply(parse_time_from_string)\n",
    "\n",
    "air['DateTime'] = air.apply(lambda row: datetime.combine(row['Date'], row['Time']), axis=1 )\n",
    "\n",
    "air.drop(columns = ['Date', 'Time'], inplace=True)\n",
    "air.head()\n",
    "\n",
    "air.to_csv(f\"{input_dir}/AirQualityUCI_processed.csv\", index=False)"
   ]
  },
  {
   "cell_type": "markdown",
   "metadata": {},
   "source": [
    "# Energy and Stock Data"
   ]
  },
  {
   "cell_type": "code",
   "execution_count": 39,
   "metadata": {},
   "outputs": [],
   "source": [
    "data_dict = {\n",
    "    'energy': {\n",
    "        'file': 'Energy-energydata_complete.csv',\n",
    "        'time_col': 'date',\n",
    "    },\n",
    "    'stocks': {\n",
    "        'file': 'stock_data.csv',\n",
    "        'time_col': None, \n",
    "    },\n",
    "    'air': {\n",
    "        'file': 'AirQualityUCI_processed.csv',\n",
    "        'time_col': 'DateTime',\n",
    "    },\n",
    "}"
   ]
  },
  {
   "cell_type": "markdown",
   "metadata": {},
   "source": [
    "### Choose Data"
   ]
  },
  {
   "cell_type": "code",
   "execution_count": 64,
   "metadata": {},
   "outputs": [],
   "source": [
    "# selected = 'energy'\n",
    "# selected = 'stocks'\n",
    "selected = 'air'"
   ]
  },
  {
   "cell_type": "code",
   "execution_count": 65,
   "metadata": {},
   "outputs": [
    {
     "name": "stdout",
     "output_type": "stream",
     "text": [
      "   CO(GT)  PT08.S1(CO)  NMHC(GT)  C6H6(GT)  PT08.S2(NMHC)  NOx(GT)  \\\n",
      "0     2.6         1360       150      11.9           1046      166   \n",
      "1     2.0         1292       112       9.4            955      103   \n",
      "2     2.2         1402        88       9.0            939      131   \n",
      "3     2.2         1376        80       9.2            948      172   \n",
      "4     1.6         1272        51       6.5            836      131   \n",
      "\n",
      "   PT08.S3(NOx)  NO2(GT)  PT08.S4(NO2)  PT08.S5(O3)     T    RH      AH  \\\n",
      "0          1056      113          1692         1268  13.6  48.9  0.7578   \n",
      "1          1174       92          1559          972  13.3  47.7  0.7255   \n",
      "2          1140      114          1555         1074  11.9  54.0  0.7502   \n",
      "3          1092      122          1584         1203  11.0  60.0  0.7867   \n",
      "4          1205      116          1490         1110  11.2  59.6  0.7888   \n",
      "\n",
      "             DateTime  \n",
      "0 2004-03-10 18:00:00  \n",
      "1 2004-03-10 19:00:00  \n",
      "2 2004-03-10 20:00:00  \n",
      "3 2004-03-10 21:00:00  \n",
      "4 2004-03-10 22:00:00  \n"
     ]
    }
   ],
   "source": [
    "file_path = os.path.join(input_dir, data_dict[selected]['file'])\n",
    "\n",
    "if data_dict[selected]['time_col'] is not None: \n",
    "    data = pd.read_csv(file_path, parse_dates=[data_dict[selected]['time_col']])\n",
    "else:\n",
    "    data = pd.read_csv(file_path)\n",
    "print(data.head())"
   ]
  },
  {
   "cell_type": "code",
   "execution_count": 66,
   "metadata": {},
   "outputs": [
    {
     "name": "stdout",
     "output_type": "stream",
     "text": [
      "data shape:  (9357, 14)\n"
     ]
    }
   ],
   "source": [
    "print(\"data shape: \", data.shape)"
   ]
  },
  {
   "cell_type": "markdown",
   "metadata": {},
   "source": [
    "### Sort data by time"
   ]
  },
  {
   "cell_type": "code",
   "execution_count": 67,
   "metadata": {},
   "outputs": [
    {
     "name": "stdout",
     "output_type": "stream",
     "text": [
      "DateTime\n"
     ]
    }
   ],
   "source": [
    "time_col = data_dict[selected]['time_col']\n",
    "print(time_col)"
   ]
  },
  {
   "cell_type": "code",
   "execution_count": 68,
   "metadata": {},
   "outputs": [],
   "source": [
    "if time_col in data: \n",
    "    data.sort_values(by=time_col, inplace=True)\n",
    "    data.reset_index(drop=True, inplace=True)"
   ]
  },
  {
   "cell_type": "markdown",
   "metadata": {},
   "source": [
    "### Delete the time col"
   ]
  },
  {
   "cell_type": "code",
   "execution_count": 69,
   "metadata": {},
   "outputs": [
    {
     "name": "stdout",
     "output_type": "stream",
     "text": [
      "data shape:  (9357, 13)\n"
     ]
    }
   ],
   "source": [
    "if time_col in data: del data[time_col]\n",
    "print(\"data shape: \", data.shape)"
   ]
  },
  {
   "cell_type": "markdown",
   "metadata": {},
   "source": [
    "### Train Test Split"
   ]
  },
  {
   "cell_type": "code",
   "execution_count": 70,
   "metadata": {},
   "outputs": [
    {
     "name": "stdout",
     "output_type": "stream",
     "text": [
      "frac:2%, train_data_frac shape: (187, 13)\n",
      "frac:5%, train_data_frac shape: (467, 13)\n",
      "frac:10%, train_data_frac shape: (935, 13)\n",
      "frac:20%, train_data_frac shape: (1871, 13)\n",
      "frac:100%, train_data_frac shape: (9357, 13)\n"
     ]
    }
   ],
   "source": [
    "N = data.shape[0]\n",
    "\n",
    "frac_datasets = []\n",
    "for p in perc_of_train_data: \n",
    "    \n",
    "    num_test = int(N * TEST_PERC)   # to be held-out\n",
    "    orig_num_train = N - num_test\n",
    "    \n",
    "    test_data = data.tail(num_test)  # to be used for evaluation later\n",
    "    \n",
    "    orig_train_data = data.loc[np.arange(orig_num_train)]\n",
    "    #print(orig_train_data.shape)\n",
    "    \n",
    "    num_train_frac = int(orig_num_train * p / 100.)\n",
    "    #print(f'Num train steps for p = {p} is {num_train_frac}')\n",
    "    \n",
    "    train_data_frac = data.tail(num_train_frac) \n",
    "    frac_datasets.append(train_data_frac)\n",
    "    print(f'frac:{p}%, train_data_frac shape: {train_data_frac.shape}' )\n",
    "    \n",
    "    #np.save(os.path.join(data_dir, f'{selected}_train_perc_{p}.npy'), train_data_frac)"
   ]
  },
  {
   "cell_type": "markdown",
   "metadata": {},
   "source": [
    "### Convert to 3D tensors\n",
    "shape = N, T, D "
   ]
  },
  {
   "cell_type": "code",
   "execution_count": 71,
   "metadata": {},
   "outputs": [
    {
     "name": "stdout",
     "output_type": "stream",
     "text": [
      "reshaped:  (1, 187, 13)\n",
      "reshaped:  (1, 467, 13)\n",
      "reshaped:  (1, 935, 13)\n",
      "reshaped:  (1, 1871, 13)\n",
      "reshaped:  (1, 9357, 13)\n"
     ]
    }
   ],
   "source": [
    "for i, d in enumerate(frac_datasets):\n",
    "    frac_datasets[i] = d.values.reshape(1, *d.shape)\n",
    "    print(\"reshaped: \", frac_datasets[i].shape)"
   ]
  },
  {
   "cell_type": "markdown",
   "metadata": {},
   "source": [
    "### Create Subsampled series of required seq_len"
   ]
  },
  {
   "cell_type": "code",
   "execution_count": 72,
   "metadata": {},
   "outputs": [
    {
     "name": "stdout",
     "output_type": "stream",
     "text": [
      "p: 2 3d tensor shape: (163, 24, 13)\n",
      "p: 5 3d tensor shape: (443, 24, 13)\n",
      "p: 10 3d tensor shape: (911, 24, 13)\n",
      "p: 20 3d tensor shape: (1847, 24, 13)\n",
      "p: 100 3d tensor shape: (9333, 24, 13)\n"
     ]
    }
   ],
   "source": [
    "target_len = 24\n",
    "for p, d in zip(perc_of_train_data, frac_datasets):\n",
    "    subsampled_dataset = []\n",
    "    for idx in range(d.shape[1] - T):\n",
    "        ser = d[:, idx: idx+T, :]\n",
    "        subsampled_dataset.append(ser)\n",
    "    subsampled_dataset = np.concatenate(subsampled_dataset, axis=0)\n",
    "    print('p:', p, '3d tensor shape:', subsampled_dataset.shape)\n",
    "    \n",
    "    np.savez_compressed(os.path.join(f'{output_dir}/{selected}_subsampled_train_perc_{p}.npz'), data=subsampled_dataset)"
   ]
  },
  {
   "cell_type": "markdown",
   "metadata": {},
   "source": [
    "# Loading data"
   ]
  },
  {
   "cell_type": "code",
   "execution_count": 75,
   "metadata": {},
   "outputs": [
    {
     "name": "stdout",
     "output_type": "stream",
     "text": [
      "(19711, 24, 28)\n"
     ]
    },
    {
     "data": {
      "text/plain": [
       "array([ 60.        ,  30.        ,  19.89      ,  47.59666667,\n",
       "        19.2       ,  44.79      ,  19.79      ,  44.73      ,\n",
       "        19.        ,  45.56666667,  17.16666667,  55.2       ,\n",
       "         7.02666667,  84.25666667,  17.2       ,  41.62666667,\n",
       "        18.2       ,  48.9       ,  17.03333333,  45.53      ,\n",
       "         6.6       , 733.5       ,  92.        ,   7.        ,\n",
       "        63.        ,   5.3       ,  13.27543316,  13.27543316])"
      ]
     },
     "execution_count": 75,
     "metadata": {},
     "output_type": "execute_result"
    }
   ],
   "source": [
    "selected = 'energy'\n",
    "loaded = np.load(f'{output_dir}{selected}_subsampled_train_perc_100.npz')\n",
    "data = loaded['data']\n",
    "print(data.shape)\n",
    "data[0, 0]"
   ]
  },
  {
   "cell_type": "code",
   "execution_count": 76,
   "metadata": {},
   "outputs": [
    {
     "name": "stdout",
     "output_type": "stream",
     "text": [
      "(10000, 24, 5)\n"
     ]
    }
   ],
   "source": [
    "selected = 'sine'\n",
    "loaded = np.load(f'{output_dir}{selected}_subsampled_train_perc_100.npz')\n",
    "data = loaded['data']\n",
    "print(data.shape)"
   ]
  },
  {
   "cell_type": "code",
   "execution_count": 4,
   "metadata": {},
   "outputs": [
    {
     "name": "stdout",
     "output_type": "stream",
     "text": [
      "(200, 24, 5)\n",
      "generated mean :  [0.7497358  0.75144791 0.74197515 0.74751779 0.74195122]\n"
     ]
    },
    {
     "ename": "NameError",
     "evalue": "name 'TITLE_FONT_SIZE' is not defined",
     "output_type": "error",
     "traceback": [
      "\u001b[0;31m---------------------------------------------------------------------------\u001b[0m",
      "\u001b[0;31mNameError\u001b[0m                                 Traceback (most recent call last)",
      "\u001b[0;32m<ipython-input-4-2261710df609>\u001b[0m in \u001b[0;36m<module>\u001b[0;34m\u001b[0m\n\u001b[1;32m      8\u001b[0m \u001b[0mprint\u001b[0m\u001b[0;34m(\u001b[0m\u001b[0;34m\"generated mean : \"\u001b[0m\u001b[0;34m,\u001b[0m \u001b[0mgen_data\u001b[0m\u001b[0;34m.\u001b[0m\u001b[0mmean\u001b[0m\u001b[0;34m(\u001b[0m\u001b[0maxis\u001b[0m\u001b[0;34m=\u001b[0m\u001b[0;36m0\u001b[0m\u001b[0;34m)\u001b[0m\u001b[0;34m.\u001b[0m\u001b[0mmean\u001b[0m\u001b[0;34m(\u001b[0m\u001b[0maxis\u001b[0m\u001b[0;34m=\u001b[0m\u001b[0;36m0\u001b[0m\u001b[0;34m)\u001b[0m\u001b[0;34m)\u001b[0m\u001b[0;34m\u001b[0m\u001b[0;34m\u001b[0m\u001b[0m\n\u001b[1;32m      9\u001b[0m \u001b[0;34m\u001b[0m\u001b[0m\n\u001b[0;32m---> 10\u001b[0;31m \u001b[0mutils\u001b[0m\u001b[0;34m.\u001b[0m\u001b[0mplot_samples\u001b[0m\u001b[0;34m(\u001b[0m\u001b[0mgen_data\u001b[0m\u001b[0;34m,\u001b[0m \u001b[0mn\u001b[0m\u001b[0;34m=\u001b[0m\u001b[0;36m5\u001b[0m\u001b[0;34m)\u001b[0m\u001b[0;34m\u001b[0m\u001b[0;34m\u001b[0m\u001b[0m\n\u001b[0m",
      "\u001b[0;32m~/Documents/GitRepos/syntheticdatagen/timeseries_eval/utils.py\u001b[0m in \u001b[0;36mplot_samples\u001b[0;34m(samples, n)\u001b[0m\n\u001b[1;32m     11\u001b[0m         \u001b[0mi\u001b[0m \u001b[0;34m+=\u001b[0m \u001b[0;36m1\u001b[0m\u001b[0;34m\u001b[0m\u001b[0;34m\u001b[0m\u001b[0m\n\u001b[1;32m     12\u001b[0m \u001b[0;34m\u001b[0m\u001b[0m\n\u001b[0;32m---> 13\u001b[0;31m     \u001b[0mfig\u001b[0m\u001b[0;34m.\u001b[0m\u001b[0msuptitle\u001b[0m\u001b[0;34m(\u001b[0m\u001b[0;34m\"Generated Samples (Scaled)\"\u001b[0m\u001b[0;34m,\u001b[0m \u001b[0mfontsize\u001b[0m \u001b[0;34m=\u001b[0m \u001b[0mTITLE_FONT_SIZE\u001b[0m\u001b[0;34m)\u001b[0m\u001b[0;34m\u001b[0m\u001b[0;34m\u001b[0m\u001b[0m\n\u001b[0m\u001b[1;32m     14\u001b[0m     \u001b[0;31m# fig.tight_layout()\u001b[0m\u001b[0;34m\u001b[0m\u001b[0;34m\u001b[0m\u001b[0;34m\u001b[0m\u001b[0m\n\u001b[1;32m     15\u001b[0m     \u001b[0mplt\u001b[0m\u001b[0;34m.\u001b[0m\u001b[0mshow\u001b[0m\u001b[0;34m(\u001b[0m\u001b[0;34m)\u001b[0m\u001b[0;34m\u001b[0m\u001b[0;34m\u001b[0m\u001b[0m\n",
      "\u001b[0;31mNameError\u001b[0m: name 'TITLE_FONT_SIZE' is not defined"
     ]
    },
    {
     "data": {
      "image/png": "[encoded data removed]",
      "text/plain": [
       "<Figure size 432x576 with 5 Axes>"
      ]
     },
     "metadata": {
      "needs_background": "light"
     },
     "output_type": "display_data"
    }
   ],
   "source": [
    "selected = 'sine'\n",
    "perc = 2\n",
    "\n",
    "loaded = np.load(f'{output_dir}{selected}_subsampled_train_perc_{perc}.npz')\n",
    "gen_data = loaded['data']\n",
    "print(gen_data.shape)\n",
    "\n",
    "print(\"generated mean : \", gen_data.mean(axis=0).mean(axis=0)) \n",
    "\n",
    "utils.plot_samples(gen_data, n=5)"
   ]
  },
  {
   "cell_type": "code",
   "execution_count": null,
   "metadata": {},
   "outputs": [],
   "source": []
  }
 ],
 "metadata": {
  "kernelspec": {
   "display_name": "Python 3",
   "language": "python",
   "name": "python3"
  },
  "language_info": {
   "codemirror_mode": {
    "name": "ipython",
    "version": 3
   },
   "file_extension": ".py",
   "mimetype": "text/x-python",
   "name": "python",
   "nbconvert_exporter": "python",
   "pygments_lexer": "ipython3",
   "version": "3.7.6"
  }
 },
 "nbformat": 4,
 "nbformat_minor": 4
}
