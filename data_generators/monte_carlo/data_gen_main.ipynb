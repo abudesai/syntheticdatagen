{
 "cells": [
  {
   "cell_type": "code",
   "execution_count": 3,
   "metadata": {},
   "outputs": [],
   "source": [
    "import pandas as pd, numpy as np\n",
    "from f0_run_all import generarate_data_main\n",
    "from convert_excel_to_json import convert_excel_to_json\n",
    "import variables as vars"
   ]
  },
  {
   "cell_type": "code",
   "execution_count": null,
   "metadata": {},
   "outputs": [],
   "source": [
    "convert_excel_to_json()"
   ]
  },
  {
   "cell_type": "code",
   "execution_count": 2,
   "metadata": {},
   "outputs": [
    {
     "name": "stdout",
     "output_type": "stream",
     "text": [
      "converting excel to json\n",
      "Starting data generation...\n",
      "Generating org and act trees...\n",
      "Generating relative volume magnitudes at org and act nodes...\n",
      "Generating history time scale...\n",
      "Generating open hours...\n",
      "Assigning activity trees to each org node...\n",
      "----------------------------------------------------------------------------------------------------\n",
      "Clearing previous output files...\n",
      "Writing org and act trees...\n",
      "Writing history time scale...\n",
      "Writing open hours...\n",
      "Writing special day ids...\n",
      "num_cpus_to_use: 6\n",
      "----------------------------------------------------------------------------------------------------\n",
      "Accumulating split files into single files...\n",
      "No output files to accumulate for history_intra_daily prefix.\n",
      "No output files to accumulate for irreg_effects prefix.\n",
      "Done generating data. Run time: 1.86 minutes\n",
      "Creating processed csv and parquet files ...\n",
      "Reading the csv file ...\n",
      "unique orgs:  50\n",
      "Mapping field names to preferred format ...\n",
      "Pivoting activity column ...\n",
      "Sorting, renaming fields, rounding values ...\n",
      "  seriesid      epoch      v_0      v_1     v_10     v_11     v_12     v_13  \\\n",
      "0    ser_0 2013-01-01  159.155  253.137   43.308  271.676  301.350  337.166   \n",
      "1    ser_0 2013-01-02  120.274  210.192   55.629  258.355  233.072  229.837   \n",
      "2    ser_0 2013-01-03  218.219  287.521   90.090  292.672  268.777  493.886   \n",
      "3    ser_0 2013-01-04  174.682  314.036   90.464  257.960  297.044  304.067   \n",
      "4    ser_0 2013-01-07  183.888  191.291   48.047  275.548  310.720  264.709   \n",
      "5    ser_0 2013-01-08  210.966  307.619  104.240  298.581  314.570  319.198   \n",
      "6    ser_0 2013-01-09  195.174  218.027   79.353  239.607  240.572  257.671   \n",
      "7    ser_0 2013-01-10  219.016  279.916   86.116  238.657  319.956  403.405   \n",
      "8    ser_0 2013-01-11  148.905  286.524   78.531  277.986  268.988  232.742   \n",
      "9    ser_0 2013-01-14  179.830  247.302   60.640  231.413  334.592  300.585   \n",
      "\n",
      "      v_14     v_15  ...     v_25     v_26     v_27      v_3      v_4  \\\n",
      "0  177.236  479.038  ...  116.794  178.960  147.002  218.984  277.856   \n",
      "1  128.195  338.733  ...   87.665  139.641  137.397  227.040  217.985   \n",
      "2  118.672  339.812  ...  176.049  218.239  156.834  281.982  306.250   \n",
      "3  180.727  375.280  ...  151.863  273.893  160.290  248.752  292.224   \n",
      "4  149.954  501.615  ...  136.744  184.454  189.958  266.647  337.048   \n",
      "5  154.103  414.769  ...  257.295  321.697  155.577  308.121  317.727   \n",
      "6  100.374  334.647  ...  166.293  212.903  136.620  252.731  226.878   \n",
      "7  119.247  343.841  ...  205.325  242.349  130.250  195.958  283.667   \n",
      "8  183.357  403.984  ...  186.900  207.792  161.754  247.373  308.393   \n",
      "9  135.653  371.510  ...  201.411  289.379  155.189  216.920  301.757   \n",
      "\n",
      "       v_5      v_6      v_7      v_8      v_9  \n",
      "0   53.141  213.396  202.035  396.321  120.958  \n",
      "1   82.024  181.717  247.809  245.502  110.713  \n",
      "2   85.383  246.846  188.804  247.768  132.933  \n",
      "3   89.046  224.190  157.506  281.547  164.081  \n",
      "4   78.316  251.583  194.823  152.200   85.051  \n",
      "5   74.002  253.554  217.813  282.787  152.063  \n",
      "6  107.726  199.098  174.938  219.744   77.914  \n",
      "7   73.730  276.958  186.026  271.353  132.313  \n",
      "8   99.950  231.299  167.918  242.251  143.612  \n",
      "9   95.732  258.321  228.120  167.558   80.614  \n",
      "\n",
      "[10 rows x 30 columns]\n",
      "Writing final file ...\n",
      "Done!\n",
      "Done generating data and writing history files. Total run time: 1.92 minutes\n"
     ]
    }
   ],
   "source": [
    "dataset_name = generarate_data_main()"
   ]
  },
  {
   "cell_type": "code",
   "execution_count": 4,
   "metadata": {},
   "outputs": [
    {
     "data": {
      "text/plain": [
       "'s3://verint-sagemaker-data-gen-project/abu_synthetic/DS_7_Test_dataset'"
      ]
     },
     "execution_count": 4,
     "metadata": {},
     "output_type": "execute_result"
    }
   ],
   "source": [
    "to_dir_path_and_name = f'{vars.full_dir_path}/{dataset_name}'\n",
    "to_dir_path_and_name"
   ]
  },
  {
   "cell_type": "code",
   "execution_count": 9,
   "metadata": {},
   "outputs": [
    {
     "data": {
      "text/plain": [
       "'./outputs/'"
      ]
     },
     "execution_count": 9,
     "metadata": {},
     "output_type": "execute_result"
    }
   ],
   "source": [
    "from_path = vars.output_dir\n",
    "from_path"
   ]
  },
  {
   "cell_type": "code",
   "execution_count": 6,
   "metadata": {},
   "outputs": [],
   "source": [
    "# Upload data from your local working directory to S3\n",
    "#!aws s3 cp $from_path $to_dir_path_and_name --recursive"
   ]
  },
  {
   "cell_type": "code",
   "execution_count": null,
   "metadata": {},
   "outputs": [],
   "source": []
  }
 ],
 "metadata": {
  "interpreter": {
   "hash": "fde94c2eb6544a3925319e6ee433df0c18e7704c81f5c3c5f4ea72fbcfffb630"
  },
  "kernelspec": {
   "display_name": "Python 3",
   "language": "python",
   "name": "python3"
  },
  "language_info": {
   "codemirror_mode": {
    "name": "ipython",
    "version": 3
   },
   "file_extension": ".py",
   "mimetype": "text/x-python",
   "name": "python",
   "nbconvert_exporter": "python",
   "pygments_lexer": "ipython3",
   "version": "3.8.3"
  }
 },
 "nbformat": 4,
 "nbformat_minor": 4
}
