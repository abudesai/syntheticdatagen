{
 "cells": [
  {
   "cell_type": "code",
   "execution_count": 3,
   "metadata": {},
   "outputs": [],
   "source": [
    "import os, warnings\n",
    "os.environ['TF_CPP_MIN_LOG_LEVEL'] = '3'  # or any {'0', '1', '2'}\n",
    "warnings.filterwarnings('ignore') "
   ]
  },
  {
   "cell_type": "code",
   "execution_count": 4,
   "metadata": {},
   "outputs": [],
   "source": [
    "from random import shuffle\n",
    "import sys, os\n",
    "from datetime import datetime, timedelta\n",
    "import numpy as np , pandas as pd\n",
    "import time\n",
    "import joblib\n",
    "import random\n",
    "import multiprocessing\n",
    "\n",
    "\n",
    "from sklearn.model_selection import KFold\n",
    "from skopt import gp_minimize\n",
    "from skopt.space import Real, Categorical, Integer\n",
    "from skopt.plots import plot_convergence\n",
    "from skopt.plots import plot_objective, plot_evaluations\n",
    "from skopt.utils import use_named_args\n",
    "from skopt import Optimizer # for the optimization\n",
    "from joblib import Parallel, delayed # for the parallelization\n",
    "\n",
    "\n",
    "import tensorflow as tf\n",
    "from tensorflow.keras.optimizers import Adam\n",
    "from tensorflow.keras.callbacks import EarlyStopping, ReduceLROnPlateau\n",
    "from vae_dense_model import VariationalAutoencoderDense as VAE_Dense\n",
    "from vae_conv_model import VariationalAutoencoderConv as VAE_Conv\n",
    "from vae_conv_I_model import VariationalAutoencoderConvInterpretable as VAE_ConvI\n",
    "from config import config as cfg\n",
    "import utils"
   ]
  },
  {
   "cell_type": "markdown",
   "metadata": {},
   "source": [
    "# Define paths"
   ]
  },
  {
   "cell_type": "code",
   "execution_count": 5,
   "metadata": {},
   "outputs": [],
   "source": [
    "input_dir = \"../../data/processed_orig_data/\"\n",
    "output_dir = \"../../data/generated_data/\"\n",
    "model_dir = './model/'\n",
    "log_dir = './log/'\n",
    "hpo_dir = './hpo_results/'"
   ]
  },
  {
   "cell_type": "markdown",
   "metadata": {},
   "source": [
    "# Utility Functions"
   ]
  },
  {
   "cell_type": "code",
   "execution_count": 8,
   "metadata": {},
   "outputs": [],
   "source": [
    "# Set seed for reproducibility\n",
    "def set_seeds(seed_value):   \n",
    "    os.environ['PYTHONHASHSEED']=str(seed_value)\n",
    "    random.seed(seed_value)\n",
    "    np.random.seed(seed_value)\n",
    "    tf.random.set_seed(seed_value)"
   ]
  },
  {
   "cell_type": "code",
   "execution_count": 9,
   "metadata": {},
   "outputs": [],
   "source": [
    "def get_train_valid_split(data, valid_perc):\n",
    "    N = data.shape[0]\n",
    "    N_train = int(N * (1 - valid_perc))\n",
    "    N_valid = N - N_train\n",
    "\n",
    "    # shuffle data, just in case\n",
    "    np.random.shuffle(data)\n",
    "\n",
    "    # train, valid split \n",
    "    train_data = data[:N_train]\n",
    "    valid_data = data[N_train:]\n",
    "    return train_data, valid_data"
   ]
  },
  {
   "cell_type": "code",
   "execution_count": 10,
   "metadata": {},
   "outputs": [],
   "source": [
    "def scale_train_valid_data(train_data, valid_data, scaling_method):         \n",
    "    if scaling_method == 'minmax':    \n",
    "        scaler = utils.MinMaxScaler( )  \n",
    "    elif scaling_method == 'standard': \n",
    "        raise NotImplementedError(f'Scaling method {scaling_method} not implemented')\n",
    "    elif scaling_method == 'yeojohnson':\n",
    "        raise NotImplementedError(f'Scaling method {scaling_method} not implemented')\n",
    "    else:         \n",
    "        raise NotImplementedError(f'Scaling method {scaling_method} not implemented')       \n",
    "          \n",
    "    scaled_train_data = scaler.fit_transform(train_data)\n",
    "    scaled_valid_data = scaler.transform(valid_data)\n",
    "    return scaled_train_data, scaled_valid_data, scaler"
   ]
  },
  {
   "cell_type": "markdown",
   "metadata": {},
   "source": [
    "## Main VAE Train and Evaluate Function"
   ]
  },
  {
   "cell_type": "code",
   "execution_count": 11,
   "metadata": {},
   "outputs": [],
   "source": [
    "def train_model(train_data, latent_dim, n_layer1_in_20s, n_layer2_in_25s, n_layer3_in_50s, epochs = 100):\n",
    "    \n",
    "    _, T, D = train_data.shape\n",
    "\n",
    "    # ----------------------------------------------------------------------------------------------\n",
    "    # Instantiate the VAE\n",
    "    vae = VAE_ConvI( seq_len=T,  \n",
    "                    feat_dim = D, \n",
    "                    latent_dim = int(latent_dim), \n",
    "                    hidden_layer_sizes=[ \n",
    "                        int(n_layer1_in_20s*20), \n",
    "                        int(n_layer2_in_25s*25),\n",
    "                        int(n_layer3_in_50s*50)], \n",
    "                # trend_poly=1, \n",
    "                # num_gen_seas=1,\n",
    "                # custom_seas = [ (7, 1)] ,     # list of tuples of (num_of_seasons, len_per_season)\n",
    "                use_residual_conn = True\n",
    "        )\n",
    "\n",
    "    vae.compile(optimizer=Adam())\n",
    "    # vae.summary() ; sys.exit()\n",
    "\n",
    "    # ----------------------------------------------------------------------------------------------\n",
    "    # Train the VAE\n",
    "    early_stop_loss = 'loss'\n",
    "    early_stop_callback = EarlyStopping(monitor=early_stop_loss, min_delta = 1e-1, patience=50) \n",
    "    reduceLR = ReduceLROnPlateau(monitor='loss', factor=0.1, patience=10)\n",
    "\n",
    "    history = vae.fit(\n",
    "        train_data, \n",
    "        batch_size = 32,\n",
    "        epochs=epochs,\n",
    "        shuffle = True,\n",
    "        callbacks=[early_stop_callback, reduceLR],\n",
    "        verbose = 0\n",
    "    )\n",
    "    \n",
    "    # ----------------------------------------------------------------------------------------------\n",
    "    return vae, history"
   ]
  },
  {
   "cell_type": "code",
   "execution_count": 12,
   "metadata": {},
   "outputs": [],
   "source": [
    "def evaluate_model(model, valid_data): \n",
    "    return model.evaluate(valid_data, verbose = 0, return_dict=True)"
   ]
  },
  {
   "cell_type": "markdown",
   "metadata": {},
   "source": [
    "# HPO Using Scikit Optimize"
   ]
  },
  {
   "cell_type": "markdown",
   "metadata": {},
   "source": [
    "## Hyperparameter Space"
   ]
  },
  {
   "cell_type": "code",
   "execution_count": 23,
   "metadata": {},
   "outputs": [
    {
     "data": {
      "text/plain": [
       "[8, 2, 4, 4, 'minmax']"
      ]
     },
     "execution_count": 23,
     "metadata": {},
     "output_type": "execute_result"
    }
   ],
   "source": [
    "# determine the hyperparameter space\n",
    "param_grid = [\n",
    "    Integer(2, 10, name=\"latent_dim\"),\n",
    "    Integer(1, 5, name=\"n_layer1_in_20s\"),\n",
    "    Integer(1, 8, name=\"n_layer2_in_25s\"),\n",
    "    Integer(1, 8, name=\"n_layer3_in_50s\"),\n",
    "    Categorical(['minmax'], name=\"scaling_method\"),\n",
    "]\n",
    "\n",
    "dim_names = [\n",
    "    'latent_dim',\n",
    "    'n_layer1_in_20s',\n",
    "    'n_layer2_in_25s',\n",
    "    'n_layer3_in_50s',\n",
    "    'scaling_method',\n",
    "]\n",
    "\n",
    "default_parameters = [\n",
    "    8,              # latent_dim\n",
    "    2,             # n_layer1_in_20s \n",
    "    4,            # n_layer2_in_25s\n",
    "    4,            # n_layer3_in_50s\n",
    "    'minmax'        # scaling_method\n",
    "]\n",
    "\n",
    "default_parameters"
   ]
  },
  {
   "cell_type": "markdown",
   "metadata": {},
   "source": [
    "## Objective for HPO"
   ]
  },
  {
   "cell_type": "code",
   "execution_count": 14,
   "metadata": {},
   "outputs": [],
   "source": [
    "@use_named_args(param_grid)\n",
    "def objective(\n",
    "            latent_dim,\n",
    "            n_layer1_in_20s,\n",
    "            n_layer2_in_25s,\n",
    "            n_layer3_in_50s,\n",
    "            scaling_method,\n",
    "        ):\n",
    "\n",
    "    global trial_num\n",
    "    global best_loss\n",
    "    \n",
    "    start = time.time()\n",
    "\n",
    "    # Print the hyper-parameters.   \n",
    "    print('-------------------------------------------')\n",
    "    print(f'trial_num: {trial_num}')\n",
    "    \n",
    "    print(f'latent_dim: {latent_dim}')\n",
    "    print(f'n_layer1_in_20s: {n_layer1_in_20s}')\n",
    "    print(f'n_layer2_in_25s: {n_layer2_in_25s}')\n",
    "    print(f'n_layer3_in_50s: {n_layer3_in_50s}')\n",
    "    print(f'scaling_method: {scaling_method}')   \n",
    "    print()   \n",
    "\n",
    "    trial_num += 1    \n",
    "    \n",
    "\n",
    "    losses = []\n",
    "    for train_index, valid_index in kf.split(data):  \n",
    "        \n",
    "        # grab train/test data using kf indexes\n",
    "        train_data, valid_data = data[train_index], data[valid_index]\n",
    "        \n",
    "        # scale data \n",
    "        scaled_train_data, scaled_valid_data, scaler = scale_train_valid_data(train_data, valid_data, scaling_method)\n",
    "        \n",
    "        # train model \n",
    "        model, history = train_model(scaled_train_data, \n",
    "                latent_dim, n_layer1_in_20s, n_layer2_in_25s, n_layer3_in_50s,\n",
    "                epochs = 100)\n",
    "\n",
    "        # evaluate on valid data\n",
    "        score = evaluate_model(model, scaled_valid_data)\n",
    "        \n",
    "        # Get the loss after the last training-epoch.        \n",
    "        losses.append(score['loss'])\n",
    "        \n",
    "        \n",
    "        del model, history\n",
    "    \n",
    "    loss = np.mean(losses)\n",
    "    if loss < best_loss:\n",
    "        best_loss = loss\n",
    "\n",
    "    # Print the loss.\n",
    "    print(f\"trial vae loss: {loss}\")\n",
    "    print(f\"best vae loss: {best_loss}\")\n",
    "    \n",
    "    end = time.time()\n",
    "    print(f\"Trial run time: {np.round((end - start)/60.0, 2)} minutes\") \n",
    "    print('-------------------------------------------')   \n",
    "    return loss"
   ]
  },
  {
   "cell_type": "markdown",
   "metadata": {},
   "source": [
    "# Main Time VAE HPO Loop, by dataset"
   ]
  },
  {
   "cell_type": "code",
   "execution_count": 26,
   "metadata": {},
   "outputs": [
    {
     "name": "stdout",
     "output_type": "stream",
     "text": [
      "-------------------------------------------\n",
      "trial_num: 1\n",
      "latent_dim: 8\n",
      "n_layer1_in_20s: 2\n",
      "n_layer2_in_25s: 4\n",
      "n_layer3_in_50s: 4\n",
      "scaling_method: minmax\n",
      "\n",
      "trial vae loss: 568.5732421875\n",
      "best vae loss: 568.5732421875\n",
      "Trial run time: 0.58 minutes\n",
      "-------------------------------------------\n",
      "-------------------------------------------\n",
      "trial_num: 2\n",
      "latent_dim: 7\n",
      "n_layer1_in_20s: 4\n",
      "n_layer2_in_25s: 7\n",
      "n_layer3_in_50s: 7\n",
      "scaling_method: minmax\n",
      "\n",
      "trial vae loss: 552.1331420898438\n",
      "best vae loss: 552.1331420898438\n",
      "Trial run time: 0.49 minutes\n",
      "-------------------------------------------\n",
      "-------------------------------------------\n",
      "trial_num: 3\n",
      "latent_dim: 5\n",
      "n_layer1_in_20s: 2\n",
      "n_layer2_in_25s: 1\n",
      "n_layer3_in_50s: 3\n",
      "scaling_method: minmax\n",
      "\n",
      "trial vae loss: 561.39052734375\n",
      "best vae loss: 552.1331420898438\n",
      "Trial run time: 0.69 minutes\n",
      "-------------------------------------------\n",
      "-------------------------------------------\n",
      "trial_num: 4\n",
      "latent_dim: 8\n",
      "n_layer1_in_20s: 3\n",
      "n_layer2_in_25s: 4\n",
      "n_layer3_in_50s: 7\n",
      "scaling_method: minmax\n",
      "\n",
      "trial vae loss: 553.4792541503906\n",
      "best vae loss: 552.1331420898438\n",
      "Trial run time: 0.5 minutes\n",
      "-------------------------------------------\n",
      "-------------------------------------------\n",
      "trial_num: 5\n",
      "latent_dim: 7\n",
      "n_layer1_in_20s: 2\n",
      "n_layer2_in_25s: 8\n",
      "n_layer3_in_50s: 2\n",
      "scaling_method: minmax\n",
      "\n",
      "trial vae loss: 546.1202514648437\n",
      "best vae loss: 546.1202514648437\n",
      "Trial run time: 0.77 minutes\n",
      "-------------------------------------------\n",
      "-------------------------------------------\n",
      "trial_num: 6\n",
      "latent_dim: 6\n",
      "n_layer1_in_20s: 4\n",
      "n_layer2_in_25s: 5\n",
      "n_layer3_in_50s: 6\n",
      "scaling_method: minmax\n",
      "\n",
      "trial vae loss: 506.56532592773436\n",
      "best vae loss: 506.56532592773436\n",
      "Trial run time: 4.11 minutes\n",
      "-------------------------------------------\n",
      "All done in 7.39 minutes!\n"
     ]
    }
   ],
   "source": [
    "# how many folds in cross validation\n",
    "num_folds = 5\n",
    "\n",
    "# num of trials for Bayesian search: initial and total (including initial)\n",
    "n_initial_points = 5\n",
    "n_calls = 60\n",
    "\n",
    "\n",
    "# our model name\n",
    "model = 'vae_conv_I'\n",
    "\n",
    "# dataset_names = ['sine', 'stocks', 'air', 'energy']\n",
    "percs = [2, 5, 10, 20, 100]\n",
    "\n",
    "\n",
    "# to custom run specific data\n",
    "dataset_names = ['sine']\n",
    "percs = [ 100 ]\n",
    "\n",
    "\n",
    "# set random gen seed for reproducibiity\n",
    "set_seeds(42)\n",
    "\n",
    "main_start_time = time.time()    \n",
    "\n",
    "for data_name in dataset_names:    \n",
    "    for p in percs:  \n",
    "        \n",
    "        # --------------------------------------------------------------------\n",
    "        ### file name to load\n",
    "        fname = f'{input_dir + data_name}_subsampled_train_perc_{p}.npz'\n",
    "        \n",
    "        ### read data        \n",
    "        loaded = np.load(fname)\n",
    "        data = loaded['data']  \n",
    "        # print(fname, data.shape) \n",
    "        \n",
    "        # --------------------------------------------------------------------\n",
    "        \n",
    "        # k-folds \n",
    "        kf = KFold(n_splits=num_folds)\n",
    "        \n",
    "        # --------------------------------------------------------------------\n",
    "        best_loss = 1e10\n",
    "        trial_num = 1\n",
    "        \n",
    "        # bayesian search\n",
    "        gp_ = gp_minimize(\n",
    "            objective, # the objective function to minimize\n",
    "            param_grid, # the hyperparameter space\n",
    "            x0=default_parameters, # the initial parameters to test\n",
    "            acq_func='EI', # the acquisition function\n",
    "            n_initial_points=n_initial_points,\n",
    "            n_calls=n_calls, # the number of subsequent evaluations of f(x)\n",
    "            random_state=0, \n",
    "            n_jobs=7\n",
    "        )\n",
    "        \n",
    "        # pickle the gp_min object        \n",
    "        gp_min_fname = f'{hpo_dir}hpo_gp_obj_{model}_{data_name}_perc_{p}.pkl'   # \n",
    "        joblib.dump(gp_, gp_min_fname)\n",
    "        \n",
    "        # also save the results in a csv\n",
    "        hpo_results_fname = f'{hpo_dir}hpo_results_{model}_{data_name}_perc_{p}.csv'   # \n",
    "        df = pd.concat([\n",
    "            pd.DataFrame(gp_.x_iters),\n",
    "            pd.Series(gp_.func_vals),\n",
    "        ], axis=1)\n",
    "\n",
    "        df.columns = dim_names + ['loss']\n",
    "\n",
    "        df.sort_values(by='loss', ascending=True, inplace=True)\n",
    "        df.to_csv(hpo_results_fname, index=False)\n",
    "        \n",
    "        del gp_\n",
    "\n",
    "end = time.time()\n",
    "elapsed_time = np.round((end - main_start_time)/60.0, 2)\n",
    "print(f\"All done in {elapsed_time} minutes!\")  "
   ]
  },
  {
   "cell_type": "markdown",
   "metadata": {},
   "source": [
    "# Inspect Results"
   ]
  },
  {
   "cell_type": "code",
   "execution_count": 27,
   "metadata": {},
   "outputs": [],
   "source": [
    "# function value at the minimum.\n",
    "# note that it is the negative of the accuracy\n",
    "\n",
    "dataset_name = 'sine'\n",
    "perc = 2\n",
    "\n",
    "f_name = f'{hpo_dir}hpo_results_{model}_{data_name}_perc_{p}.pkl'\n"
   ]
  },
  {
   "cell_type": "code",
   "execution_count": 28,
   "metadata": {},
   "outputs": [
    {
     "data": {
      "text/plain": [
       "'Best score=506.5653'"
      ]
     },
     "execution_count": 28,
     "metadata": {},
     "output_type": "execute_result"
    }
   ],
   "source": [
    "gp_ = joblib.load(f_name)\n",
    "\"Best score=%.4f\" % gp_.fun"
   ]
  },
  {
   "cell_type": "markdown",
   "metadata": {},
   "source": [
    "# Evaluate convergence of the search"
   ]
  },
  {
   "cell_type": "code",
   "execution_count": 29,
   "metadata": {},
   "outputs": [
    {
     "data": {
      "text/plain": [
       "<matplotlib.axes._subplots.AxesSubplot at 0x7fd4580425d0>"
      ]
     },
     "execution_count": 29,
     "metadata": {},
     "output_type": "execute_result"
    },
    {
     "data": {
      "image/png": "[encoded data removed]",
      "text/plain": [
       "<Figure size 432x288 with 1 Axes>"
      ]
     },
     "metadata": {
      "needs_background": "light"
     },
     "output_type": "display_data"
    }
   ],
   "source": [
    "plot_convergence(gp_)"
   ]
  },
  {
   "cell_type": "markdown",
   "metadata": {},
   "source": [
    "# Results in a Dataframe"
   ]
  },
  {
   "cell_type": "code",
   "execution_count": 30,
   "metadata": {},
   "outputs": [
    {
     "data": {
      "text/html": [
       "<div>\n",
       "<style scoped>\n",
       "    .dataframe tbody tr th:only-of-type {\n",
       "        vertical-align: middle;\n",
       "    }\n",
       "\n",
       "    .dataframe tbody tr th {\n",
       "        vertical-align: top;\n",
       "    }\n",
       "\n",
       "    .dataframe thead th {\n",
       "        text-align: right;\n",
       "    }\n",
       "</style>\n",
       "<table border=\"1\" class=\"dataframe\">\n",
       "  <thead>\n",
       "    <tr style=\"text-align: right;\">\n",
       "      <th></th>\n",
       "      <th>latent_dim</th>\n",
       "      <th>n_layer1_in_20s</th>\n",
       "      <th>n_layer2_in_25s</th>\n",
       "      <th>n_layer3_in_50s</th>\n",
       "      <th>scaling_method</th>\n",
       "      <th>loss</th>\n",
       "    </tr>\n",
       "  </thead>\n",
       "  <tbody>\n",
       "    <tr>\n",
       "      <th>5</th>\n",
       "      <td>6</td>\n",
       "      <td>4</td>\n",
       "      <td>5</td>\n",
       "      <td>6</td>\n",
       "      <td>minmax</td>\n",
       "      <td>506.565326</td>\n",
       "    </tr>\n",
       "    <tr>\n",
       "      <th>4</th>\n",
       "      <td>7</td>\n",
       "      <td>2</td>\n",
       "      <td>8</td>\n",
       "      <td>2</td>\n",
       "      <td>minmax</td>\n",
       "      <td>546.120251</td>\n",
       "    </tr>\n",
       "    <tr>\n",
       "      <th>1</th>\n",
       "      <td>7</td>\n",
       "      <td>4</td>\n",
       "      <td>7</td>\n",
       "      <td>7</td>\n",
       "      <td>minmax</td>\n",
       "      <td>552.133142</td>\n",
       "    </tr>\n",
       "    <tr>\n",
       "      <th>3</th>\n",
       "      <td>8</td>\n",
       "      <td>3</td>\n",
       "      <td>4</td>\n",
       "      <td>7</td>\n",
       "      <td>minmax</td>\n",
       "      <td>553.479254</td>\n",
       "    </tr>\n",
       "    <tr>\n",
       "      <th>2</th>\n",
       "      <td>5</td>\n",
       "      <td>2</td>\n",
       "      <td>1</td>\n",
       "      <td>3</td>\n",
       "      <td>minmax</td>\n",
       "      <td>561.390527</td>\n",
       "    </tr>\n",
       "  </tbody>\n",
       "</table>\n",
       "</div>"
      ],
      "text/plain": [
       "   latent_dim  n_layer1_in_20s  n_layer2_in_25s  n_layer3_in_50s  \\\n",
       "5           6                4                5                6   \n",
       "4           7                2                8                2   \n",
       "1           7                4                7                7   \n",
       "3           8                3                4                7   \n",
       "2           5                2                1                3   \n",
       "\n",
       "  scaling_method        loss  \n",
       "5         minmax  506.565326  \n",
       "4         minmax  546.120251  \n",
       "1         minmax  552.133142  \n",
       "3         minmax  553.479254  \n",
       "2         minmax  561.390527  "
      ]
     },
     "execution_count": 30,
     "metadata": {},
     "output_type": "execute_result"
    }
   ],
   "source": [
    "# all together in one dataframe, so we can investigate further\n",
    "\n",
    "tmp = pd.concat([\n",
    "    pd.DataFrame(gp_.x_iters),\n",
    "    pd.Series(gp_.func_vals),\n",
    "], axis=1)\n",
    "\n",
    "tmp.columns = dim_names + ['loss']\n",
    "\n",
    "tmp.sort_values(by='loss', ascending=True, inplace=True)\n",
    "\n",
    "tmp.head()"
   ]
  },
  {
   "cell_type": "code",
   "execution_count": null,
   "metadata": {},
   "outputs": [],
   "source": []
  }
 ],
 "metadata": {
  "kernelspec": {
   "display_name": "Python 3",
   "language": "python",
   "name": "python3"
  },
  "language_info": {
   "codemirror_mode": {
    "name": "ipython",
    "version": 3
   },
   "file_extension": ".py",
   "mimetype": "text/x-python",
   "name": "python",
   "nbconvert_exporter": "python",
   "pygments_lexer": "ipython3",
   "version": "3.7.6"
  }
 },
 "nbformat": 4,
 "nbformat_minor": 4
}
