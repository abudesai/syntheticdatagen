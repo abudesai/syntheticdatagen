{
 "cells": [
  {
   "cell_type": "code",
   "execution_count": 1,
   "metadata": {},
   "outputs": [],
   "source": [
    "import time, numpy as np"
   ]
  },
  {
   "cell_type": "code",
   "execution_count": 2,
   "metadata": {},
   "outputs": [
    {
     "name": "stdout",
     "output_type": "stream",
     "text": [
      "Total run time: 0.09 minutes\n"
     ]
    },
    {
     "name": "stderr",
     "output_type": "stream",
     "text": [
      "2021-08-13 11:58:40.118399: I tensorflow/stream_executor/platform/default/dso_loader.cc:49] Successfully opened dynamic library cudart64_110.dll\n",
      "Traceback (most recent call last):\n",
      "  File \"c_rnn_gan.py\", line 62, in <module>\n",
      "    flags = tf.flags\n",
      "AttributeError: module 'tensorflow' has no attribute 'flags'\n"
     ]
    }
   ],
   "source": [
    "start = time.time()\n",
    "\n",
    "# \"./data/sine_data_arr.npy\" \n",
    "# \"./data/energy_data_arr.npy\" \n",
    "\n",
    "input_file_path =  \"./data/energy_data_arr.npy\"  # numpy array of shape (N, T, D); MUST BE normalized \n",
    "output_dir_path = \"gen_data_energy\"   # dir where outputs will be saved. dir will be created if not exists.\n",
    "\n",
    "given_seq_len = 24       # length of sequences\n",
    "min_train_seq_len = 16  # dont change this if seq_len is 24\n",
    "seq_len_incr = 2        # dont change this if seq_len is 24\n",
    "\n",
    "!python c_rnn_gan.py \\\n",
    "    --input_file_path $input_file_path --traindir $output_dir_path \\\n",
    "    --songlength $given_seq_len --min_train_seq_len $min_train_seq_len --seq_len_incr $seq_len_incr \\\n",
    "    --valid_perc 10 --test_perc 10 \\\n",
    "    --feed_previous --feature_matching --bidirectional_d --learning_rate 0.1 --pretraining_epochs 6\n",
    "\n",
    "\n",
    "end = time.time()\n",
    "print(f\"Total run time: {np.round((end - start)/60.0, 2)} minutes\") "
   ]
  },
  {
   "cell_type": "code",
   "execution_count": null,
   "metadata": {},
   "outputs": [],
   "source": []
  }
 ],
 "metadata": {
  "instance_type": "ml.g4dn.xlarge",
  "kernelspec": {
   "display_name": "Python 3",
   "language": "python",
   "name": "python3"
  },
  "language_info": {
   "codemirror_mode": {
    "name": "ipython",
    "version": 3
   },
   "file_extension": ".py",
   "mimetype": "text/x-python",
   "name": "python",
   "nbconvert_exporter": "python",
   "pygments_lexer": "ipython3",
   "version": "3.8.3"
  }
 },
 "nbformat": 4,
 "nbformat_minor": 4
}
