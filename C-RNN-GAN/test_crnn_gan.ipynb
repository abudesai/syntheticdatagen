{
 "cells": [
  {
   "cell_type": "code",
   "execution_count": null,
   "metadata": {},
   "outputs": [],
   "source": [
    "import time, numpy as np"
   ]
  },
  {
   "cell_type": "code",
   "execution_count": null,
   "metadata": {},
   "outputs": [],
   "source": [
    "start = time.time()\n",
    "\n",
    "# \"./data/sine_data_arr.npy\" \n",
    "# \"./data/energy_data_arr.npy\" \n",
    "\n",
    "input_file_path =  \"./data/energy_data_arr.npy\"  # numpy array of shape (N, T, D); MUST BE normalized \n",
    "output_dir_path = \"gen_data_energy\"   # dir where outputs will be saved. dir will be created if not exists.\n",
    "\n",
    "given_seq_len = 24       # length of sequences\n",
    "min_train_seq_len = 16  # dont change this if seq_len is 24\n",
    "seq_len_incr = 2        # dont change this if seq_len is 24\n",
    "\n",
    "!python c_rnn_gan.py \\\n",
    "    --input_file_path $input_file_path --traindir $output_dir_path \\\n",
    "    --songlength $given_seq_len --min_train_seq_len $min_train_seq_len --seq_len_incr $seq_len_incr \\\n",
    "    --valid_perc 10 --test_perc 10 \\\n",
    "    --feed_previous --feature_matching --bidirectional_d --learning_rate 0.1 --pretraining_epochs 6\n",
    "\n",
    "\n",
    "end = time.time()\n",
    "print(f\"Total run time: {np.round((end - start)/60.0, 2)} minutes\") "
   ]
  },
  {
   "cell_type": "code",
   "execution_count": null,
   "metadata": {},
   "outputs": [],
   "source": []
  }
 ],
 "metadata": {
  "instance_type": "ml.g4dn.xlarge",
  "kernelspec": {
   "display_name": "Python 3 (TensorFlow 1.15 Python 3.7 GPU Optimized)",
   "language": "python",
   "name": "python3__SAGEMAKER_INTERNAL__arn:aws:sagemaker:us-west-2:236514542706:image/tensorflow-1.15-gpu-py37-cu110-ubuntu18.04-v8"
  },
  "language_info": {
   "codemirror_mode": {
    "name": "ipython",
    "version": 3
   },
   "file_extension": ".py",
   "mimetype": "text/x-python",
   "name": "python",
   "nbconvert_exporter": "python",
   "pygments_lexer": "ipython3",
   "version": "3.7.10"
  }
 },
 "nbformat": 4,
 "nbformat_minor": 4
}
