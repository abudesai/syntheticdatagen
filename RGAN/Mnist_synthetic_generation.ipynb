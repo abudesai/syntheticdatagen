{
 "cells": [
  {
   "cell_type": "code",
   "execution_count": null,
   "id": "87245158",
   "metadata": {},
   "outputs": [],
   "source": [
    "import numpy as np\n",
    "import tensorflow as tf\n",
    "import pdb, os\n",
    "import random\n",
    "import json\n",
    "from scipy.stats import mode\n",
    "\n",
    "import data_utils\n",
    "import plotting\n",
    "import model\n",
    "import utils\n",
    "import eval\n",
    "\n",
    "from time import time\n",
    "from math import floor\n",
    "from mmd import rbf_mmd2, median_pairwise_distance, mix_rbf_mmd2_and_ratio\n",
    "\n",
    "print(\"All imports worked\")"
   ]
  },
  {
   "cell_type": "code",
   "execution_count": null,
   "id": "6ddd4a33",
   "metadata": {},
   "outputs": [],
   "source": [
    "os.environ[\"CUDA_DEVICE_ORDER\"]=\"PCI_BUS_ID\"\n",
    "os.environ['CUDA_VISIBLE_DEVICES'] = \"1\"\n",
    "config = tf.compat.v1.ConfigProto() # Another Version: config = tf.ConfigProto()\n",
    "config.gpu_options.allow_growth = True\n",
    "\n",
    "tf.logging.set_verbosity(tf.logging.ERROR)"
   ]
  },
  {
   "cell_type": "code",
   "execution_count": null,
   "id": "1e77ee80",
   "metadata": {
    "scrolled": true
   },
   "outputs": [],
   "source": [
    "# do not use this in jupyter notebook, just use the settings directly. \n",
    "'''\n",
    "# parse command line arguments, or use defaults\n",
    "parser = utils.rgan_options_parser()\n",
    "settings = vars(parser.parse_args())\n",
    "# if a settings file is specified, it overrides command line arguments/defaults\n",
    "if settings['settings_file']: \n",
    "    settings = utils.load_settings_from_file(settings)\n",
    "    print(\"still running here.\")\n",
    "print('Ready to run with settings:')\n",
    "\n",
    "'''"
   ]
  },
  {
   "cell_type": "code",
   "execution_count": null,
   "id": "2c296d08",
   "metadata": {},
   "outputs": [],
   "source": [
    "epoch = 450\n",
    "num_samples = 10\n",
    "idx=\"Test\"\n",
    "labs = np.array([0,1,2,3,4,5,6,7,8,9])\n",
    "settings = \"mnistfull\"\n",
    "set_file = json.load(open('./experiments/settings/' + settings + '.txt', 'r'))\n",
    "seq_length= set_file[\"seq_length\"]"
   ]
  },
  {
   "cell_type": "code",
   "execution_count": null,
   "id": "1107d628",
   "metadata": {
    "scrolled": true
   },
   "outputs": [],
   "source": [
    "csamples = np.zeros((10,10))\n",
    "\n",
    "csamples[0][0] = 1\n",
    "csamples[1][1] = 1\n",
    "csamples[2][2] = 1\n",
    "csamples[3][3] = 1\n",
    "csamples[4][4] = 1\n",
    "csamples[5][5] = 1\n",
    "csamples[6][6] = 1\n",
    "csamples[7][7] = 1\n",
    "csamples[8][8] = 1\n",
    "csamples[9][9] = 1\n",
    "\n",
    "print(csamples)"
   ]
  },
  {
   "cell_type": "code",
   "execution_count": null,
   "id": "5a892850",
   "metadata": {
    "scrolled": false
   },
   "outputs": [],
   "source": [
    "synth_data = model.sample_trained_model(settings, epoch, num_samples, C_samples=csamples)\n",
    "#synth_data = model.sample_trained_model(settings, epoch, num_samples)\n",
    "synth_data.shape"
   ]
  },
  {
   "cell_type": "code",
   "execution_count": null,
   "id": "d7baea35",
   "metadata": {
    "scrolled": true
   },
   "outputs": [],
   "source": [
    "res1 = synth_data.reshape(-1, seq_length**2, 1)"
   ]
  },
  {
   "cell_type": "code",
   "execution_count": null,
   "id": "fe6e6e94",
   "metadata": {},
   "outputs": [],
   "source": [
    "np.squeeze(res1[3])"
   ]
  },
  {
   "cell_type": "code",
   "execution_count": null,
   "id": "dd8b1bf5",
   "metadata": {},
   "outputs": [],
   "source": [
    "plotting.save_mnist_plot_sample(synth_data.reshape(-1, seq_length**2, 1), idx, \"epoch450\", num_samples, labels=labs)"
   ]
  },
  {
   "cell_type": "code",
   "execution_count": null,
   "id": "7a166e8c",
   "metadata": {},
   "outputs": [],
   "source": []
  }
 ],
 "metadata": {
  "kernelspec": {
   "display_name": "Python 3",
   "language": "python",
   "name": "python3"
  },
  "language_info": {
   "codemirror_mode": {
    "name": "ipython",
    "version": 3
   },
   "file_extension": ".py",
   "mimetype": "text/x-python",
   "name": "python",
   "nbconvert_exporter": "python",
   "pygments_lexer": "ipython3",
   "version": "3.6.13"
  }
 },
 "nbformat": 4,
 "nbformat_minor": 5
}
