{
 "cells": [
  {
   "cell_type": "code",
   "execution_count": 1,
   "id": "87245158",
   "metadata": {},
   "outputs": [
    {
     "name": "stdout",
     "output_type": "stream",
     "text": [
      "WARNING:tensorflow:From /data/home/stufs1/zuwang/dg21/RGAN/model.py:9: The name tf.logging.set_verbosity is deprecated. Please use tf.compat.v1.logging.set_verbosity instead.\n",
      "\n",
      "WARNING:tensorflow:From /data/home/stufs1/zuwang/dg21/RGAN/model.py:9: The name tf.logging.ERROR is deprecated. Please use tf.compat.v1.logging.ERROR instead.\n",
      "\n",
      "All imports worked\n"
     ]
    },
    {
     "name": "stderr",
     "output_type": "stream",
     "text": [
      "Using TensorFlow backend.\n"
     ]
    }
   ],
   "source": [
    "import numpy as np\n",
    "import tensorflow as tf\n",
    "import pdb, os\n",
    "import random\n",
    "import json\n",
    "from scipy.stats import mode\n",
    "\n",
    "import data_utils\n",
    "import plotting\n",
    "import model\n",
    "import utils\n",
    "import eval\n",
    "\n",
    "from time import time\n",
    "from math import floor\n",
    "from mmd import rbf_mmd2, median_pairwise_distance, mix_rbf_mmd2_and_ratio\n",
    "\n",
    "print(\"All imports worked\")"
   ]
  },
  {
   "cell_type": "code",
   "execution_count": 2,
   "id": "6ddd4a33",
   "metadata": {},
   "outputs": [],
   "source": [
    "os.environ[\"CUDA_DEVICE_ORDER\"]=\"PCI_BUS_ID\"\n",
    "os.environ['CUDA_VISIBLE_DEVICES'] = \"3\"\n",
    "config = tf.compat.v1.ConfigProto() # Another Version: config = tf.ConfigProto()\n",
    "config.gpu_options.allow_growth = True\n",
    "\n",
    "tf.logging.set_verbosity(tf.logging.ERROR)"
   ]
  },
  {
   "cell_type": "code",
   "execution_count": 3,
   "id": "2c296d08",
   "metadata": {},
   "outputs": [],
   "source": [
    "epoch = 300\n",
    "num_samples = 391476 # same as Abu's data\n",
    "settings = \"sines\" # same as timeGAN\n",
    "set_file = json.load(open('./experiments/settings/' + settings + '.txt', 'r'))"
   ]
  },
  {
   "cell_type": "code",
   "execution_count": 4,
   "id": "5a892850",
   "metadata": {
    "scrolled": false
   },
   "outputs": [
    {
     "name": "stdout",
     "output_type": "stream",
     "text": [
      "Sampling 391476 samples from sines at epoch 300\n"
     ]
    },
    {
     "data": {
      "text/plain": [
       "(391476, 24, 5)"
      ]
     },
     "execution_count": 4,
     "metadata": {},
     "output_type": "execute_result"
    }
   ],
   "source": [
    "synth_data = model.sample_trained_model(settings, epoch, num_samples)\n",
    "synth_data.shape"
   ]
  },
  {
   "cell_type": "code",
   "execution_count": 5,
   "id": "73a5fa0f",
   "metadata": {},
   "outputs": [
    {
     "name": "stdout",
     "output_type": "stream",
     "text": [
      "save the generated data.\n"
     ]
    }
   ],
   "source": [
    "tgt_path = \"./experiments/syn_data/\"\n",
    "tgt_file = \"rgan_sines_synth_data\"\n",
    "np.save(os.path.join(tgt_path, tgt_file + \".npy\"), synth_data)\n",
    "print(\"save the generated data.\")"
   ]
  },
  {
   "cell_type": "code",
   "execution_count": 6,
   "id": "7a166e8c",
   "metadata": {
    "scrolled": true
   },
   "outputs": [
    {
     "data": {
      "text/plain": [
       "array([[0.5241398 , 0.5220436 , 0.54447687, 0.5178857 , 0.5434411 ],\n",
       "       [0.5769414 , 0.5457641 , 0.5874536 , 0.5366945 , 0.60094726],\n",
       "       [0.58121073, 0.55467093, 0.59416306, 0.588235  , 0.5976163 ],\n",
       "       [0.5696575 , 0.55651927, 0.6272259 , 0.6179179 , 0.61669755],\n",
       "       [0.5850297 , 0.5771266 , 0.6735133 , 0.63246846, 0.6490449 ],\n",
       "       [0.61850727, 0.60715127, 0.6903539 , 0.651222  , 0.6737425 ],\n",
       "       [0.6440495 , 0.6367109 , 0.71641505, 0.6551123 , 0.707525  ],\n",
       "       [0.69856113, 0.6888929 , 0.72540116, 0.6568781 , 0.73402786],\n",
       "       [0.7089559 , 0.71492314, 0.73465425, 0.6626936 , 0.7648986 ],\n",
       "       [0.7573327 , 0.7757619 , 0.72543645, 0.6665958 , 0.7829394 ],\n",
       "       [0.78514016, 0.82050693, 0.69804084, 0.6917511 , 0.7835326 ],\n",
       "       [0.787287  , 0.8513626 , 0.650197  , 0.74649644, 0.7801524 ],\n",
       "       [0.7925537 , 0.8869942 , 0.5953628 , 0.8205685 , 0.75720847],\n",
       "       [0.7433908 , 0.88772583, 0.63477206, 0.9367534 , 0.7311901 ],\n",
       "       [0.6017834 , 0.82152534, 0.91988707, 0.99579227, 0.6972151 ],\n",
       "       [0.40245155, 0.4043071 , 0.99264014, 0.99956685, 0.7738696 ],\n",
       "       [0.6050248 , 0.51770985, 0.99934846, 0.9996636 , 0.7923893 ],\n",
       "       [0.6709231 , 0.5555197 , 0.9997392 , 0.99917907, 0.88070184],\n",
       "       [0.8717049 , 0.7031305 , 0.99968714, 0.9876355 , 0.9522183 ],\n",
       "       [0.9548007 , 0.80137455, 0.99668187, 0.77841574, 0.9747211 ],\n",
       "       [0.9684348 , 0.9094214 , 0.9646979 , 0.6768775 , 0.97349024],\n",
       "       [0.9618108 , 0.89659923, 0.8826859 , 0.8236393 , 0.9660969 ],\n",
       "       [0.9370007 , 0.86738676, 0.92657423, 0.91811824, 0.93893534],\n",
       "       [0.9095218 , 0.8271866 , 0.9864411 , 0.9735606 , 0.898896  ]],\n",
       "      dtype=float32)"
      ]
     },
     "execution_count": 6,
     "metadata": {},
     "output_type": "execute_result"
    }
   ],
   "source": [
    "synth_data[-1]"
   ]
  },
  {
   "cell_type": "code",
   "execution_count": 7,
   "id": "e8197e3e",
   "metadata": {},
   "outputs": [
    {
     "data": {
      "text/plain": [
       "((6000, 24, 5), (2000, 24, 5), (2000, 24, 5))"
      ]
     },
     "execution_count": 7,
     "metadata": {},
     "output_type": "execute_result"
    }
   ],
   "source": [
    "src_path = \"/data/home/stufs1/zuwang/dg21/RGAN/experiments/data/\"\n",
    "dfile4 = \"sines.data.npy\"\n",
    "syn_data4 = np.load(os.path.join(src_path, dfile4), allow_pickle=True)\n",
    "samples4 = syn_data4.item().get(\"samples\")\n",
    "samples4.get(\"train\").shape, samples4.get(\"vali\").shape, samples4.get(\"test\").shape"
   ]
  },
  {
   "cell_type": "code",
   "execution_count": null,
   "id": "09948081",
   "metadata": {},
   "outputs": [],
   "source": []
  }
 ],
 "metadata": {
  "kernelspec": {
   "display_name": "Python 3",
   "language": "python",
   "name": "python3"
  },
  "language_info": {
   "codemirror_mode": {
    "name": "ipython",
    "version": 3
   },
   "file_extension": ".py",
   "mimetype": "text/x-python",
   "name": "python",
   "nbconvert_exporter": "python",
   "pygments_lexer": "ipython3",
   "version": "3.6.13"
  }
 },
 "nbformat": 4,
 "nbformat_minor": 5
}
