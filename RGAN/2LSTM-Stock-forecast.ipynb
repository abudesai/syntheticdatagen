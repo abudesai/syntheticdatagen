{
 "cells": [
  {
   "cell_type": "code",
   "execution_count": null,
   "id": "aa702f36",
   "metadata": {},
   "outputs": [],
   "source": [
    "## Necessary packages\n",
    "## Not use here!\n",
    "from __future__ import absolute_import\n",
    "from __future__ import division\n",
    "from __future__ import print_function\n",
    "\n",
    "import numpy as np\n",
    "import warnings\n",
    "warnings.filterwarnings(\"ignore\")\n",
    "\n",
    "# 1. TimeGAN model\n",
    "from timegan import timegan\n",
    "# 2. Data loading\n",
    "from data_loading import real_data_loading, sine_data_generation\n",
    "# 3. Metrics\n",
    "from metrics.discriminative_metrics import discriminative_score_metrics\n",
    "from metrics.predictive_metrics import predictive_score_metrics\n",
    "from metrics.visualization_metrics import visualization\n",
    "\n",
    "from data_loading import MinMaxScaler\n",
    "import tensorflow as tf\n",
    "import os"
   ]
  },
  {
   "cell_type": "code",
   "execution_count": null,
   "id": "7eaefa99",
   "metadata": {},
   "outputs": [],
   "source": [
    "os.environ[\"CUDA_DEVICE_ORDER\"]=\"PCI_BUS_ID\"\n",
    "os.environ['CUDA_VISIBLE_DEVICES'] = \"0\"\n",
    "config = tf.compat.v1.ConfigProto() # Another Version: config = tf.ConfigProto()\n",
    "config.gpu_options.allow_growth = True"
   ]
  },
  {
   "cell_type": "code",
   "execution_count": null,
   "id": "6a4b09f7",
   "metadata": {
    "scrolled": true
   },
   "outputs": [],
   "source": [
    "## Data real loading - energy\n",
    "data_name = 'stock'\n",
    "seq_len = 24\n",
    "\n",
    "if data_name in ['stock', 'energy']:\n",
    "  ori_data = real_data_loading(data_name, seq_len)\n",
    "elif data_name == 'sine':\n",
    "  # Set number of samples and its dimensions\n",
    "  no, dim = 10000, 5\n",
    "  ori_data = sine_data_generation(no, seq_len, dim)\n",
    "\n",
    "\n",
    "print(data_name + ' dataset is ready.')"
   ]
  },
  {
   "cell_type": "code",
   "execution_count": null,
   "id": "60177771",
   "metadata": {},
   "outputs": [],
   "source": [
    "# load the generated data -- RGAN's data\n",
    "tgt_path = \"/data/home/stufs1/zuwang/dg21/RGAN/experiments/syn_data/\"\n",
    "filename = \"rgan_stock_synth_data_epoch1000.npy\"\n",
    "\n",
    "syn_data = np.load(os.path.join(tgt_path, filename))\n",
    "syn_data = list(syn_data)"
   ]
  },
  {
   "cell_type": "code",
   "execution_count": null,
   "id": "96215db4",
   "metadata": {
    "scrolled": true
   },
   "outputs": [],
   "source": [
    "np.array(ori_data).shape, np.array(syn_data).shape"
   ]
  },
  {
   "cell_type": "code",
   "execution_count": null,
   "id": "90d3be94",
   "metadata": {},
   "outputs": [],
   "source": [
    "# normalization-again for training.\n",
    "norm_constant = np.max(syn_data)\n",
    "ori_data = ori_data / norm_constant\n",
    "syn_data = syn_data / norm_constant"
   ]
  },
  {
   "cell_type": "code",
   "execution_count": null,
   "id": "db9162ff",
   "metadata": {},
   "outputs": [],
   "source": [
    "metric_iteration = 5\n",
    "# predictive score\n",
    "predictive_score = list()\n",
    "for tt in range(metric_iteration):\n",
    "  temp_pred = predictive_score_metrics(ori_data, syn_data)\n",
    "  predictive_score.append(temp_pred)\n",
    "\n",
    "\n",
    "print('All the predictive scores:', predictive_score)\n",
    "print('Predictive avg. score: ' + str(np.round(np.mean(predictive_score), 4)))\n",
    "print('Predictive std. score: ' + str(np.round(np.std(predictive_score), 4)))"
   ]
  },
  {
   "cell_type": "code",
   "execution_count": null,
   "id": "90373058",
   "metadata": {
    "scrolled": true
   },
   "outputs": [],
   "source": [
    "# visualization\n",
    "visualization(ori_data, syn_data, 'pca')\n",
    "visualization(ori_data, syn_data, 'tsne')"
   ]
  },
  {
   "cell_type": "code",
   "execution_count": null,
   "id": "c9c419b7",
   "metadata": {},
   "outputs": [],
   "source": [
    "a = [0.1875, 0.1893, 0.1876, 0.1881, 0.1874]\n",
    "np.mean(a), np.std(a)"
   ]
  },
  {
   "cell_type": "code",
   "execution_count": null,
   "id": "367c7a2a",
   "metadata": {},
   "outputs": [],
   "source": []
  }
 ],
 "metadata": {
  "kernelspec": {
   "display_name": "Python 3",
   "language": "python",
   "name": "python3"
  },
  "language_info": {
   "codemirror_mode": {
    "name": "ipython",
    "version": 3
   },
   "file_extension": ".py",
   "mimetype": "text/x-python",
   "name": "python",
   "nbconvert_exporter": "python",
   "pygments_lexer": "ipython3",
   "version": "3.7.10"
  }
 },
 "nbformat": 4,
 "nbformat_minor": 5
}
