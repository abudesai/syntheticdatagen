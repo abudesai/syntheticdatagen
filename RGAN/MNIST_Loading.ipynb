{
 "cells": [
  {
   "cell_type": "code",
   "execution_count": 1,
   "id": "75fe694d",
   "metadata": {},
   "outputs": [
    {
     "name": "stdout",
     "output_type": "stream",
     "text": [
      "WARNING:tensorflow:From /data/home/stufs1/zuwang/dg21/RGAN/model.py:9: The name tf.logging.set_verbosity is deprecated. Please use tf.compat.v1.logging.set_verbosity instead.\n",
      "\n",
      "WARNING:tensorflow:From /data/home/stufs1/zuwang/dg21/RGAN/model.py:9: The name tf.logging.ERROR is deprecated. Please use tf.compat.v1.logging.ERROR instead.\n",
      "\n",
      "All imports worked\n"
     ]
    },
    {
     "name": "stderr",
     "output_type": "stream",
     "text": [
      "Using TensorFlow backend.\n"
     ]
    }
   ],
   "source": [
    "import numpy as np\n",
    "import tensorflow as tf\n",
    "import pdb, os\n",
    "import random\n",
    "import json\n",
    "from scipy.stats import mode\n",
    "\n",
    "import data_utils\n",
    "import plotting\n",
    "import model\n",
    "import utils\n",
    "import eval\n",
    "\n",
    "from time import time\n",
    "from math import floor\n",
    "from mmd import rbf_mmd2, median_pairwise_distance, mix_rbf_mmd2_and_ratio\n",
    "\n",
    "print(\"All imports worked\")"
   ]
  },
  {
   "cell_type": "code",
   "execution_count": 2,
   "id": "853fe27f",
   "metadata": {},
   "outputs": [],
   "source": [
    "os.environ[\"CUDA_DEVICE_ORDER\"]=\"PCI_BUS_ID\"\n",
    "os.environ['CUDA_VISIBLE_DEVICES'] = \"2\"\n",
    "config = tf.compat.v1.ConfigProto() # Another Version: config = tf.ConfigProto()\n",
    "config.gpu_options.allow_growth = True\n",
    "\n",
    "tf.logging.set_verbosity(tf.logging.ERROR)"
   ]
  },
  {
   "cell_type": "code",
   "execution_count": 3,
   "id": "b14cc063",
   "metadata": {},
   "outputs": [],
   "source": [
    "epoch = 450\n",
    "num_samples = 10\n",
    "idx=\"Test\"\n",
    "labs = np.array([0,1,2,3,4,5,6,7,8,9])\n",
    "settings = \"mnistfull_new\"\n",
    "set_file = json.load(open('./experiments/settings/' + settings + '.txt', 'r'))\n",
    "seq_length= set_file[\"seq_length\"]"
   ]
  },
  {
   "cell_type": "code",
   "execution_count": 4,
   "id": "be01ad47",
   "metadata": {},
   "outputs": [
    {
     "name": "stdout",
     "output_type": "stream",
     "text": [
      "Sampling 10 samples from mnistfull at epoch 450\n"
     ]
    },
    {
     "data": {
      "text/plain": [
       "(10, 28, 28)"
      ]
     },
     "execution_count": 4,
     "metadata": {},
     "output_type": "execute_result"
    }
   ],
   "source": [
    "synth_data = model.sample_trained_model(settings, epoch, num_samples)\n",
    "synth_data.shape"
   ]
  },
  {
   "cell_type": "code",
   "execution_count": null,
   "id": "a34f8bde",
   "metadata": {
    "scrolled": false
   },
   "outputs": [],
   "source": [
    "res1 = synth_data.reshape(num_samples, seq_length**2, 1)\n",
    "res1.shape"
   ]
  },
  {
   "cell_type": "code",
   "execution_count": null,
   "id": "8197d858",
   "metadata": {},
   "outputs": [],
   "source": [
    "idx=\"Test\"\n",
    "labs = np.array([0,1,2,3,4,5,6,7,8,9])\n",
    "\n",
    "plotting.save_mnist_plot_sample(synth_data.reshape(-1, seq_length**2, 1), idx,\"epoch450\", num_samples, labels=labs)"
   ]
  },
  {
   "cell_type": "code",
   "execution_count": 6,
   "id": "1be81e46",
   "metadata": {},
   "outputs": [
    {
     "data": {
      "text/plain": [
       "((60000, 785), (10000, 785))"
      ]
     },
     "execution_count": 6,
     "metadata": {},
     "output_type": "execute_result"
    }
   ],
   "source": [
    "# check the data stucture:\n",
    "\n",
    "src_path = \"/data/home/stufs1/zuwang/dg21/RGAN/experiments/data/\"\n",
    "\n",
    "file1 = \"mnist_train.csv\"\n",
    "file2 = \"mnist_test.csv\"\n",
    "\n",
    "data1 = np.loadtxt(os.path.join(src_path, file1), delimiter = \",\")\n",
    "data2 = np.loadtxt(os.path.join(src_path, file2), delimiter = \",\")\n",
    "\n",
    "data1.shape, data2.shape"
   ]
  },
  {
   "cell_type": "code",
   "execution_count": 7,
   "id": "b5799760",
   "metadata": {},
   "outputs": [
    {
     "data": {
      "text/plain": [
       "(60000, 785)"
      ]
     },
     "execution_count": 7,
     "metadata": {},
     "output_type": "execute_result"
    }
   ],
   "source": [
    "dfile1 = \"mnist_train.npy\" # convert train data from .csv to .npy\n",
    "dfile2 = \"mnistfull_data.npy\" # load the synthetic data from mnist\n",
    "\n",
    "syn_data1 = np.load(os.path.join(src_path, dfile1), allow_pickle=True)\n",
    "syn_data2 = np.load(os.path.join(src_path, dfile2), allow_pickle=True)\n",
    "\n",
    "syn_data1.shape"
   ]
  },
  {
   "cell_type": "code",
   "execution_count": null,
   "id": "b6ccfba2",
   "metadata": {},
   "outputs": [],
   "source": [
    "samples2 = syn_data2.item().get(\"samples\")"
   ]
  },
  {
   "cell_type": "code",
   "execution_count": null,
   "id": "fe17d683",
   "metadata": {},
   "outputs": [],
   "source": [
    "samples2.get(\"train\").shape, samples2.get(\"vali\").shape, samples2.get(\"test\").shape"
   ]
  },
  {
   "cell_type": "code",
   "execution_count": 8,
   "id": "8f7da283",
   "metadata": {},
   "outputs": [],
   "source": [
    "dfile3 = \"test.data.npy\" # because we set: num_samples = 14000\n",
    "dfile4 = \"sine-dim5.data.npy\"\n",
    "syn_data3 = np.load(os.path.join(src_path, dfile3), allow_pickle=True)\n",
    "syn_data4 = np.load(os.path.join(src_path, dfile4), allow_pickle=True)"
   ]
  },
  {
   "cell_type": "code",
   "execution_count": 9,
   "id": "47eb9f43",
   "metadata": {},
   "outputs": [
    {
     "data": {
      "text/plain": [
       "((8400, 30, 1), (2800, 30, 1), (2800, 30, 1))"
      ]
     },
     "execution_count": 9,
     "metadata": {},
     "output_type": "execute_result"
    }
   ],
   "source": [
    "samples3 = syn_data3.item().get(\"samples\")\n",
    "samples3.get(\"train\").shape, samples3.get(\"vali\").shape, samples3.get(\"test\").shape"
   ]
  },
  {
   "cell_type": "code",
   "execution_count": 10,
   "id": "eda05325",
   "metadata": {},
   "outputs": [
    {
     "data": {
      "text/plain": [
       "((8400, 30, 10), (2800, 30, 10), (2800, 30, 10))"
      ]
     },
     "execution_count": 10,
     "metadata": {},
     "output_type": "execute_result"
    }
   ],
   "source": [
    "samples4 = syn_data4.item().get(\"samples\")\n",
    "samples4.get(\"train\").shape, samples4.get(\"vali\").shape, samples4.get(\"test\").shape"
   ]
  },
  {
   "cell_type": "code",
   "execution_count": null,
   "id": "89454f6a",
   "metadata": {},
   "outputs": [],
   "source": [
    "8400+2800+2800"
   ]
  },
  {
   "cell_type": "code",
   "execution_count": 11,
   "id": "68616621",
   "metadata": {},
   "outputs": [
    {
     "data": {
      "text/plain": [
       "numpy.ndarray"
      ]
     },
     "execution_count": 11,
     "metadata": {},
     "output_type": "execute_result"
    }
   ],
   "source": [
    "r1 = samples4.get(\"train\")\n",
    "type(r1)"
   ]
  },
  {
   "cell_type": "code",
   "execution_count": null,
   "id": "0e2380be",
   "metadata": {},
   "outputs": [],
   "source": []
  }
 ],
 "metadata": {
  "kernelspec": {
   "display_name": "Python 3",
   "language": "python",
   "name": "python3"
  },
  "language_info": {
   "codemirror_mode": {
    "name": "ipython",
    "version": 3
   },
   "file_extension": ".py",
   "mimetype": "text/x-python",
   "name": "python",
   "nbconvert_exporter": "python",
   "pygments_lexer": "ipython3",
   "version": "3.6.13"
  }
 },
 "nbformat": 4,
 "nbformat_minor": 5
}
