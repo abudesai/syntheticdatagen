{
 "cells": [
  {
   "cell_type": "code",
   "execution_count": null,
   "id": "87245158",
   "metadata": {},
   "outputs": [],
   "source": [
    "import numpy as np\n",
    "import tensorflow as tf\n",
    "import pdb, os\n",
    "import random\n",
    "import json\n",
    "from scipy.stats import mode\n",
    "\n",
    "import data_utils\n",
    "import plotting\n",
    "import model\n",
    "import utils\n",
    "import eval\n",
    "\n",
    "from time import time\n",
    "from math import floor\n",
    "from mmd import rbf_mmd2, median_pairwise_distance, mix_rbf_mmd2_and_ratio\n",
    "\n",
    "print(\"All imports worked\")"
   ]
  },
  {
   "cell_type": "code",
   "execution_count": null,
   "id": "6ddd4a33",
   "metadata": {},
   "outputs": [],
   "source": [
    "os.environ[\"CUDA_DEVICE_ORDER\"]=\"PCI_BUS_ID\"\n",
    "os.environ['CUDA_VISIBLE_DEVICES'] = \"0\"\n",
    "config = tf.compat.v1.ConfigProto() # Another Version: config = tf.ConfigProto()\n",
    "config.gpu_options.allow_growth = True\n",
    "\n",
    "tf.logging.set_verbosity(tf.logging.ERROR)"
   ]
  },
  {
   "cell_type": "code",
   "execution_count": null,
   "id": "2c296d08",
   "metadata": {},
   "outputs": [],
   "source": [
    "epoch = 300\n",
    "num_samples = 391476 # same as Abu's data\n",
    "settings = \"stock\"\n",
    "set_file = json.load(open('./experiments/settings/' + settings + '.txt', 'r'))"
   ]
  },
  {
   "cell_type": "code",
   "execution_count": null,
   "id": "5a892850",
   "metadata": {
    "scrolled": true
   },
   "outputs": [],
   "source": [
    "synth_data = model.sample_trained_model(settings, epoch, num_samples)\n",
    "synth_data.shape"
   ]
  },
  {
   "cell_type": "code",
   "execution_count": null,
   "id": "969cc8a0",
   "metadata": {},
   "outputs": [],
   "source": [
    "tgt_path = \"./experiments/syn_data/\"\n",
    "tgt_file = \"rgan_stock_synth_data_epoch\" + str(epoch+1)\n",
    "np.save(os.path.join(tgt_path, tgt_file + \".npy\"), synth_data)\n",
    "print(\"save the generated data.\")"
   ]
  },
  {
   "cell_type": "code",
   "execution_count": null,
   "id": "7a166e8c",
   "metadata": {
    "scrolled": true
   },
   "outputs": [],
   "source": [
    "synth_data[-1]"
   ]
  },
  {
   "cell_type": "code",
   "execution_count": null,
   "id": "a16e4aa9",
   "metadata": {},
   "outputs": [],
   "source": [
    "src_path = \"/data/home/stufs1/zuwang/dg21/RGAN/experiments/data/\"\n",
    "dfile4 = \"stock.data.npy\"\n",
    "syn_data4 = np.load(os.path.join(src_path, dfile4), allow_pickle=True)\n",
    "samples4 = syn_data4.item().get(\"samples\")\n",
    "samples4.get(\"train\").shape, samples4.get(\"vali\").shape, samples4.get(\"test\").shape"
   ]
  },
  {
   "cell_type": "code",
   "execution_count": 1,
   "id": "52b6ddb1",
   "metadata": {},
   "outputs": [
    {
     "data": {
      "text/plain": [
       "3"
      ]
     },
     "execution_count": 1,
     "metadata": {},
     "output_type": "execute_result"
    }
   ],
   "source": [
    "import numpy as np\n",
    "\n",
    "a = np.array([1,2,3])\n",
    "len(a)"
   ]
  },
  {
   "cell_type": "code",
   "execution_count": 4,
   "id": "8e3fadc0",
   "metadata": {},
   "outputs": [
    {
     "data": {
      "text/plain": [
       "(0.21083602375202312, 4.6425785041758844e-05)"
      ]
     },
     "execution_count": 4,
     "metadata": {},
     "output_type": "execute_result"
    }
   ],
   "source": [
    "import numpy as np\n",
    "\n",
    "a = [0.2107442882290617, 0.21084506669806793, 0.21086398049114824, 0.21086341722140356, 0.21086336612043433]\n",
    "np.mean(a), np.std(a)"
   ]
  },
  {
   "cell_type": "code",
   "execution_count": null,
   "id": "324c8a07",
   "metadata": {},
   "outputs": [],
   "source": []
  }
 ],
 "metadata": {
  "kernelspec": {
   "display_name": "Python 3",
   "language": "python",
   "name": "python3"
  },
  "language_info": {
   "codemirror_mode": {
    "name": "ipython",
    "version": 3
   },
   "file_extension": ".py",
   "mimetype": "text/x-python",
   "name": "python",
   "nbconvert_exporter": "python",
   "pygments_lexer": "ipython3",
   "version": "3.6.13"
  }
 },
 "nbformat": 4,
 "nbformat_minor": 5
}
